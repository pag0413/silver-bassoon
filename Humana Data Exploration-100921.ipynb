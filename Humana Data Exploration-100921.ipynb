{
 "cells": [
  {
   "cell_type": "code",
   "execution_count": 1,
   "metadata": {},
   "outputs": [],
   "source": [
    "import numpy as np\n",
    "import pandas as pd\n",
    "import matplotlib.pyplot as plt\n",
    "import random\n",
    "\n",
    "from sklearn.preprocessing import OneHotEncoder\n",
    "from sklearn.ensemble import RandomForestClassifier\n",
    "from sklearn.model_selection import train_test_split\n",
    "from sklearn.model_selection import cross_val_score\n",
    "from sklearn.model_selection import GridSearchCV\n",
    "from sklearn.metrics import roc_curve, plot_roc_curve, accuracy_score, roc_auc_score, confusion_matrix\n",
    "\n",
    "import xgboost as xgb\n",
    "from xgboost.sklearn import XGBClassifier"
   ]
  },
  {
   "cell_type": "code",
   "execution_count": null,
   "metadata": {},
   "outputs": [],
   "source": [
    "# loading full dataset\n",
    "#df = pd.read_csv(\"2021_Competition_Training.csv\")"
   ]
  },
  {
   "cell_type": "code",
   "execution_count": null,
   "metadata": {},
   "outputs": [],
   "source": [
    "#Creating the Humana_Small.csv dataset\n",
    "\n",
    "#filename = \"2021_Competition_Training.csv\" \n",
    "#n = sum(1 for line in open(filename))-1  # Calculate number of rows in file\n",
    "#s = n//10  # sample size of 10%\n",
    "#skip = sorted(random.sample(range(1, n+1), n-s))  # n+1 to compensate for header \n",
    "#df = pd.read_csv(filename, skiprows=skip)\n"
   ]
  },
  {
   "cell_type": "code",
   "execution_count": null,
   "metadata": {},
   "outputs": [],
   "source": [
    "#df.to_csv(\"Humana_Training_small.csv\")"
   ]
  },
  {
   "cell_type": "code",
   "execution_count": 2,
   "metadata": {},
   "outputs": [
    {
     "name": "stderr",
     "output_type": "stream",
     "text": [
      "C:\\Users\\patri\\Anaconda3\\lib\\site-packages\\IPython\\core\\interactiveshell.py:3071: DtypeWarning: Columns (2,8,11,13,15,18,24,26,27,28,30,50,53,57,59,61,70,80,96,117,127,151,163,169,181,198,199,200,204,208,221,234,241,246,266,276,284,285,288,299,310,319,320,328,330) have mixed types.Specify dtype option on import or set low_memory=False.\n",
      "  has_raised = await self.run_ast_nodes(code_ast.body, cell_name,\n"
     ]
    },
    {
     "data": {
      "text/html": [
       "<div>\n",
       "<style scoped>\n",
       "    .dataframe tbody tr th:only-of-type {\n",
       "        vertical-align: middle;\n",
       "    }\n",
       "\n",
       "    .dataframe tbody tr th {\n",
       "        vertical-align: top;\n",
       "    }\n",
       "\n",
       "    .dataframe thead th {\n",
       "        text-align: right;\n",
       "    }\n",
       "</style>\n",
       "<table border=\"1\" class=\"dataframe\">\n",
       "  <thead>\n",
       "    <tr style=\"text-align: right;\">\n",
       "      <th></th>\n",
       "      <th>Unnamed: 0</th>\n",
       "      <th>ID</th>\n",
       "      <th>auth_3mth_post_acute_dia</th>\n",
       "      <th>rx_gpi2_72_pmpm_cost_6to9m_b4</th>\n",
       "      <th>atlas_pct_laccess_child15</th>\n",
       "      <th>atlas_recfacpth14</th>\n",
       "      <th>atlas_pct_fmrkt_frveg16</th>\n",
       "      <th>atlas_pct_free_lunch14</th>\n",
       "      <th>bh_ip_snf_net_paid_pmpm_cost_9to12m_b4</th>\n",
       "      <th>auth_3mth_acute_ckd</th>\n",
       "      <th>...</th>\n",
       "      <th>auth_3mth_post_acute_end</th>\n",
       "      <th>auth_3mth_acute_mus</th>\n",
       "      <th>atlas_perpov_1980_0711</th>\n",
       "      <th>atlas_pct_laccess_white15</th>\n",
       "      <th>auth_3mth_post_acute_mean_los</th>\n",
       "      <th>rx_gpi2_66_pmpm_ct</th>\n",
       "      <th>auth_3mth_acute_gus</th>\n",
       "      <th>rx_generic_dist_gpi6_pmpm_ct_t_9-6-3m_b4</th>\n",
       "      <th>atlas_low_education_2015_update</th>\n",
       "      <th>race_cd</th>\n",
       "    </tr>\n",
       "  </thead>\n",
       "  <tbody>\n",
       "    <tr>\n",
       "      <th>0</th>\n",
       "      <td>0</td>\n",
       "      <td>0M9811Ocb1ST94LY3f5A9I00</td>\n",
       "      <td>0</td>\n",
       "      <td>0.00</td>\n",
       "      <td>0.618606</td>\n",
       "      <td>0.074862</td>\n",
       "      <td>88.272489</td>\n",
       "      <td>36.298252</td>\n",
       "      <td>0.0</td>\n",
       "      <td>0</td>\n",
       "      <td>...</td>\n",
       "      <td>0</td>\n",
       "      <td>0</td>\n",
       "      <td>0.0</td>\n",
       "      <td>33.795298</td>\n",
       "      <td>0.0</td>\n",
       "      <td>0.000000</td>\n",
       "      <td>0</td>\n",
       "      <td>Dec_1x-2x</td>\n",
       "      <td>0.0</td>\n",
       "      <td>1.0</td>\n",
       "    </tr>\n",
       "    <tr>\n",
       "      <th>1</th>\n",
       "      <td>1</td>\n",
       "      <td>McO36STd78Lc1cfYbb3aaeAI</td>\n",
       "      <td>0</td>\n",
       "      <td>0.00</td>\n",
       "      <td>7.792994</td>\n",
       "      <td>0.092192</td>\n",
       "      <td>87.500000</td>\n",
       "      <td>39.601099</td>\n",
       "      <td>NaN</td>\n",
       "      <td>0</td>\n",
       "      <td>...</td>\n",
       "      <td>0</td>\n",
       "      <td>0</td>\n",
       "      <td>0.0</td>\n",
       "      <td>21.427537</td>\n",
       "      <td>0.0</td>\n",
       "      <td>0.166667</td>\n",
       "      <td>0</td>\n",
       "      <td>New</td>\n",
       "      <td>0.0</td>\n",
       "      <td>1.0</td>\n",
       "    </tr>\n",
       "    <tr>\n",
       "      <th>2</th>\n",
       "      <td>2</td>\n",
       "      <td>aMO5Sfba593T616LYf382AI1</td>\n",
       "      <td>0</td>\n",
       "      <td>0.00</td>\n",
       "      <td>4.016513</td>\n",
       "      <td>0.096272</td>\n",
       "      <td>0.000000</td>\n",
       "      <td>26.716726</td>\n",
       "      <td>0.0</td>\n",
       "      <td>0</td>\n",
       "      <td>...</td>\n",
       "      <td>0</td>\n",
       "      <td>0</td>\n",
       "      <td>0.0</td>\n",
       "      <td>22.941176</td>\n",
       "      <td>0.0</td>\n",
       "      <td>0.000000</td>\n",
       "      <td>0</td>\n",
       "      <td>Dec_1x-2x</td>\n",
       "      <td>0.0</td>\n",
       "      <td>1.0</td>\n",
       "    </tr>\n",
       "    <tr>\n",
       "      <th>3</th>\n",
       "      <td>3</td>\n",
       "      <td>7e52M0O27b6STLY94AI8c0b0</td>\n",
       "      <td>0</td>\n",
       "      <td>5.57</td>\n",
       "      <td>5.203088</td>\n",
       "      <td>NaN</td>\n",
       "      <td>NaN</td>\n",
       "      <td>NaN</td>\n",
       "      <td>0.0</td>\n",
       "      <td>0</td>\n",
       "      <td>...</td>\n",
       "      <td>0</td>\n",
       "      <td>0</td>\n",
       "      <td>NaN</td>\n",
       "      <td>NaN</td>\n",
       "      <td>0.0</td>\n",
       "      <td>0.000000</td>\n",
       "      <td>0</td>\n",
       "      <td>No_Change</td>\n",
       "      <td>NaN</td>\n",
       "      <td>5.0</td>\n",
       "    </tr>\n",
       "    <tr>\n",
       "      <th>4</th>\n",
       "      <td>4</td>\n",
       "      <td>18cM8e1OS1T97LeY85dAaefI</td>\n",
       "      <td>0</td>\n",
       "      <td>0.00</td>\n",
       "      <td>4.621964</td>\n",
       "      <td>0.071283</td>\n",
       "      <td>0.000000</td>\n",
       "      <td>37.255197</td>\n",
       "      <td>0.0</td>\n",
       "      <td>0</td>\n",
       "      <td>...</td>\n",
       "      <td>0</td>\n",
       "      <td>0</td>\n",
       "      <td>0.0</td>\n",
       "      <td>0.844987</td>\n",
       "      <td>0.0</td>\n",
       "      <td>0.000000</td>\n",
       "      <td>0</td>\n",
       "      <td>Dec_1x-2x</td>\n",
       "      <td>0.0</td>\n",
       "      <td>1.0</td>\n",
       "    </tr>\n",
       "  </tbody>\n",
       "</table>\n",
       "<p>5 rows × 342 columns</p>\n",
       "</div>"
      ],
      "text/plain": [
       "   Unnamed: 0                        ID auth_3mth_post_acute_dia  \\\n",
       "0           0  0M9811Ocb1ST94LY3f5A9I00                        0   \n",
       "1           1  McO36STd78Lc1cfYbb3aaeAI                        0   \n",
       "2           2  aMO5Sfba593T616LYf382AI1                        0   \n",
       "3           3  7e52M0O27b6STLY94AI8c0b0                        0   \n",
       "4           4  18cM8e1OS1T97LeY85dAaefI                        0   \n",
       "\n",
       "   rx_gpi2_72_pmpm_cost_6to9m_b4  atlas_pct_laccess_child15  \\\n",
       "0                           0.00                   0.618606   \n",
       "1                           0.00                   7.792994   \n",
       "2                           0.00                   4.016513   \n",
       "3                           5.57                   5.203088   \n",
       "4                           0.00                   4.621964   \n",
       "\n",
       "   atlas_recfacpth14  atlas_pct_fmrkt_frveg16  atlas_pct_free_lunch14  \\\n",
       "0           0.074862                88.272489               36.298252   \n",
       "1           0.092192                87.500000               39.601099   \n",
       "2           0.096272                 0.000000               26.716726   \n",
       "3                NaN                      NaN                     NaN   \n",
       "4           0.071283                 0.000000               37.255197   \n",
       "\n",
       "  bh_ip_snf_net_paid_pmpm_cost_9to12m_b4  auth_3mth_acute_ckd  ...  \\\n",
       "0                                    0.0                    0  ...   \n",
       "1                                    NaN                    0  ...   \n",
       "2                                    0.0                    0  ...   \n",
       "3                                    0.0                    0  ...   \n",
       "4                                    0.0                    0  ...   \n",
       "\n",
       "   auth_3mth_post_acute_end auth_3mth_acute_mus atlas_perpov_1980_0711  \\\n",
       "0                         0                   0                    0.0   \n",
       "1                         0                   0                    0.0   \n",
       "2                         0                   0                    0.0   \n",
       "3                         0                   0                    NaN   \n",
       "4                         0                   0                    0.0   \n",
       "\n",
       "  atlas_pct_laccess_white15 auth_3mth_post_acute_mean_los rx_gpi2_66_pmpm_ct  \\\n",
       "0                 33.795298                           0.0           0.000000   \n",
       "1                 21.427537                           0.0           0.166667   \n",
       "2                 22.941176                           0.0           0.000000   \n",
       "3                       NaN                           0.0           0.000000   \n",
       "4                  0.844987                           0.0           0.000000   \n",
       "\n",
       "  auth_3mth_acute_gus  rx_generic_dist_gpi6_pmpm_ct_t_9-6-3m_b4  \\\n",
       "0                   0                                 Dec_1x-2x   \n",
       "1                   0                                       New   \n",
       "2                   0                                 Dec_1x-2x   \n",
       "3                   0                                 No_Change   \n",
       "4                   0                                 Dec_1x-2x   \n",
       "\n",
       "  atlas_low_education_2015_update  race_cd  \n",
       "0                             0.0      1.0  \n",
       "1                             0.0      1.0  \n",
       "2                             0.0      1.0  \n",
       "3                             NaN      5.0  \n",
       "4                             0.0      1.0  \n",
       "\n",
       "[5 rows x 342 columns]"
      ]
     },
     "execution_count": 2,
     "metadata": {},
     "output_type": "execute_result"
    }
   ],
   "source": [
    "df = pd.read_csv(\"df_reduced.csv\")\n",
    "df.head()"
   ]
  },
  {
   "cell_type": "code",
   "execution_count": 3,
   "metadata": {},
   "outputs": [
    {
     "data": {
      "text/html": [
       "<div>\n",
       "<style scoped>\n",
       "    .dataframe tbody tr th:only-of-type {\n",
       "        vertical-align: middle;\n",
       "    }\n",
       "\n",
       "    .dataframe tbody tr th {\n",
       "        vertical-align: top;\n",
       "    }\n",
       "\n",
       "    .dataframe thead th {\n",
       "        text-align: right;\n",
       "    }\n",
       "</style>\n",
       "<table border=\"1\" class=\"dataframe\">\n",
       "  <thead>\n",
       "    <tr style=\"text-align: right;\">\n",
       "      <th></th>\n",
       "      <th>Unnamed: 0</th>\n",
       "      <th>auth_3mth_post_acute_dia</th>\n",
       "      <th>rx_gpi2_72_pmpm_cost_6to9m_b4</th>\n",
       "      <th>atlas_pct_laccess_child15</th>\n",
       "      <th>atlas_recfacpth14</th>\n",
       "      <th>atlas_pct_fmrkt_frveg16</th>\n",
       "      <th>atlas_pct_free_lunch14</th>\n",
       "      <th>bh_ip_snf_net_paid_pmpm_cost_9to12m_b4</th>\n",
       "      <th>auth_3mth_acute_ckd</th>\n",
       "      <th>bh_ncal_pmpm_ct</th>\n",
       "      <th>...</th>\n",
       "      <th>auth_3mth_post_acute_end</th>\n",
       "      <th>auth_3mth_acute_mus</th>\n",
       "      <th>atlas_perpov_1980_0711</th>\n",
       "      <th>atlas_pct_laccess_white15</th>\n",
       "      <th>auth_3mth_post_acute_mean_los</th>\n",
       "      <th>rx_gpi2_66_pmpm_ct</th>\n",
       "      <th>auth_3mth_acute_gus</th>\n",
       "      <th>rx_generic_dist_gpi6_pmpm_ct_t_9-6-3m_b4</th>\n",
       "      <th>atlas_low_education_2015_update</th>\n",
       "      <th>race_cd</th>\n",
       "    </tr>\n",
       "    <tr>\n",
       "      <th>ID</th>\n",
       "      <th></th>\n",
       "      <th></th>\n",
       "      <th></th>\n",
       "      <th></th>\n",
       "      <th></th>\n",
       "      <th></th>\n",
       "      <th></th>\n",
       "      <th></th>\n",
       "      <th></th>\n",
       "      <th></th>\n",
       "      <th></th>\n",
       "      <th></th>\n",
       "      <th></th>\n",
       "      <th></th>\n",
       "      <th></th>\n",
       "      <th></th>\n",
       "      <th></th>\n",
       "      <th></th>\n",
       "      <th></th>\n",
       "      <th></th>\n",
       "      <th></th>\n",
       "    </tr>\n",
       "  </thead>\n",
       "  <tbody>\n",
       "    <tr>\n",
       "      <th>0M9811Ocb1ST94LY3f5A9I00</th>\n",
       "      <td>0</td>\n",
       "      <td>0</td>\n",
       "      <td>0.00</td>\n",
       "      <td>0.618606</td>\n",
       "      <td>0.074862</td>\n",
       "      <td>88.272489</td>\n",
       "      <td>36.298252</td>\n",
       "      <td>0.0</td>\n",
       "      <td>0</td>\n",
       "      <td>0.0</td>\n",
       "      <td>...</td>\n",
       "      <td>0</td>\n",
       "      <td>0</td>\n",
       "      <td>0.0</td>\n",
       "      <td>33.795298</td>\n",
       "      <td>0.0</td>\n",
       "      <td>0.000000</td>\n",
       "      <td>0</td>\n",
       "      <td>Dec_1x-2x</td>\n",
       "      <td>0.0</td>\n",
       "      <td>1.0</td>\n",
       "    </tr>\n",
       "    <tr>\n",
       "      <th>McO36STd78Lc1cfYbb3aaeAI</th>\n",
       "      <td>1</td>\n",
       "      <td>0</td>\n",
       "      <td>0.00</td>\n",
       "      <td>7.792994</td>\n",
       "      <td>0.092192</td>\n",
       "      <td>87.500000</td>\n",
       "      <td>39.601099</td>\n",
       "      <td>NaN</td>\n",
       "      <td>0</td>\n",
       "      <td>0.0</td>\n",
       "      <td>...</td>\n",
       "      <td>0</td>\n",
       "      <td>0</td>\n",
       "      <td>0.0</td>\n",
       "      <td>21.427537</td>\n",
       "      <td>0.0</td>\n",
       "      <td>0.166667</td>\n",
       "      <td>0</td>\n",
       "      <td>New</td>\n",
       "      <td>0.0</td>\n",
       "      <td>1.0</td>\n",
       "    </tr>\n",
       "    <tr>\n",
       "      <th>aMO5Sfba593T616LYf382AI1</th>\n",
       "      <td>2</td>\n",
       "      <td>0</td>\n",
       "      <td>0.00</td>\n",
       "      <td>4.016513</td>\n",
       "      <td>0.096272</td>\n",
       "      <td>0.000000</td>\n",
       "      <td>26.716726</td>\n",
       "      <td>0.0</td>\n",
       "      <td>0</td>\n",
       "      <td>0.0</td>\n",
       "      <td>...</td>\n",
       "      <td>0</td>\n",
       "      <td>0</td>\n",
       "      <td>0.0</td>\n",
       "      <td>22.941176</td>\n",
       "      <td>0.0</td>\n",
       "      <td>0.000000</td>\n",
       "      <td>0</td>\n",
       "      <td>Dec_1x-2x</td>\n",
       "      <td>0.0</td>\n",
       "      <td>1.0</td>\n",
       "    </tr>\n",
       "    <tr>\n",
       "      <th>7e52M0O27b6STLY94AI8c0b0</th>\n",
       "      <td>3</td>\n",
       "      <td>0</td>\n",
       "      <td>5.57</td>\n",
       "      <td>5.203088</td>\n",
       "      <td>NaN</td>\n",
       "      <td>NaN</td>\n",
       "      <td>NaN</td>\n",
       "      <td>0.0</td>\n",
       "      <td>0</td>\n",
       "      <td>0.0</td>\n",
       "      <td>...</td>\n",
       "      <td>0</td>\n",
       "      <td>0</td>\n",
       "      <td>NaN</td>\n",
       "      <td>NaN</td>\n",
       "      <td>0.0</td>\n",
       "      <td>0.000000</td>\n",
       "      <td>0</td>\n",
       "      <td>No_Change</td>\n",
       "      <td>NaN</td>\n",
       "      <td>5.0</td>\n",
       "    </tr>\n",
       "    <tr>\n",
       "      <th>18cM8e1OS1T97LeY85dAaefI</th>\n",
       "      <td>4</td>\n",
       "      <td>0</td>\n",
       "      <td>0.00</td>\n",
       "      <td>4.621964</td>\n",
       "      <td>0.071283</td>\n",
       "      <td>0.000000</td>\n",
       "      <td>37.255197</td>\n",
       "      <td>0.0</td>\n",
       "      <td>0</td>\n",
       "      <td>0.0</td>\n",
       "      <td>...</td>\n",
       "      <td>0</td>\n",
       "      <td>0</td>\n",
       "      <td>0.0</td>\n",
       "      <td>0.844987</td>\n",
       "      <td>0.0</td>\n",
       "      <td>0.000000</td>\n",
       "      <td>0</td>\n",
       "      <td>Dec_1x-2x</td>\n",
       "      <td>0.0</td>\n",
       "      <td>1.0</td>\n",
       "    </tr>\n",
       "  </tbody>\n",
       "</table>\n",
       "<p>5 rows × 341 columns</p>\n",
       "</div>"
      ],
      "text/plain": [
       "                          Unnamed: 0 auth_3mth_post_acute_dia  \\\n",
       "ID                                                              \n",
       "0M9811Ocb1ST94LY3f5A9I00           0                        0   \n",
       "McO36STd78Lc1cfYbb3aaeAI           1                        0   \n",
       "aMO5Sfba593T616LYf382AI1           2                        0   \n",
       "7e52M0O27b6STLY94AI8c0b0           3                        0   \n",
       "18cM8e1OS1T97LeY85dAaefI           4                        0   \n",
       "\n",
       "                          rx_gpi2_72_pmpm_cost_6to9m_b4  \\\n",
       "ID                                                        \n",
       "0M9811Ocb1ST94LY3f5A9I00                           0.00   \n",
       "McO36STd78Lc1cfYbb3aaeAI                           0.00   \n",
       "aMO5Sfba593T616LYf382AI1                           0.00   \n",
       "7e52M0O27b6STLY94AI8c0b0                           5.57   \n",
       "18cM8e1OS1T97LeY85dAaefI                           0.00   \n",
       "\n",
       "                          atlas_pct_laccess_child15  atlas_recfacpth14  \\\n",
       "ID                                                                       \n",
       "0M9811Ocb1ST94LY3f5A9I00                   0.618606           0.074862   \n",
       "McO36STd78Lc1cfYbb3aaeAI                   7.792994           0.092192   \n",
       "aMO5Sfba593T616LYf382AI1                   4.016513           0.096272   \n",
       "7e52M0O27b6STLY94AI8c0b0                   5.203088                NaN   \n",
       "18cM8e1OS1T97LeY85dAaefI                   4.621964           0.071283   \n",
       "\n",
       "                          atlas_pct_fmrkt_frveg16  atlas_pct_free_lunch14  \\\n",
       "ID                                                                          \n",
       "0M9811Ocb1ST94LY3f5A9I00                88.272489               36.298252   \n",
       "McO36STd78Lc1cfYbb3aaeAI                87.500000               39.601099   \n",
       "aMO5Sfba593T616LYf382AI1                 0.000000               26.716726   \n",
       "7e52M0O27b6STLY94AI8c0b0                      NaN                     NaN   \n",
       "18cM8e1OS1T97LeY85dAaefI                 0.000000               37.255197   \n",
       "\n",
       "                         bh_ip_snf_net_paid_pmpm_cost_9to12m_b4  \\\n",
       "ID                                                                \n",
       "0M9811Ocb1ST94LY3f5A9I00                                    0.0   \n",
       "McO36STd78Lc1cfYbb3aaeAI                                    NaN   \n",
       "aMO5Sfba593T616LYf382AI1                                    0.0   \n",
       "7e52M0O27b6STLY94AI8c0b0                                    0.0   \n",
       "18cM8e1OS1T97LeY85dAaefI                                    0.0   \n",
       "\n",
       "                          auth_3mth_acute_ckd  bh_ncal_pmpm_ct  ...  \\\n",
       "ID                                                              ...   \n",
       "0M9811Ocb1ST94LY3f5A9I00                    0              0.0  ...   \n",
       "McO36STd78Lc1cfYbb3aaeAI                    0              0.0  ...   \n",
       "aMO5Sfba593T616LYf382AI1                    0              0.0  ...   \n",
       "7e52M0O27b6STLY94AI8c0b0                    0              0.0  ...   \n",
       "18cM8e1OS1T97LeY85dAaefI                    0              0.0  ...   \n",
       "\n",
       "                         auth_3mth_post_acute_end auth_3mth_acute_mus  \\\n",
       "ID                                                                      \n",
       "0M9811Ocb1ST94LY3f5A9I00                        0                   0   \n",
       "McO36STd78Lc1cfYbb3aaeAI                        0                   0   \n",
       "aMO5Sfba593T616LYf382AI1                        0                   0   \n",
       "7e52M0O27b6STLY94AI8c0b0                        0                   0   \n",
       "18cM8e1OS1T97LeY85dAaefI                        0                   0   \n",
       "\n",
       "                         atlas_perpov_1980_0711 atlas_pct_laccess_white15  \\\n",
       "ID                                                                          \n",
       "0M9811Ocb1ST94LY3f5A9I00                    0.0                 33.795298   \n",
       "McO36STd78Lc1cfYbb3aaeAI                    0.0                 21.427537   \n",
       "aMO5Sfba593T616LYf382AI1                    0.0                 22.941176   \n",
       "7e52M0O27b6STLY94AI8c0b0                    NaN                       NaN   \n",
       "18cM8e1OS1T97LeY85dAaefI                    0.0                  0.844987   \n",
       "\n",
       "                         auth_3mth_post_acute_mean_los rx_gpi2_66_pmpm_ct  \\\n",
       "ID                                                                          \n",
       "0M9811Ocb1ST94LY3f5A9I00                           0.0           0.000000   \n",
       "McO36STd78Lc1cfYbb3aaeAI                           0.0           0.166667   \n",
       "aMO5Sfba593T616LYf382AI1                           0.0           0.000000   \n",
       "7e52M0O27b6STLY94AI8c0b0                           0.0           0.000000   \n",
       "18cM8e1OS1T97LeY85dAaefI                           0.0           0.000000   \n",
       "\n",
       "                          auth_3mth_acute_gus  \\\n",
       "ID                                              \n",
       "0M9811Ocb1ST94LY3f5A9I00                    0   \n",
       "McO36STd78Lc1cfYbb3aaeAI                    0   \n",
       "aMO5Sfba593T616LYf382AI1                    0   \n",
       "7e52M0O27b6STLY94AI8c0b0                    0   \n",
       "18cM8e1OS1T97LeY85dAaefI                    0   \n",
       "\n",
       "                         rx_generic_dist_gpi6_pmpm_ct_t_9-6-3m_b4  \\\n",
       "ID                                                                  \n",
       "0M9811Ocb1ST94LY3f5A9I00                                Dec_1x-2x   \n",
       "McO36STd78Lc1cfYbb3aaeAI                                      New   \n",
       "aMO5Sfba593T616LYf382AI1                                Dec_1x-2x   \n",
       "7e52M0O27b6STLY94AI8c0b0                                No_Change   \n",
       "18cM8e1OS1T97LeY85dAaefI                                Dec_1x-2x   \n",
       "\n",
       "                          atlas_low_education_2015_update  race_cd  \n",
       "ID                                                                  \n",
       "0M9811Ocb1ST94LY3f5A9I00                              0.0      1.0  \n",
       "McO36STd78Lc1cfYbb3aaeAI                              0.0      1.0  \n",
       "aMO5Sfba593T616LYf382AI1                              0.0      1.0  \n",
       "7e52M0O27b6STLY94AI8c0b0                              NaN      5.0  \n",
       "18cM8e1OS1T97LeY85dAaefI                              0.0      1.0  \n",
       "\n",
       "[5 rows x 341 columns]"
      ]
     },
     "execution_count": 3,
     "metadata": {},
     "output_type": "execute_result"
    }
   ],
   "source": [
    "df.set_index([\"ID\"], inplace = True)\n",
    "df.head()"
   ]
  },
  {
   "cell_type": "code",
   "execution_count": 4,
   "metadata": {},
   "outputs": [],
   "source": [
    "df = df.drop([\"rx_generic_dist_gpi6_pmpm_ct_t_9-6-3m_b4\", \"Unnamed: 0\"], axis = 1)"
   ]
  },
  {
   "cell_type": "code",
   "execution_count": 5,
   "metadata": {},
   "outputs": [
    {
     "name": "stdout",
     "output_type": "stream",
     "text": [
      "['0', '0', '1', '0', '0']\n",
      "ID\n",
      "0M9811Ocb1ST94LY3f5A9I00    no_vacc\n",
      "McO36STd78Lc1cfYbb3aaeAI    no_vacc\n",
      "aMO5Sfba593T616LYf382AI1       vacc\n",
      "7e52M0O27b6STLY94AI8c0b0    no_vacc\n",
      "18cM8e1OS1T97LeY85dAaefI    no_vacc\n",
      "Name: covid_vaccination, dtype: object\n"
     ]
    }
   ],
   "source": [
    "#dividing into features and labels\n",
    "reduced = df.copy() \n",
    "x= reduced.loc[:, reduced.columns != 'covid_vaccination']\n",
    "y = reduced['covid_vaccination']\n",
    "y = [\"1\" if i == \"vacc\" else \"0\" for i in y]\n",
    "print(y[:5])\n",
    "print(reduced['covid_vaccination'][:5])"
   ]
  },
  {
   "cell_type": "code",
   "execution_count": 9,
   "metadata": {},
   "outputs": [
    {
     "data": {
      "text/plain": [
       "(97484, 1165)"
      ]
     },
     "execution_count": 9,
     "metadata": {},
     "output_type": "execute_result"
    }
   ],
   "source": [
    "\n",
    "x = pd.get_dummies(x)\n",
    "x.shape\n"
   ]
  },
  {
   "cell_type": "code",
   "execution_count": 8,
   "metadata": {},
   "outputs": [
    {
     "data": {
      "text/plain": [
       "(97484, 978)"
      ]
     },
     "execution_count": 8,
     "metadata": {},
     "output_type": "execute_result"
    }
   ],
   "source": [
    "x_no_dup = x.copy()\n",
    "x_no_dup = x_no_dup.loc[:,~x_no_dup.columns.duplicated()]\n",
    "x_no_dup.shape\n",
    "x"
   ]
  },
  {
   "cell_type": "code",
   "execution_count": 10,
   "metadata": {},
   "outputs": [
    {
     "name": "stdout",
     "output_type": "stream",
     "text": [
      "(77987, 978) (19497, 978)\n",
      "['1', '0', '0', '0', '0']\n"
     ]
    }
   ],
   "source": [
    "#split into train and test datasets\n",
    "\n",
    "x_train, x_test, y_train, y_test = train_test_split(x_no_dup,y,test_size = 0.2, random_state = 42)\n",
    "print(x_train.shape,x_test.shape)\n",
    "print(y_test[0:5])"
   ]
  },
  {
   "cell_type": "code",
   "execution_count": 11,
   "metadata": {},
   "outputs": [
    {
     "name": "stderr",
     "output_type": "stream",
     "text": [
      "C:\\Users\\patri\\Anaconda3\\lib\\site-packages\\xgboost\\sklearn.py:1146: UserWarning: The use of label encoder in XGBClassifier is deprecated and will be removed in a future release. To remove this warning, do the following: 1) Pass option use_label_encoder=False when constructing XGBClassifier object; and 2) Encode your labels (y) as integers starting with 0, i.e. 0, 1, 2, ..., [num_class - 1].\n",
      "  warnings.warn(label_encoder_deprecation_msg, UserWarning)\n"
     ]
    },
    {
     "name": "stdout",
     "output_type": "stream",
     "text": [
      "[14:38:49] WARNING: C:/Users/Administrator/workspace/xgboost-win64_release_1.4.0/src/learner.cc:1095: Starting in XGBoost 1.3.0, the default evaluation metric used with the objective 'binary:logistic' was changed from 'error' to 'logloss'. Explicitly set eval_metric if you'd like to restore the old behavior.\n"
     ]
    },
    {
     "name": "stderr",
     "output_type": "stream",
     "text": [
      "C:\\Users\\patri\\Anaconda3\\lib\\site-packages\\xgboost\\sklearn.py:1146: UserWarning: The use of label encoder in XGBClassifier is deprecated and will be removed in a future release. To remove this warning, do the following: 1) Pass option use_label_encoder=False when constructing XGBClassifier object; and 2) Encode your labels (y) as integers starting with 0, i.e. 0, 1, 2, ..., [num_class - 1].\n",
      "  warnings.warn(label_encoder_deprecation_msg, UserWarning)\n"
     ]
    },
    {
     "name": "stdout",
     "output_type": "stream",
     "text": [
      "[14:40:00] WARNING: C:/Users/Administrator/workspace/xgboost-win64_release_1.4.0/src/learner.cc:1095: Starting in XGBoost 1.3.0, the default evaluation metric used with the objective 'binary:logistic' was changed from 'error' to 'logloss'. Explicitly set eval_metric if you'd like to restore the old behavior.\n"
     ]
    },
    {
     "name": "stderr",
     "output_type": "stream",
     "text": [
      "C:\\Users\\patri\\Anaconda3\\lib\\site-packages\\xgboost\\sklearn.py:1146: UserWarning: The use of label encoder in XGBClassifier is deprecated and will be removed in a future release. To remove this warning, do the following: 1) Pass option use_label_encoder=False when constructing XGBClassifier object; and 2) Encode your labels (y) as integers starting with 0, i.e. 0, 1, 2, ..., [num_class - 1].\n",
      "  warnings.warn(label_encoder_deprecation_msg, UserWarning)\n"
     ]
    },
    {
     "name": "stdout",
     "output_type": "stream",
     "text": [
      "[14:41:25] WARNING: C:/Users/Administrator/workspace/xgboost-win64_release_1.4.0/src/learner.cc:1095: Starting in XGBoost 1.3.0, the default evaluation metric used with the objective 'binary:logistic' was changed from 'error' to 'logloss'. Explicitly set eval_metric if you'd like to restore the old behavior.\n"
     ]
    },
    {
     "name": "stderr",
     "output_type": "stream",
     "text": [
      "C:\\Users\\patri\\Anaconda3\\lib\\site-packages\\xgboost\\sklearn.py:1146: UserWarning: The use of label encoder in XGBClassifier is deprecated and will be removed in a future release. To remove this warning, do the following: 1) Pass option use_label_encoder=False when constructing XGBClassifier object; and 2) Encode your labels (y) as integers starting with 0, i.e. 0, 1, 2, ..., [num_class - 1].\n",
      "  warnings.warn(label_encoder_deprecation_msg, UserWarning)\n"
     ]
    },
    {
     "name": "stdout",
     "output_type": "stream",
     "text": [
      "[14:42:55] WARNING: C:/Users/Administrator/workspace/xgboost-win64_release_1.4.0/src/learner.cc:1095: Starting in XGBoost 1.3.0, the default evaluation metric used with the objective 'binary:logistic' was changed from 'error' to 'logloss'. Explicitly set eval_metric if you'd like to restore the old behavior.\n"
     ]
    },
    {
     "name": "stderr",
     "output_type": "stream",
     "text": [
      "C:\\Users\\patri\\Anaconda3\\lib\\site-packages\\xgboost\\sklearn.py:1146: UserWarning: The use of label encoder in XGBClassifier is deprecated and will be removed in a future release. To remove this warning, do the following: 1) Pass option use_label_encoder=False when constructing XGBClassifier object; and 2) Encode your labels (y) as integers starting with 0, i.e. 0, 1, 2, ..., [num_class - 1].\n",
      "  warnings.warn(label_encoder_deprecation_msg, UserWarning)\n"
     ]
    },
    {
     "name": "stdout",
     "output_type": "stream",
     "text": [
      "[14:44:22] WARNING: C:/Users/Administrator/workspace/xgboost-win64_release_1.4.0/src/learner.cc:1095: Starting in XGBoost 1.3.0, the default evaluation metric used with the objective 'binary:logistic' was changed from 'error' to 'logloss'. Explicitly set eval_metric if you'd like to restore the old behavior.\n"
     ]
    }
   ],
   "source": [
    "xgbC = XGBClassifier()\n",
    "scores = cross_val_score(xgbC,x_train, y_train)\n"
   ]
  },
  {
   "cell_type": "code",
   "execution_count": 12,
   "metadata": {},
   "outputs": [
    {
     "name": "stdout",
     "output_type": "stream",
     "text": [
      "[0.82337479 0.82055392 0.82086299 0.82163237 0.82246586]\n"
     ]
    }
   ],
   "source": [
    "print(scores)"
   ]
  },
  {
   "cell_type": "code",
   "execution_count": 13,
   "metadata": {},
   "outputs": [
    {
     "name": "stderr",
     "output_type": "stream",
     "text": [
      "C:\\Users\\patri\\Anaconda3\\lib\\site-packages\\xgboost\\sklearn.py:1146: UserWarning: The use of label encoder in XGBClassifier is deprecated and will be removed in a future release. To remove this warning, do the following: 1) Pass option use_label_encoder=False when constructing XGBClassifier object; and 2) Encode your labels (y) as integers starting with 0, i.e. 0, 1, 2, ..., [num_class - 1].\n",
      "  warnings.warn(label_encoder_deprecation_msg, UserWarning)\n"
     ]
    },
    {
     "name": "stdout",
     "output_type": "stream",
     "text": [
      "[14:46:27] WARNING: C:/Users/Administrator/workspace/xgboost-win64_release_1.4.0/src/learner.cc:1095: Starting in XGBoost 1.3.0, the default evaluation metric used with the objective 'binary:logistic' was changed from 'error' to 'logloss'. Explicitly set eval_metric if you'd like to restore the old behavior.\n"
     ]
    }
   ],
   "source": [
    "xbC=xgbC.fit(x_train, y_train) \n"
   ]
  },
  {
   "cell_type": "code",
   "execution_count": 14,
   "metadata": {},
   "outputs": [
    {
     "name": "stderr",
     "output_type": "stream",
     "text": [
      "C:\\Users\\patri\\Anaconda3\\lib\\site-packages\\sklearn\\utils\\deprecation.py:87: FutureWarning: Function plot_roc_curve is deprecated; Function `plot_roc_curve` is deprecated in 1.0 and will be removed in 1.2. Use one of the class methods: RocCurveDisplay.from_predictions or RocCurveDisplay.from_estimator.\n",
      "  warnings.warn(msg, category=FutureWarning)\n"
     ]
    },
    {
     "data": {
      "image/png": "[encoded data removed]",
      "text/plain": [
       "<Figure size 432x288 with 1 Axes>"
      ]
     },
     "metadata": {
      "needs_background": "light"
     },
     "output_type": "display_data"
    }
   ],
   "source": [
    "plot_roc_curve(xbC, x_test, y_test) \n",
    "plt.show()"
   ]
  },
  {
   "cell_type": "code",
   "execution_count": 15,
   "metadata": {},
   "outputs": [
    {
     "name": "stdout",
     "output_type": "stream",
     "text": [
      "[2.1634786e-03 2.0009857e-03 2.4789486e-03 2.4782477e-03 2.4650630e-03\n",
      " 0.0000000e+00 1.6962348e-03 0.0000000e+00 2.4492298e-03 2.3823837e-03\n",
      " 2.2260239e-03 2.5606097e-03 4.8091821e-03 2.6222349e-03 2.6451026e-03\n",
      " 2.5508718e-03 2.5948912e-03 2.7158477e-03 3.2031182e-03 2.4478456e-03\n",
      " 2.2946396e-03 0.0000000e+00 2.7631409e-03 4.3494841e-03 2.9010554e-03\n",
      " 2.0907528e-03 0.0000000e+00 0.0000000e+00 2.6801601e-03 2.9111493e-03\n",
      " 2.7341698e-03 2.7741466e-03 0.0000000e+00 0.0000000e+00 0.0000000e+00\n",
      " 2.6836086e-03 0.0000000e+00 2.3179948e-03 2.9235054e-03 0.0000000e+00\n",
      " 7.9299351e-03 1.8036793e-03 0.0000000e+00 0.0000000e+00 2.4197185e-03\n",
      " 2.4646816e-03 0.0000000e+00 1.9694818e-03 4.4886456e-03 0.0000000e+00\n",
      " 2.9227610e-03 2.3440782e-03 1.0795770e-02 2.5918472e-03 2.6020540e-03\n",
      " 2.6474388e-03 2.8929375e-03 3.9573447e-03 2.3412097e-03 0.0000000e+00\n",
      " 2.9321169e-03 2.7209409e-03 2.2339453e-03 2.4119702e-03 3.1313775e-03\n",
      " 2.5281410e-03 2.3577558e-03 2.4192277e-03 2.2580540e-03 0.0000000e+00\n",
      " 3.1442302e-03 2.5514944e-03 2.3786484e-03 2.3518414e-03 9.0994994e-04\n",
      " 0.0000000e+00 3.5007780e-03 2.3576522e-03 1.9745491e-03 2.0821784e-03\n",
      " 0.0000000e+00 3.0027214e-03 0.0000000e+00 2.4852625e-03 0.0000000e+00\n",
      " 0.0000000e+00 1.9778658e-03 0.0000000e+00 0.0000000e+00 2.5197992e-03\n",
      " 0.0000000e+00 0.0000000e+00 3.4175534e-03 2.4955827e-03 0.0000000e+00\n",
      " 0.0000000e+00 1.3310205e-03 2.7066774e-03 3.4424465e-03 2.3151373e-03\n",
      " 3.0762716e-03 2.3593567e-03 2.6362552e-03 2.2891434e-03 2.5211256e-03\n",
      " 2.5900924e-03 2.8971231e-03 9.0195211e-03 2.4164892e-03 2.6358585e-03\n",
      " 2.6127181e-03 0.0000000e+00 2.7956280e-03 2.9661662e-03 1.3583793e-02\n",
      " 2.6226381e-03 2.1327783e-03 2.2397339e-03 2.6698536e-03 2.6125878e-03\n",
      " 0.0000000e+00 2.2419898e-03 2.8299356e-03 4.7190171e-03 7.5642043e-03\n",
      " 2.5420741e-03 0.0000000e+00 0.0000000e+00 2.7798093e-03 2.3967254e-03\n",
      " 2.5217938e-03 2.8872334e-03 3.2037355e-03 2.0901300e-03 5.1880330e-03\n",
      " 0.0000000e+00 0.0000000e+00 2.4293838e-03 4.7461898e-03 2.9571666e-03\n",
      " 2.9021122e-03 2.7517602e-03 0.0000000e+00 1.3094436e-03 2.3517045e-03\n",
      " 2.7487176e-03 2.4415413e-03 2.1884402e-03 0.0000000e+00 0.0000000e+00\n",
      " 0.0000000e+00 2.4479602e-03 0.0000000e+00 3.3554679e-03 2.4801441e-03\n",
      " 3.9372207e-03 2.0211455e-03 2.3894929e-03 1.8511628e-03 3.0538349e-03\n",
      " 3.4463988e-03 0.0000000e+00 2.3701338e-03 2.4945454e-03 2.0450612e-03\n",
      " 0.0000000e+00 3.2109469e-03 0.0000000e+00 2.1721290e-03 2.3285043e-03\n",
      " 2.5496278e-03 0.0000000e+00 0.0000000e+00 2.7314299e-03 3.2243698e-03\n",
      " 2.5001497e-03 2.9903164e-03 2.4830631e-03 3.9587501e-03 0.0000000e+00\n",
      " 5.9467899e-03 2.5253401e-03 2.2203582e-03 0.0000000e+00 3.2971161e-03\n",
      " 2.8316909e-03 1.9612003e-03 1.6837608e-03 2.8569847e-03 2.2885050e-03\n",
      " 4.0515750e-03 0.0000000e+00 2.3577989e-03 2.9470213e-03 0.0000000e+00\n",
      " 0.0000000e+00 2.5648284e-03 0.0000000e+00 2.6368625e-03 0.0000000e+00\n",
      " 1.9116496e-03 0.0000000e+00 0.0000000e+00 2.3008131e-03 1.0812770e-03\n",
      " 0.0000000e+00 0.0000000e+00 0.0000000e+00 3.7514772e-03 2.3885912e-03\n",
      " 1.7205959e-03 2.2754197e-03 0.0000000e+00 0.0000000e+00 2.5003725e-03\n",
      " 0.0000000e+00 2.0241141e-03 2.7159625e-03 2.9151426e-03 0.0000000e+00\n",
      " 2.5477456e-03 0.0000000e+00 1.9873958e-03 2.3553830e-03 2.7030422e-03\n",
      " 2.4512585e-03 2.4559794e-03 2.8015494e-03 2.9155274e-03 3.0010552e-03\n",
      " 2.2051672e-03 0.0000000e+00 0.0000000e+00 0.0000000e+00 3.0438229e-03\n",
      " 0.0000000e+00 2.7249712e-03 2.2329662e-03 0.0000000e+00 0.0000000e+00\n",
      " 3.0880140e-03 2.6147175e-03 0.0000000e+00 1.9836905e-03 0.0000000e+00\n",
      " 0.0000000e+00 6.5285848e-03 2.0040409e-03 0.0000000e+00 0.0000000e+00\n",
      " 0.0000000e+00 2.2213892e-03 2.8691508e-03 8.0953958e-04 0.0000000e+00\n",
      " 0.0000000e+00 0.0000000e+00 0.0000000e+00 1.2141700e-03 2.6498919e-03\n",
      " 2.9787521e-03 0.0000000e+00 0.0000000e+00 0.0000000e+00 0.0000000e+00\n",
      " 0.0000000e+00 0.0000000e+00 0.0000000e+00 0.0000000e+00 0.0000000e+00\n",
      " 0.0000000e+00 1.0623736e-03 0.0000000e+00 0.0000000e+00 0.0000000e+00\n",
      " 0.0000000e+00 2.2637765e-03 0.0000000e+00 0.0000000e+00 0.0000000e+00\n",
      " 0.0000000e+00 0.0000000e+00 0.0000000e+00 0.0000000e+00 0.0000000e+00\n",
      " 0.0000000e+00 0.0000000e+00 0.0000000e+00 2.6148569e-03 8.5197820e-04\n",
      " 0.0000000e+00 0.0000000e+00 2.3264103e-03 0.0000000e+00 1.9007220e-03\n",
      " 2.5878863e-03 0.0000000e+00 0.0000000e+00 0.0000000e+00 3.4392728e-03\n",
      " 0.0000000e+00 0.0000000e+00 0.0000000e+00 0.0000000e+00 0.0000000e+00\n",
      " 0.0000000e+00 0.0000000e+00 0.0000000e+00 0.0000000e+00 0.0000000e+00\n",
      " 0.0000000e+00 0.0000000e+00 0.0000000e+00 0.0000000e+00 2.1214059e-03\n",
      " 1.8517623e-03 0.0000000e+00 0.0000000e+00 1.9150620e-03 1.4722076e-03\n",
      " 1.6303937e-03 0.0000000e+00 0.0000000e+00 0.0000000e+00 0.0000000e+00\n",
      " 0.0000000e+00 0.0000000e+00 0.0000000e+00 0.0000000e+00 2.2345609e-03\n",
      " 0.0000000e+00 0.0000000e+00 0.0000000e+00 0.0000000e+00 0.0000000e+00\n",
      " 0.0000000e+00 0.0000000e+00 0.0000000e+00 0.0000000e+00 0.0000000e+00\n",
      " 0.0000000e+00 0.0000000e+00 0.0000000e+00 0.0000000e+00 0.0000000e+00\n",
      " 0.0000000e+00 0.0000000e+00 0.0000000e+00 0.0000000e+00 0.0000000e+00\n",
      " 0.0000000e+00 0.0000000e+00 0.0000000e+00 0.0000000e+00 2.8224345e-03\n",
      " 0.0000000e+00 0.0000000e+00 0.0000000e+00 1.2159388e-03 0.0000000e+00\n",
      " 0.0000000e+00 1.6638490e-03 0.0000000e+00 0.0000000e+00 0.0000000e+00\n",
      " 0.0000000e+00 0.0000000e+00 0.0000000e+00 0.0000000e+00 3.8570440e-03\n",
      " 0.0000000e+00 2.5084410e-03 6.9669653e-03 0.0000000e+00 3.9767013e-03\n",
      " 2.8077736e-03 2.3092900e-03 0.0000000e+00 0.0000000e+00 3.2080866e-03\n",
      " 2.6859595e-03 0.0000000e+00 0.0000000e+00 0.0000000e+00 0.0000000e+00\n",
      " 0.0000000e+00 0.0000000e+00 3.3798376e-03 2.1096782e-03 1.5942502e-03\n",
      " 0.0000000e+00 1.6547560e-03 0.0000000e+00 0.0000000e+00 0.0000000e+00\n",
      " 2.7109610e-03 3.6561294e-03 1.8796845e-03 3.2027436e-03 1.6952411e-03\n",
      " 4.3267324e-03 0.0000000e+00 0.0000000e+00 2.7528345e-03 0.0000000e+00\n",
      " 0.0000000e+00 0.0000000e+00 0.0000000e+00 0.0000000e+00 2.5120724e-04\n",
      " 0.0000000e+00 0.0000000e+00 0.0000000e+00 0.0000000e+00 5.9135922e-04\n",
      " 0.0000000e+00 0.0000000e+00 0.0000000e+00 0.0000000e+00 3.5256704e-03\n",
      " 0.0000000e+00 0.0000000e+00 2.8591864e-03 0.0000000e+00 0.0000000e+00\n",
      " 0.0000000e+00 3.7930224e-03 1.9060380e-03 2.3747496e-03 0.0000000e+00\n",
      " 3.4103531e-03 0.0000000e+00 2.2812993e-03 0.0000000e+00 0.0000000e+00\n",
      " 3.0707854e-03 0.0000000e+00 0.0000000e+00 3.0951324e-04 0.0000000e+00\n",
      " 0.0000000e+00 0.0000000e+00 2.9444832e-03 0.0000000e+00 0.0000000e+00\n",
      " 0.0000000e+00 0.0000000e+00 0.0000000e+00 0.0000000e+00 0.0000000e+00\n",
      " 1.2792127e-03 0.0000000e+00 0.0000000e+00 0.0000000e+00 1.4358483e-03\n",
      " 0.0000000e+00 0.0000000e+00 0.0000000e+00 0.0000000e+00 0.0000000e+00\n",
      " 0.0000000e+00 0.0000000e+00 0.0000000e+00 0.0000000e+00 0.0000000e+00\n",
      " 2.7401396e-03 0.0000000e+00 0.0000000e+00 0.0000000e+00 1.3902154e-03\n",
      " 0.0000000e+00 0.0000000e+00 0.0000000e+00 0.0000000e+00 0.0000000e+00\n",
      " 0.0000000e+00 0.0000000e+00 0.0000000e+00 0.0000000e+00 0.0000000e+00\n",
      " 0.0000000e+00 2.1082703e-03 0.0000000e+00 0.0000000e+00 3.0749927e-03\n",
      " 0.0000000e+00 0.0000000e+00 0.0000000e+00 0.0000000e+00 0.0000000e+00\n",
      " 2.7927151e-03 0.0000000e+00 0.0000000e+00 1.4652285e-03 2.3758521e-03\n",
      " 0.0000000e+00 0.0000000e+00 0.0000000e+00 0.0000000e+00 0.0000000e+00\n",
      " 0.0000000e+00 0.0000000e+00 0.0000000e+00 0.0000000e+00 0.0000000e+00\n",
      " 0.0000000e+00 0.0000000e+00 0.0000000e+00 0.0000000e+00 0.0000000e+00\n",
      " 0.0000000e+00 0.0000000e+00 0.0000000e+00 1.5153959e-03 1.8623889e-03\n",
      " 0.0000000e+00 0.0000000e+00 3.1576771e-03 2.3987354e-03 0.0000000e+00\n",
      " 0.0000000e+00 0.0000000e+00 1.9379677e-03 0.0000000e+00 0.0000000e+00\n",
      " 0.0000000e+00 0.0000000e+00 0.0000000e+00 0.0000000e+00 0.0000000e+00\n",
      " 0.0000000e+00 0.0000000e+00 1.9811830e-03 0.0000000e+00 8.1842788e-04\n",
      " 0.0000000e+00 0.0000000e+00 0.0000000e+00 2.0188519e-03 3.5155085e-03\n",
      " 0.0000000e+00 2.3414157e-03 0.0000000e+00 0.0000000e+00 0.0000000e+00\n",
      " 0.0000000e+00 0.0000000e+00 0.0000000e+00 0.0000000e+00 0.0000000e+00\n",
      " 0.0000000e+00 0.0000000e+00 0.0000000e+00 1.2689226e-03 0.0000000e+00\n",
      " 0.0000000e+00 2.2801196e-03 0.0000000e+00 3.7347006e-03 2.8456890e-03\n",
      " 0.0000000e+00 0.0000000e+00 2.0453138e-03 3.8359180e-05 2.4855856e-03\n",
      " 3.0030070e-03 0.0000000e+00 0.0000000e+00 1.5975132e-03 0.0000000e+00\n",
      " 0.0000000e+00 0.0000000e+00 0.0000000e+00 0.0000000e+00 0.0000000e+00\n",
      " 0.0000000e+00 0.0000000e+00 3.4374595e-03 0.0000000e+00 0.0000000e+00\n",
      " 2.8440633e-03 1.4317080e-03 0.0000000e+00 0.0000000e+00 7.7937322e-04\n",
      " 0.0000000e+00 0.0000000e+00 0.0000000e+00 0.0000000e+00 1.9879674e-03\n",
      " 0.0000000e+00 1.7755396e-03 0.0000000e+00 0.0000000e+00 0.0000000e+00\n",
      " 0.0000000e+00 0.0000000e+00 0.0000000e+00 0.0000000e+00 0.0000000e+00\n",
      " 0.0000000e+00 0.0000000e+00 0.0000000e+00 0.0000000e+00 0.0000000e+00\n",
      " 0.0000000e+00 0.0000000e+00 0.0000000e+00 2.4582972e-03 0.0000000e+00\n",
      " 0.0000000e+00 4.9820906e-03 0.0000000e+00 0.0000000e+00 0.0000000e+00\n",
      " 0.0000000e+00 0.0000000e+00 0.0000000e+00 2.0569128e-03 0.0000000e+00\n",
      " 0.0000000e+00 8.8200363e-04 0.0000000e+00 0.0000000e+00 0.0000000e+00\n",
      " 0.0000000e+00 0.0000000e+00 0.0000000e+00 0.0000000e+00 0.0000000e+00\n",
      " 0.0000000e+00 0.0000000e+00 2.5829569e-05 0.0000000e+00 2.7998425e-03\n",
      " 0.0000000e+00 0.0000000e+00 0.0000000e+00 5.6774274e-04 1.1650456e-02\n",
      " 6.8588238e-03 7.6323608e-04 1.6930159e-03 0.0000000e+00 0.0000000e+00\n",
      " 7.8738146e-03 0.0000000e+00 0.0000000e+00 0.0000000e+00 4.9258112e-03\n",
      " 0.0000000e+00 1.1070614e-03 2.6044934e-03 1.2656663e-03 0.0000000e+00\n",
      " 1.5933330e-03 0.0000000e+00 0.0000000e+00 0.0000000e+00 0.0000000e+00\n",
      " 2.9268954e-03 1.1390713e-03 6.7976979e-04 2.1282251e-03 0.0000000e+00\n",
      " 0.0000000e+00 0.0000000e+00 2.7462759e-03 0.0000000e+00 0.0000000e+00\n",
      " 3.1716821e-03 0.0000000e+00 0.0000000e+00 0.0000000e+00 0.0000000e+00\n",
      " 0.0000000e+00 3.0216887e-03 0.0000000e+00 2.6778521e-03 2.0674216e-03\n",
      " 1.4241508e-03 0.0000000e+00 0.0000000e+00 2.9553899e-03 0.0000000e+00\n",
      " 0.0000000e+00 0.0000000e+00 1.9100651e-03 6.0428148e-03 0.0000000e+00\n",
      " 0.0000000e+00 2.0606422e-03 0.0000000e+00 0.0000000e+00 0.0000000e+00\n",
      " 2.4414230e-03 2.7128712e-03 0.0000000e+00 0.0000000e+00 0.0000000e+00\n",
      " 3.1040520e-03 2.2222113e-03 0.0000000e+00 0.0000000e+00 0.0000000e+00\n",
      " 0.0000000e+00 0.0000000e+00 1.1489844e-03 9.9312852e-04 0.0000000e+00\n",
      " 0.0000000e+00 1.3975801e-03 0.0000000e+00 0.0000000e+00 0.0000000e+00\n",
      " 2.2821887e-03 1.3798757e-03 0.0000000e+00 0.0000000e+00 3.8581218e-03\n",
      " 2.6955402e-03 1.3322224e-03 0.0000000e+00 0.0000000e+00 0.0000000e+00\n",
      " 3.1541237e-03 0.0000000e+00 2.8662574e-03 0.0000000e+00 3.1053107e-03\n",
      " 0.0000000e+00 2.1852611e-03 0.0000000e+00 2.0143348e-03 0.0000000e+00\n",
      " 0.0000000e+00 0.0000000e+00 0.0000000e+00 5.2964496e-03 0.0000000e+00\n",
      " 2.7138148e-03 2.1923720e-03 0.0000000e+00 0.0000000e+00 0.0000000e+00\n",
      " 0.0000000e+00 0.0000000e+00 0.0000000e+00 0.0000000e+00 0.0000000e+00\n",
      " 0.0000000e+00 0.0000000e+00 0.0000000e+00 0.0000000e+00 2.4365394e-03\n",
      " 0.0000000e+00 0.0000000e+00 2.6733740e-03 0.0000000e+00 0.0000000e+00\n",
      " 0.0000000e+00 0.0000000e+00 0.0000000e+00 0.0000000e+00 0.0000000e+00\n",
      " 0.0000000e+00 0.0000000e+00 0.0000000e+00 0.0000000e+00 0.0000000e+00\n",
      " 0.0000000e+00 0.0000000e+00 0.0000000e+00 0.0000000e+00 2.5327466e-03\n",
      " 0.0000000e+00 0.0000000e+00 2.5129211e-03 0.0000000e+00 3.2076067e-03\n",
      " 0.0000000e+00 0.0000000e+00 0.0000000e+00 2.7090739e-03 0.0000000e+00\n",
      " 5.5990191e-03 0.0000000e+00 0.0000000e+00 0.0000000e+00 1.6336164e-03\n",
      " 0.0000000e+00 8.9014618e-04 0.0000000e+00 0.0000000e+00 4.7631876e-04\n",
      " 3.1092658e-04 0.0000000e+00 2.0740293e-03 0.0000000e+00 0.0000000e+00\n",
      " 0.0000000e+00 2.3902191e-03 2.4238864e-03 0.0000000e+00 0.0000000e+00\n",
      " 0.0000000e+00 0.0000000e+00 0.0000000e+00 0.0000000e+00 0.0000000e+00\n",
      " 0.0000000e+00 3.3810826e-03 0.0000000e+00 0.0000000e+00 0.0000000e+00\n",
      " 0.0000000e+00 2.7181688e-03 0.0000000e+00 0.0000000e+00 2.8986936e-03\n",
      " 0.0000000e+00 0.0000000e+00 3.0756986e-03 2.4758906e-03 0.0000000e+00\n",
      " 0.0000000e+00 0.0000000e+00 0.0000000e+00 0.0000000e+00 0.0000000e+00\n",
      " 1.5500119e-03 0.0000000e+00 2.1790608e-03 0.0000000e+00 0.0000000e+00\n",
      " 0.0000000e+00 0.0000000e+00 0.0000000e+00 0.0000000e+00 0.0000000e+00\n",
      " 0.0000000e+00 0.0000000e+00 0.0000000e+00 0.0000000e+00 2.3531504e-03\n",
      " 0.0000000e+00 3.0270936e-03 0.0000000e+00 6.4649765e-04 3.4412018e-03\n",
      " 0.0000000e+00 0.0000000e+00 0.0000000e+00 0.0000000e+00 1.7934012e-03\n",
      " 2.8167465e-03 1.8516495e-03 0.0000000e+00 2.1908730e-03 0.0000000e+00\n",
      " 0.0000000e+00 0.0000000e+00 3.9942865e-03 0.0000000e+00 0.0000000e+00\n",
      " 0.0000000e+00 1.2923199e-03 1.2321301e-03 3.6271177e-03 0.0000000e+00\n",
      " 0.0000000e+00 0.0000000e+00 0.0000000e+00 0.0000000e+00 1.6151901e-03\n",
      " 0.0000000e+00 0.0000000e+00 0.0000000e+00 2.0249444e-03 3.9571337e-03\n",
      " 2.2865934e-03 0.0000000e+00 0.0000000e+00 2.5035155e-03 1.3798452e-03\n",
      " 0.0000000e+00 1.8621120e-03 2.9294873e-03 0.0000000e+00 0.0000000e+00\n",
      " 0.0000000e+00 0.0000000e+00 0.0000000e+00 0.0000000e+00 0.0000000e+00\n",
      " 0.0000000e+00 2.0325819e-03 0.0000000e+00 0.0000000e+00 1.6577877e-03\n",
      " 0.0000000e+00 0.0000000e+00 0.0000000e+00 0.0000000e+00 0.0000000e+00\n",
      " 3.3840204e-03 0.0000000e+00 0.0000000e+00 0.0000000e+00 0.0000000e+00\n",
      " 0.0000000e+00 0.0000000e+00 0.0000000e+00 0.0000000e+00 0.0000000e+00\n",
      " 0.0000000e+00 0.0000000e+00 0.0000000e+00 1.4022767e-03 0.0000000e+00\n",
      " 0.0000000e+00 3.8304639e-03 0.0000000e+00 2.1468378e-03 0.0000000e+00\n",
      " 2.5116452e-03 0.0000000e+00 2.2735470e-03 0.0000000e+00 0.0000000e+00\n",
      " 0.0000000e+00 0.0000000e+00 1.9510949e-03 0.0000000e+00 0.0000000e+00\n",
      " 0.0000000e+00 0.0000000e+00 0.0000000e+00 0.0000000e+00 0.0000000e+00\n",
      " 0.0000000e+00 2.5517491e-03 0.0000000e+00 4.4886563e-03 2.8350581e-03\n",
      " 0.0000000e+00 0.0000000e+00 0.0000000e+00 0.0000000e+00 0.0000000e+00\n",
      " 0.0000000e+00 0.0000000e+00 0.0000000e+00 0.0000000e+00 2.4462251e-03\n",
      " 0.0000000e+00 0.0000000e+00 0.0000000e+00 2.1732389e-03 3.2835479e-03\n",
      " 2.0836052e-03 2.6538146e-03 1.7589518e-03 0.0000000e+00 0.0000000e+00\n",
      " 0.0000000e+00 0.0000000e+00 0.0000000e+00 0.0000000e+00 0.0000000e+00\n",
      " 0.0000000e+00 0.0000000e+00 0.0000000e+00 2.3853448e-03 0.0000000e+00\n",
      " 0.0000000e+00 0.0000000e+00 0.0000000e+00]\n"
     ]
    },
    {
     "data": {
      "image/png": "[encoded data removed]",
      "text/plain": [
       "<Figure size 432x288 with 1 Axes>"
      ]
     },
     "metadata": {
      "needs_background": "light"
     },
     "output_type": "display_data"
    }
   ],
   "source": [
    "# feature importance\n",
    "print(xbC.feature_importances_)\n",
    "# plot\n",
    "plt.bar(range(len(xbC.feature_importances_)), xbC.feature_importances_)\n",
    "plt.show()"
   ]
  },
  {
   "cell_type": "code",
   "execution_count": 16,
   "metadata": {},
   "outputs": [
    {
     "data": {
      "text/html": [
       "<div>\n",
       "<style scoped>\n",
       "    .dataframe tbody tr th:only-of-type {\n",
       "        vertical-align: middle;\n",
       "    }\n",
       "\n",
       "    .dataframe tbody tr th {\n",
       "        vertical-align: top;\n",
       "    }\n",
       "\n",
       "    .dataframe thead th {\n",
       "        text-align: right;\n",
       "    }\n",
       "</style>\n",
       "<table border=\"1\" class=\"dataframe\">\n",
       "  <thead>\n",
       "    <tr style=\"text-align: right;\">\n",
       "      <th></th>\n",
       "      <th>Feature_name</th>\n",
       "      <th>Importance</th>\n",
       "    </tr>\n",
       "  </thead>\n",
       "  <tbody>\n",
       "    <tr>\n",
       "      <th>0</th>\n",
       "      <td>rx_gpi2_72_pmpm_cost_6to9m_b4</td>\n",
       "      <td>0.002163</td>\n",
       "    </tr>\n",
       "    <tr>\n",
       "      <th>1</th>\n",
       "      <td>atlas_pct_laccess_child15</td>\n",
       "      <td>0.002001</td>\n",
       "    </tr>\n",
       "    <tr>\n",
       "      <th>2</th>\n",
       "      <td>atlas_recfacpth14</td>\n",
       "      <td>0.002479</td>\n",
       "    </tr>\n",
       "    <tr>\n",
       "      <th>3</th>\n",
       "      <td>atlas_pct_fmrkt_frveg16</td>\n",
       "      <td>0.002478</td>\n",
       "    </tr>\n",
       "    <tr>\n",
       "      <th>4</th>\n",
       "      <td>atlas_pct_free_lunch14</td>\n",
       "      <td>0.002465</td>\n",
       "    </tr>\n",
       "  </tbody>\n",
       "</table>\n",
       "</div>"
      ],
      "text/plain": [
       "                    Feature_name Importance\n",
       "0  rx_gpi2_72_pmpm_cost_6to9m_b4   0.002163\n",
       "1      atlas_pct_laccess_child15   0.002001\n",
       "2              atlas_recfacpth14   0.002479\n",
       "3        atlas_pct_fmrkt_frveg16   0.002478\n",
       "4         atlas_pct_free_lunch14   0.002465"
      ]
     },
     "execution_count": 16,
     "metadata": {},
     "output_type": "execute_result"
    }
   ],
   "source": [
    "imp_dict = {}\n",
    "for i in range(x_no_dup.shape[1]):\n",
    "    name = x_no_dup.columns[i]\n",
    "    imp = xbC.feature_importances_[i]\n",
    "    imp_dict[i]=name,imp\n",
    "    \n",
    "imp_df = pd.DataFrame(imp_dict)\n",
    "imp_df = imp_df.T\n",
    "imp_df = imp_df.rename(columns = {0:\"Feature_name\", 1: \"Importance\"})\n",
    "imp_df.head()"
   ]
  },
  {
   "cell_type": "code",
   "execution_count": 25,
   "metadata": {},
   "outputs": [
    {
     "data": {
      "text/html": [
       "<div>\n",
       "<style scoped>\n",
       "    .dataframe tbody tr th:only-of-type {\n",
       "        vertical-align: middle;\n",
       "    }\n",
       "\n",
       "    .dataframe tbody tr th {\n",
       "        vertical-align: top;\n",
       "    }\n",
       "\n",
       "    .dataframe thead th {\n",
       "        text-align: right;\n",
       "    }\n",
       "</style>\n",
       "<table border=\"1\" class=\"dataframe\">\n",
       "  <thead>\n",
       "    <tr style=\"text-align: right;\">\n",
       "      <th></th>\n",
       "      <th>Feature_name</th>\n",
       "      <th>Importance</th>\n",
       "    </tr>\n",
       "  </thead>\n",
       "  <tbody>\n",
       "    <tr>\n",
       "      <th>114</th>\n",
       "      <td>cms_orig_reas_entitle_cd</td>\n",
       "      <td>0.013584</td>\n",
       "    </tr>\n",
       "    <tr>\n",
       "      <th>639</th>\n",
       "      <td>hum_region_EAST CENTRAL</td>\n",
       "      <td>0.01165</td>\n",
       "    </tr>\n",
       "    <tr>\n",
       "      <th>52</th>\n",
       "      <td>est_age</td>\n",
       "      <td>0.010796</td>\n",
       "    </tr>\n",
       "    <tr>\n",
       "      <th>107</th>\n",
       "      <td>atlas_foodinsec_child_03_11</td>\n",
       "      <td>0.00902</td>\n",
       "    </tr>\n",
       "    <tr>\n",
       "      <th>40</th>\n",
       "      <td>atlas_pct_wic15</td>\n",
       "      <td>0.00793</td>\n",
       "    </tr>\n",
       "  </tbody>\n",
       "</table>\n",
       "</div>"
      ],
      "text/plain": [
       "                    Feature_name Importance\n",
       "114     cms_orig_reas_entitle_cd   0.013584\n",
       "639      hum_region_EAST CENTRAL    0.01165\n",
       "52                       est_age   0.010796\n",
       "107  atlas_foodinsec_child_03_11    0.00902\n",
       "40               atlas_pct_wic15    0.00793"
      ]
     },
     "execution_count": 25,
     "metadata": {},
     "output_type": "execute_result"
    }
   ],
   "source": [
    "imp_df.sort_values(by = \"Importance\", ascending = False).head()\n"
   ]
  },
  {
   "cell_type": "code",
   "execution_count": 18,
   "metadata": {},
   "outputs": [
    {
     "data": {
      "text/plain": [
       "0.0"
      ]
     },
     "execution_count": 18,
     "metadata": {},
     "output_type": "execute_result"
    }
   ],
   "source": [
    "imp_df[\"Importance\"].median()"
   ]
  },
  {
   "cell_type": "code",
   "execution_count": 23,
   "metadata": {},
   "outputs": [
    {
     "data": {
      "text/plain": [
       "0.0033879703143611544"
      ]
     },
     "execution_count": 23,
     "metadata": {},
     "output_type": "execute_result"
    }
   ],
   "source": [
    "imp_df[\"Importance\"].quantile(q=0.95, interpolation='linear')"
   ]
  },
  {
   "cell_type": "raw",
   "metadata": {},
   "source": [
    "#Tuning the XGBoost model \n",
    "#(https://www.analyticsvidhya.com/blog/2016/03/complete-guide-parameter-tuning-xgboost-with-codes-python/)\n",
    "\n",
    "def modelfit(alg, dtrain, predictors,useTrainCV=True, cv_folds=5, early_stopping_rounds=50):\n",
    "    \n",
    "    if useTrainCV:\n",
    "        xgb_param = alg.get_xgb_params()\n",
    "        xgtrain = xgb.DMatrix(dtrain[predictors].values, label=dtrain[target].values)\n",
    "        cvresult = xgb.cv(xgb_param, xgtrain, num_boost_round=alg.get_params()['n_estimators'], nfold=cv_folds,\n",
    "            metrics='auc', early_stopping_rounds=early_stopping_rounds, show_progress=False)\n",
    "        alg.set_params(n_estimators=cvresult.shape[0])\n",
    "    \n",
    "    #Fit the algorithm on the data\n",
    "    alg.fit(dtrain[predictors], dtrain['Disbursed'],eval_metric='auc')\n",
    "        \n",
    "    #Predict training set:\n",
    "    dtrain_predictions = alg.predict(dtrain[predictors])\n",
    "    dtrain_predprob = alg.predict_proba(dtrain[predictors])[:,1]\n",
    "        \n",
    "    #Print model report:\n",
    "    print (\"\\nModel Report\")\n",
    "    print (\"Accuracy : %.4g\" % metrics.accuracy_score(dtrain['Disbursed'].values, dtrain_predictions))\n",
    "    print (\"AUC Score (Train): %f\" % metrics.roc_auc_score(dtrain['Disbursed'], dtrain_predprob))\n",
    "                    \n",
    "    feat_imp = pd.Series(alg.booster().get_fscore()).sort_values(ascending=False)\n",
    "    feat_imp.plot(kind='bar', title='Feature Importances')\n",
    "    plt.ylabel('Feature Importance Score')"
   ]
  },
  {
   "cell_type": "code",
   "execution_count": 29,
   "metadata": {},
   "outputs": [
    {
     "name": "stderr",
     "output_type": "stream",
     "text": [
      "C:\\Users\\patri\\Anaconda3\\lib\\site-packages\\xgboost\\sklearn.py:1146: UserWarning: The use of label encoder in XGBClassifier is deprecated and will be removed in a future release. To remove this warning, do the following: 1) Pass option use_label_encoder=False when constructing XGBClassifier object; and 2) Encode your labels (y) as integers starting with 0, i.e. 0, 1, 2, ..., [num_class - 1].\n",
      "  warnings.warn(label_encoder_deprecation_msg, UserWarning)\n"
     ]
    }
   ],
   "source": [
    "#Choose all predictors except target & IDcols\n",
    "\n",
    "xgb1 = XGBClassifier(\n",
    " learning_rate =0.1,\n",
    " n_estimators=1000,\n",
    " max_depth=5,\n",
    " min_child_weight=1,\n",
    " gamma=0,\n",
    " subsample=0.8,\n",
    " colsample_bytree=0.8,\n",
    " objective= 'binary:logistic',\n",
    " nthread=4,\n",
    " scale_pos_weight=1,\n",
    " seed=27)\n",
    "\n",
    "xgb1_model = xgb1.fit(x_train, y_train, eval_metric='auc')\n"
   ]
  },
  {
   "cell_type": "code",
   "execution_count": 34,
   "metadata": {},
   "outputs": [
    {
     "name": "stdout",
     "output_type": "stream",
     "text": [
      "\n",
      "Model Report\n",
      "Accuracy : 0.8241\n"
     ]
    },
    {
     "name": "stderr",
     "output_type": "stream",
     "text": [
      "C:\\Users\\patri\\Anaconda3\\lib\\site-packages\\sklearn\\utils\\deprecation.py:87: FutureWarning: Function plot_roc_curve is deprecated; Function `plot_roc_curve` is deprecated in 1.0 and will be removed in 1.2. Use one of the class methods: RocCurveDisplay.from_predictions or RocCurveDisplay.from_estimator.\n",
      "  warnings.warn(msg, category=FutureWarning)\n"
     ]
    },
    {
     "data": {
      "image/png": "[encoded data removed]",
      "text/plain": [
       "<Figure size 432x288 with 1 Axes>"
      ]
     },
     "metadata": {
      "needs_background": "light"
     },
     "output_type": "display_data"
    }
   ],
   "source": [
    "pred = xgb1_model.predict(x_test)\n",
    "predprob = xgb1_model.predict_proba(x_test)\n",
    "        \n",
    "\n",
    "print (\"\\nModel Report\")\n",
    "print (\"Accuracy : %.4g\" % accuracy_score(y_test, pred))\n",
    "plot_roc_curve(xgb1_model, x_test, y_test)\n",
    "plt.show()\n",
    "                    \n"
   ]
  },
  {
   "cell_type": "code",
   "execution_count": 35,
   "metadata": {},
   "outputs": [
    {
     "name": "stderr",
     "output_type": "stream",
     "text": [
      "C:\\Users\\patri\\Anaconda3\\lib\\site-packages\\xgboost\\sklearn.py:1146: UserWarning: The use of label encoder in XGBClassifier is deprecated and will be removed in a future release. To remove this warning, do the following: 1) Pass option use_label_encoder=False when constructing XGBClassifier object; and 2) Encode your labels (y) as integers starting with 0, i.e. 0, 1, 2, ..., [num_class - 1].\n",
      "  warnings.warn(label_encoder_deprecation_msg, UserWarning)\n"
     ]
    },
    {
     "name": "stdout",
     "output_type": "stream",
     "text": [
      "\n",
      "Model Report\n",
      "Accuracy : 0.8273\n"
     ]
    },
    {
     "name": "stderr",
     "output_type": "stream",
     "text": [
      "C:\\Users\\patri\\Anaconda3\\lib\\site-packages\\sklearn\\utils\\deprecation.py:87: FutureWarning: Function plot_roc_curve is deprecated; Function `plot_roc_curve` is deprecated in 1.0 and will be removed in 1.2. Use one of the class methods: RocCurveDisplay.from_predictions or RocCurveDisplay.from_estimator.\n",
      "  warnings.warn(msg, category=FutureWarning)\n"
     ]
    },
    {
     "data": {
      "image/png": "[encoded data removed]",
      "text/plain": [
       "<Figure size 432x288 with 1 Axes>"
      ]
     },
     "metadata": {
      "needs_background": "light"
     },
     "output_type": "display_data"
    }
   ],
   "source": [
    "xgb2 = XGBClassifier(\n",
    " learning_rate =0.1,\n",
    " n_estimators=300,\n",
    " max_depth=5,\n",
    " min_child_weight=1,\n",
    " gamma=0,\n",
    " subsample=0.8,\n",
    " colsample_bytree=0.8,\n",
    " objective= 'binary:logistic',\n",
    " nthread=4,\n",
    " scale_pos_weight=1,\n",
    " seed=27)\n",
    "\n",
    "xgb2_model = xgb2.fit(x_train, y_train, eval_metric='auc')\n",
    "\n",
    "pred = xgb2_model.predict(x_test)\n",
    "predprob = xgb2_model.predict_proba(x_test)\n",
    "        \n",
    "\n",
    "print (\"\\nModel Report\")\n",
    "print (\"Accuracy : %.4g\" % accuracy_score(y_test, pred))\n",
    "plot_roc_curve(xgb2_model, x_test, y_test)\n",
    "plt.show()\n"
   ]
  },
  {
   "cell_type": "raw",
   "metadata": {},
   "source": [
    "param_test1 = {\n",
    " 'max_depth':range(3,10,2),\n",
    " 'min_child_weight':range(1,6,2)\n",
    "}\n",
    "gsearch1 = GridSearchCV(estimator = XGBClassifier( learning_rate =0.1, n_estimators=140, max_depth=5,\n",
    " min_child_weight=1, gamma=0, subsample=0.8, colsample_bytree=0.8,\n",
    " objective= 'binary:logistic', nthread=4, scale_pos_weight=1, seed=27), \n",
    " param_grid = param_test1, scoring='roc_auc',n_jobs=4, cv=5)\n",
    "gsearch1.fit(x_train,y_train)\n",
    "gsearch1.gsearch1.best_params_, gsearch1.best_score_\n",
    "\n"
   ]
  },
  {
   "cell_type": "raw",
   "metadata": {},
   "source": [
    "print(gsearch1.best_params_, gsearch1.best_score_)"
   ]
  },
  {
   "cell_type": "raw",
   "metadata": {},
   "source": [
    "y_pred = gsearch1.predict(x_test)\n",
    "acc= accuracy_score(y_test, y_pred)\n",
    "\n",
    "plot_roc_curve(gsearch1, x_test, y_test)\n",
    "plt.show()"
   ]
  },
  {
   "cell_type": "raw",
   "metadata": {},
   "source": [
    "acc"
   ]
  },
  {
   "cell_type": "code",
   "execution_count": 42,
   "metadata": {},
   "outputs": [
    {
     "data": {
      "text/html": [
       "<div>\n",
       "<style scoped>\n",
       "    .dataframe tbody tr th:only-of-type {\n",
       "        vertical-align: middle;\n",
       "    }\n",
       "\n",
       "    .dataframe tbody tr th {\n",
       "        vertical-align: top;\n",
       "    }\n",
       "\n",
       "    .dataframe thead th {\n",
       "        text-align: right;\n",
       "    }\n",
       "</style>\n",
       "<table border=\"1\" class=\"dataframe\">\n",
       "  <thead>\n",
       "    <tr style=\"text-align: right;\">\n",
       "      <th></th>\n",
       "      <th>Feature_name</th>\n",
       "      <th>Importance</th>\n",
       "    </tr>\n",
       "  </thead>\n",
       "  <tbody>\n",
       "    <tr>\n",
       "      <th>0</th>\n",
       "      <td>rx_gpi2_72_pmpm_cost_6to9m_b4</td>\n",
       "      <td>0.001943</td>\n",
       "    </tr>\n",
       "    <tr>\n",
       "      <th>1</th>\n",
       "      <td>atlas_pct_laccess_child15</td>\n",
       "      <td>0.001931</td>\n",
       "    </tr>\n",
       "    <tr>\n",
       "      <th>2</th>\n",
       "      <td>atlas_recfacpth14</td>\n",
       "      <td>0.002252</td>\n",
       "    </tr>\n",
       "    <tr>\n",
       "      <th>3</th>\n",
       "      <td>atlas_pct_fmrkt_frveg16</td>\n",
       "      <td>0.001713</td>\n",
       "    </tr>\n",
       "    <tr>\n",
       "      <th>4</th>\n",
       "      <td>atlas_pct_free_lunch14</td>\n",
       "      <td>0.002128</td>\n",
       "    </tr>\n",
       "  </tbody>\n",
       "</table>\n",
       "</div>"
      ],
      "text/plain": [
       "                    Feature_name Importance\n",
       "0  rx_gpi2_72_pmpm_cost_6to9m_b4   0.001943\n",
       "1      atlas_pct_laccess_child15   0.001931\n",
       "2              atlas_recfacpth14   0.002252\n",
       "3        atlas_pct_fmrkt_frveg16   0.001713\n",
       "4         atlas_pct_free_lunch14   0.002128"
      ]
     },
     "execution_count": 42,
     "metadata": {},
     "output_type": "execute_result"
    }
   ],
   "source": [
    "imp_dict = {}\n",
    "for i in range(x_no_dup.shape[1]):\n",
    "    name = x_no_dup.columns[i]\n",
    "    imp = xgb2_model.feature_importances_[i]\n",
    "    imp_dict[i]=name,imp\n",
    "    \n",
    "imp_df = pd.DataFrame(imp_dict)\n",
    "imp_df = imp_df.T\n",
    "imp_df = imp_df.rename(columns = {0:\"Feature_name\", 1: \"Importance\"})\n",
    "imp_df.head()"
   ]
  },
  {
   "cell_type": "code",
   "execution_count": 43,
   "metadata": {},
   "outputs": [
    {
     "data": {
      "text/html": [
       "<div>\n",
       "<style scoped>\n",
       "    .dataframe tbody tr th:only-of-type {\n",
       "        vertical-align: middle;\n",
       "    }\n",
       "\n",
       "    .dataframe tbody tr th {\n",
       "        vertical-align: top;\n",
       "    }\n",
       "\n",
       "    .dataframe thead th {\n",
       "        text-align: right;\n",
       "    }\n",
       "</style>\n",
       "<table border=\"1\" class=\"dataframe\">\n",
       "  <thead>\n",
       "    <tr style=\"text-align: right;\">\n",
       "      <th></th>\n",
       "      <th>Feature_name</th>\n",
       "      <th>Importance</th>\n",
       "    </tr>\n",
       "  </thead>\n",
       "  <tbody>\n",
       "    <tr>\n",
       "      <th>114</th>\n",
       "      <td>cms_orig_reas_entitle_cd</td>\n",
       "      <td>0.010129</td>\n",
       "    </tr>\n",
       "    <tr>\n",
       "      <th>52</th>\n",
       "      <td>est_age</td>\n",
       "      <td>0.008852</td>\n",
       "    </tr>\n",
       "    <tr>\n",
       "      <th>639</th>\n",
       "      <td>hum_region_EAST CENTRAL</td>\n",
       "      <td>0.007743</td>\n",
       "    </tr>\n",
       "    <tr>\n",
       "      <th>640</th>\n",
       "      <td>hum_region_FLORIDA</td>\n",
       "      <td>0.006716</td>\n",
       "    </tr>\n",
       "    <tr>\n",
       "      <th>700</th>\n",
       "      <td>rx_gpi2_39_pmpm_cost_t_6-3-0m_b4_No Activity</td>\n",
       "      <td>0.006362</td>\n",
       "    </tr>\n",
       "    <tr>\n",
       "      <th>...</th>\n",
       "      <td>...</td>\n",
       "      <td>...</td>\n",
       "    </tr>\n",
       "    <tr>\n",
       "      <th>479</th>\n",
       "      <td>rx_gpi2_34_dist_gpi6_pmpm_ct_1.0</td>\n",
       "      <td>0.0</td>\n",
       "    </tr>\n",
       "    <tr>\n",
       "      <th>480</th>\n",
       "      <td>rx_gpi2_34_dist_gpi6_pmpm_ct_*</td>\n",
       "      <td>0.0</td>\n",
       "    </tr>\n",
       "    <tr>\n",
       "      <th>483</th>\n",
       "      <td>rx_maint_pmpm_cost_t_6-3-0m_b4_Dec_4x-8x</td>\n",
       "      <td>0.0</td>\n",
       "    </tr>\n",
       "    <tr>\n",
       "      <th>488</th>\n",
       "      <td>rx_maint_pmpm_cost_t_6-3-0m_b4_Inc_over_8x</td>\n",
       "      <td>0.0</td>\n",
       "    </tr>\n",
       "    <tr>\n",
       "      <th>977</th>\n",
       "      <td>auth_3mth_post_acute_gus_*</td>\n",
       "      <td>0.0</td>\n",
       "    </tr>\n",
       "  </tbody>\n",
       "</table>\n",
       "<p>978 rows × 2 columns</p>\n",
       "</div>"
      ],
      "text/plain": [
       "                                     Feature_name Importance\n",
       "114                      cms_orig_reas_entitle_cd   0.010129\n",
       "52                                        est_age   0.008852\n",
       "639                       hum_region_EAST CENTRAL   0.007743\n",
       "640                            hum_region_FLORIDA   0.006716\n",
       "700  rx_gpi2_39_pmpm_cost_t_6-3-0m_b4_No Activity   0.006362\n",
       "..                                            ...        ...\n",
       "479              rx_gpi2_34_dist_gpi6_pmpm_ct_1.0        0.0\n",
       "480                rx_gpi2_34_dist_gpi6_pmpm_ct_*        0.0\n",
       "483      rx_maint_pmpm_cost_t_6-3-0m_b4_Dec_4x-8x        0.0\n",
       "488    rx_maint_pmpm_cost_t_6-3-0m_b4_Inc_over_8x        0.0\n",
       "977                    auth_3mth_post_acute_gus_*        0.0\n",
       "\n",
       "[978 rows x 2 columns]"
      ]
     },
     "execution_count": 43,
     "metadata": {},
     "output_type": "execute_result"
    }
   ],
   "source": [
    "imp_df.sort_values(by=\"Importance\", ascending = False)"
   ]
  },
  {
   "cell_type": "code",
   "execution_count": 44,
   "metadata": {},
   "outputs": [],
   "source": [
    "imp_df.to_csv(\"Features_Importance.csv\")"
   ]
  },
  {
   "cell_type": "code",
   "execution_count": 45,
   "metadata": {},
   "outputs": [
    {
     "name": "stderr",
     "output_type": "stream",
     "text": [
      "C:\\Users\\patri\\Anaconda3\\lib\\site-packages\\IPython\\core\\interactiveshell.py:3071: DtypeWarning: Columns (2,8,9,11,13,16,20,26,28,29,31,33,51,55,58,62,64,66,75,82,85,102,124,131,132,135,159,173,179,191,208,209,210,219,233,239,246,254,260,284,287,292,296,304,305,307,308,322,333,343,344,349,351,352,354) have mixed types.Specify dtype option on import or set low_memory=False.\n",
      "  has_raised = await self.run_ast_nodes(code_ast.body, cell_name,\n"
     ]
    },
    {
     "data": {
      "text/html": [
       "<div>\n",
       "<style scoped>\n",
       "    .dataframe tbody tr th:only-of-type {\n",
       "        vertical-align: middle;\n",
       "    }\n",
       "\n",
       "    .dataframe tbody tr th {\n",
       "        vertical-align: top;\n",
       "    }\n",
       "\n",
       "    .dataframe thead th {\n",
       "        text-align: right;\n",
       "    }\n",
       "</style>\n",
       "<table border=\"1\" class=\"dataframe\">\n",
       "  <thead>\n",
       "    <tr style=\"text-align: right;\">\n",
       "      <th></th>\n",
       "      <th>Unnamed: 0</th>\n",
       "      <th>ID</th>\n",
       "      <th>auth_3mth_post_acute_dia</th>\n",
       "      <th>rx_gpi2_72_pmpm_cost_6to9m_b4</th>\n",
       "      <th>atlas_pct_laccess_child15</th>\n",
       "      <th>atlas_recfacpth14</th>\n",
       "      <th>atlas_pct_fmrkt_frveg16</th>\n",
       "      <th>atlas_pct_free_lunch14</th>\n",
       "      <th>bh_ip_snf_net_paid_pmpm_cost_9to12m_b4</th>\n",
       "      <th>auth_3mth_acute_ckd</th>\n",
       "      <th>...</th>\n",
       "      <th>auth_3mth_post_acute_end</th>\n",
       "      <th>auth_3mth_acute_mus</th>\n",
       "      <th>atlas_perpov_1980_0711</th>\n",
       "      <th>atlas_pct_laccess_white15</th>\n",
       "      <th>auth_3mth_post_acute_mean_los</th>\n",
       "      <th>rx_gpi2_66_pmpm_ct</th>\n",
       "      <th>auth_3mth_acute_gus</th>\n",
       "      <th>rx_generic_dist_gpi6_pmpm_ct_t_9-6-3m_b4</th>\n",
       "      <th>atlas_low_education_2015_update</th>\n",
       "      <th>race_cd</th>\n",
       "    </tr>\n",
       "  </thead>\n",
       "  <tbody>\n",
       "    <tr>\n",
       "      <th>0</th>\n",
       "      <td>0</td>\n",
       "      <td>5M9OS1T3dLc09Ybc7013AI9f</td>\n",
       "      <td>0</td>\n",
       "      <td>0.0</td>\n",
       "      <td>9.735346</td>\n",
       "      <td>0.131562</td>\n",
       "      <td>100.0</td>\n",
       "      <td>NaN</td>\n",
       "      <td>0.0</td>\n",
       "      <td>0</td>\n",
       "      <td>...</td>\n",
       "      <td>0</td>\n",
       "      <td>0</td>\n",
       "      <td>0.0</td>\n",
       "      <td>12.404716</td>\n",
       "      <td>0.0</td>\n",
       "      <td>0.333333</td>\n",
       "      <td>0</td>\n",
       "      <td>Dec_1x-2x</td>\n",
       "      <td>0.0</td>\n",
       "      <td>1.0</td>\n",
       "    </tr>\n",
       "    <tr>\n",
       "      <th>1</th>\n",
       "      <td>1</td>\n",
       "      <td>0M8f45b4a4Of6aS3TL6Ya9AI</td>\n",
       "      <td>0</td>\n",
       "      <td>0.0</td>\n",
       "      <td>6.264524</td>\n",
       "      <td>0.075427</td>\n",
       "      <td>75.0</td>\n",
       "      <td>23.833889</td>\n",
       "      <td>0.0</td>\n",
       "      <td>0</td>\n",
       "      <td>...</td>\n",
       "      <td>0</td>\n",
       "      <td>0</td>\n",
       "      <td>0.0</td>\n",
       "      <td>35.363608</td>\n",
       "      <td>0.0</td>\n",
       "      <td>0.000000</td>\n",
       "      <td>0</td>\n",
       "      <td>No Activity</td>\n",
       "      <td>0.0</td>\n",
       "      <td>1.0</td>\n",
       "    </tr>\n",
       "    <tr>\n",
       "      <th>2</th>\n",
       "      <td>2</td>\n",
       "      <td>12MOS912Tb204LYacA2fIc22</td>\n",
       "      <td>0</td>\n",
       "      <td>0.0</td>\n",
       "      <td>6.136065</td>\n",
       "      <td>0.106704</td>\n",
       "      <td>85.0</td>\n",
       "      <td>26.085757</td>\n",
       "      <td>0.0</td>\n",
       "      <td>0</td>\n",
       "      <td>...</td>\n",
       "      <td>0</td>\n",
       "      <td>0</td>\n",
       "      <td>0.0</td>\n",
       "      <td>37.241558</td>\n",
       "      <td>0.0</td>\n",
       "      <td>0.000000</td>\n",
       "      <td>0</td>\n",
       "      <td>No_Change</td>\n",
       "      <td>0.0</td>\n",
       "      <td>1.0</td>\n",
       "    </tr>\n",
       "    <tr>\n",
       "      <th>3</th>\n",
       "      <td>3</td>\n",
       "      <td>M6O69S24T36LYec4AI5d0b56</td>\n",
       "      <td>0</td>\n",
       "      <td>0.0</td>\n",
       "      <td>1.244630</td>\n",
       "      <td>0.000000</td>\n",
       "      <td>NaN</td>\n",
       "      <td>64.748171</td>\n",
       "      <td>0.0</td>\n",
       "      <td>0</td>\n",
       "      <td>...</td>\n",
       "      <td>0</td>\n",
       "      <td>0</td>\n",
       "      <td>0.0</td>\n",
       "      <td>3.726617</td>\n",
       "      <td>0.0</td>\n",
       "      <td>0.000000</td>\n",
       "      <td>0</td>\n",
       "      <td>Inc_1x-2x</td>\n",
       "      <td>0.0</td>\n",
       "      <td>1.0</td>\n",
       "    </tr>\n",
       "    <tr>\n",
       "      <th>4</th>\n",
       "      <td>4</td>\n",
       "      <td>45947aM37Oc8S3dTLYA00Ica</td>\n",
       "      <td>0</td>\n",
       "      <td>0.0</td>\n",
       "      <td>8.009543</td>\n",
       "      <td>0.061276</td>\n",
       "      <td>87.5</td>\n",
       "      <td>61.518384</td>\n",
       "      <td>0.0</td>\n",
       "      <td>0</td>\n",
       "      <td>...</td>\n",
       "      <td>0</td>\n",
       "      <td>0</td>\n",
       "      <td>0.0</td>\n",
       "      <td>12.177458</td>\n",
       "      <td>0.0</td>\n",
       "      <td>0.000000</td>\n",
       "      <td>0</td>\n",
       "      <td>Dec_1x-2x</td>\n",
       "      <td>0.0</td>\n",
       "      <td>1.0</td>\n",
       "    </tr>\n",
       "  </tbody>\n",
       "</table>\n",
       "<p>5 rows × 367 columns</p>\n",
       "</div>"
      ],
      "text/plain": [
       "   Unnamed: 0                        ID auth_3mth_post_acute_dia  \\\n",
       "0           0  5M9OS1T3dLc09Ybc7013AI9f                        0   \n",
       "1           1  0M8f45b4a4Of6aS3TL6Ya9AI                        0   \n",
       "2           2  12MOS912Tb204LYacA2fIc22                        0   \n",
       "3           3  M6O69S24T36LYec4AI5d0b56                        0   \n",
       "4           4  45947aM37Oc8S3dTLYA00Ica                        0   \n",
       "\n",
       "   rx_gpi2_72_pmpm_cost_6to9m_b4  atlas_pct_laccess_child15  \\\n",
       "0                            0.0                   9.735346   \n",
       "1                            0.0                   6.264524   \n",
       "2                            0.0                   6.136065   \n",
       "3                            0.0                   1.244630   \n",
       "4                            0.0                   8.009543   \n",
       "\n",
       "   atlas_recfacpth14  atlas_pct_fmrkt_frveg16  atlas_pct_free_lunch14  \\\n",
       "0           0.131562                    100.0                     NaN   \n",
       "1           0.075427                     75.0               23.833889   \n",
       "2           0.106704                     85.0               26.085757   \n",
       "3           0.000000                      NaN               64.748171   \n",
       "4           0.061276                     87.5               61.518384   \n",
       "\n",
       "  bh_ip_snf_net_paid_pmpm_cost_9to12m_b4 auth_3mth_acute_ckd  ...  \\\n",
       "0                                    0.0                   0  ...   \n",
       "1                                    0.0                   0  ...   \n",
       "2                                    0.0                   0  ...   \n",
       "3                                    0.0                   0  ...   \n",
       "4                                    0.0                   0  ...   \n",
       "\n",
       "   auth_3mth_post_acute_end auth_3mth_acute_mus atlas_perpov_1980_0711  \\\n",
       "0                         0                   0                    0.0   \n",
       "1                         0                   0                    0.0   \n",
       "2                         0                   0                    0.0   \n",
       "3                         0                   0                    0.0   \n",
       "4                         0                   0                    0.0   \n",
       "\n",
       "  atlas_pct_laccess_white15  auth_3mth_post_acute_mean_los rx_gpi2_66_pmpm_ct  \\\n",
       "0                 12.404716                            0.0           0.333333   \n",
       "1                 35.363608                            0.0           0.000000   \n",
       "2                 37.241558                            0.0           0.000000   \n",
       "3                  3.726617                            0.0           0.000000   \n",
       "4                 12.177458                            0.0           0.000000   \n",
       "\n",
       "  auth_3mth_acute_gus rx_generic_dist_gpi6_pmpm_ct_t_9-6-3m_b4  \\\n",
       "0                   0                                Dec_1x-2x   \n",
       "1                   0                              No Activity   \n",
       "2                   0                                No_Change   \n",
       "3                   0                                Inc_1x-2x   \n",
       "4                   0                                Dec_1x-2x   \n",
       "\n",
       "   atlas_low_education_2015_update  race_cd  \n",
       "0                              0.0      1.0  \n",
       "1                              0.0      1.0  \n",
       "2                              0.0      1.0  \n",
       "3                              0.0      1.0  \n",
       "4                              0.0      1.0  \n",
       "\n",
       "[5 rows x 367 columns]"
      ]
     },
     "execution_count": 45,
     "metadata": {},
     "output_type": "execute_result"
    }
   ],
   "source": [
    "val_df = pd.read_csv(\"2021_Competition_Holdout.csv\")\n",
    "val_df.head()"
   ]
  },
  {
   "cell_type": "code",
   "execution_count": 47,
   "metadata": {},
   "outputs": [],
   "source": [
    "val_df = val_df.set_index(\"ID\").drop(\"Unnamed: 0\", axis = 1)"
   ]
  },
  {
   "cell_type": "code",
   "execution_count": 51,
   "metadata": {},
   "outputs": [
    {
     "name": "stderr",
     "output_type": "stream",
     "text": [
      "C:\\Users\\patri\\Anaconda3\\lib\\site-packages\\xgboost\\sklearn.py:1146: UserWarning: The use of label encoder in XGBClassifier is deprecated and will be removed in a future release. To remove this warning, do the following: 1) Pass option use_label_encoder=False when constructing XGBClassifier object; and 2) Encode your labels (y) as integers starting with 0, i.e. 0, 1, 2, ..., [num_class - 1].\n",
      "  warnings.warn(label_encoder_deprecation_msg, UserWarning)\n"
     ]
    },
    {
     "name": "stdout",
     "output_type": "stream",
     "text": [
      "\n",
      "Model Report\n",
      "Accuracy : 0.8279\n"
     ]
    },
    {
     "name": "stderr",
     "output_type": "stream",
     "text": [
      "C:\\Users\\patri\\Anaconda3\\lib\\site-packages\\sklearn\\utils\\deprecation.py:87: FutureWarning: Function plot_roc_curve is deprecated; Function `plot_roc_curve` is deprecated in 1.0 and will be removed in 1.2. Use one of the class methods: RocCurveDisplay.from_predictions or RocCurveDisplay.from_estimator.\n",
      "  warnings.warn(msg, category=FutureWarning)\n"
     ]
    },
    {
     "data": {
      "image/png": "[encoded data removed]",
      "text/plain": [
       "<Figure size 432x288 with 1 Axes>"
      ]
     },
     "metadata": {
      "needs_background": "light"
     },
     "output_type": "display_data"
    }
   ],
   "source": [
    "xgb3 = XGBClassifier(\n",
    " learning_rate =0.1,\n",
    " n_estimators=300,\n",
    " max_depth=3,\n",
    " min_child_weight=5,\n",
    " gamma=0,\n",
    " subsample=0.8,\n",
    " colsample_bytree=0.8,\n",
    " objective= 'binary:logistic',\n",
    " nthread=4,\n",
    " scale_pos_weight=1,\n",
    " seed=27)\n",
    "\n",
    "xgb3_model = xgb3.fit(x_train, y_train, eval_metric='auc')\n",
    "\n",
    "pred = xgb3_model.predict(x_test)\n",
    "predprob = xgb3_model.predict_proba(x_test)\n",
    "        \n",
    "\n",
    "print (\"\\nModel Report\")\n",
    "print (\"Accuracy : %.4g\" % accuracy_score(y_test, pred))\n",
    "plot_roc_curve(xgb3_model, x_test, y_test)\n",
    "plt.show()"
   ]
  },
  {
   "cell_type": "code",
   "execution_count": 53,
   "metadata": {},
   "outputs": [],
   "source": [
    "x_val = val_df.copy()\n",
    "\n",
    "x_val = pd.get_dummies(x_val)"
   ]
  },
  {
   "cell_type": "code",
   "execution_count": 54,
   "metadata": {},
   "outputs": [
    {
     "ename": "ValueError",
     "evalue": "Feature shape mismatch, expected: 978, got 525158",
     "output_type": "error",
     "traceback": [
      "\u001b[1;31m---------------------------------------------------------------------------\u001b[0m",
      "\u001b[1;31mValueError\u001b[0m                                Traceback (most recent call last)",
      "\u001b[1;32m<ipython-input-54-f3fa68e1d285>\u001b[0m in \u001b[0;36m<module>\u001b[1;34m\u001b[0m\n\u001b[1;32m----> 1\u001b[1;33m \u001b[0mval_pred\u001b[0m \u001b[1;33m=\u001b[0m \u001b[0mxgb3_model\u001b[0m\u001b[1;33m.\u001b[0m\u001b[0mpredict\u001b[0m\u001b[1;33m(\u001b[0m\u001b[0mx_val\u001b[0m\u001b[1;33m)\u001b[0m\u001b[1;33m\u001b[0m\u001b[1;33m\u001b[0m\u001b[0m\n\u001b[0m",
      "\u001b[1;32m~\\Anaconda3\\lib\\site-packages\\xgboost\\sklearn.py\u001b[0m in \u001b[0;36mpredict\u001b[1;34m(self, X, output_margin, ntree_limit, validate_features, base_margin, iteration_range)\u001b[0m\n\u001b[0;32m   1207\u001b[0m         \u001b[0miteration_range\u001b[0m\u001b[1;33m:\u001b[0m \u001b[0mOptional\u001b[0m\u001b[1;33m[\u001b[0m\u001b[0mTuple\u001b[0m\u001b[1;33m[\u001b[0m\u001b[0mint\u001b[0m\u001b[1;33m,\u001b[0m \u001b[0mint\u001b[0m\u001b[1;33m]\u001b[0m\u001b[1;33m]\u001b[0m \u001b[1;33m=\u001b[0m \u001b[1;32mNone\u001b[0m\u001b[1;33m,\u001b[0m\u001b[1;33m\u001b[0m\u001b[1;33m\u001b[0m\u001b[0m\n\u001b[0;32m   1208\u001b[0m     ):\n\u001b[1;32m-> 1209\u001b[1;33m         class_probs = super().predict(\n\u001b[0m\u001b[0;32m   1210\u001b[0m             \u001b[0mX\u001b[0m\u001b[1;33m=\u001b[0m\u001b[0mX\u001b[0m\u001b[1;33m,\u001b[0m\u001b[1;33m\u001b[0m\u001b[1;33m\u001b[0m\u001b[0m\n\u001b[0;32m   1211\u001b[0m             \u001b[0moutput_margin\u001b[0m\u001b[1;33m=\u001b[0m\u001b[0moutput_margin\u001b[0m\u001b[1;33m,\u001b[0m\u001b[1;33m\u001b[0m\u001b[1;33m\u001b[0m\u001b[0m\n",
      "\u001b[1;32m~\\Anaconda3\\lib\\site-packages\\xgboost\\sklearn.py\u001b[0m in \u001b[0;36mpredict\u001b[1;34m(self, X, output_margin, ntree_limit, validate_features, base_margin, iteration_range)\u001b[0m\n\u001b[0;32m    818\u001b[0m         \u001b[1;32mif\u001b[0m \u001b[0mself\u001b[0m\u001b[1;33m.\u001b[0m\u001b[0m_can_use_inplace_predict\u001b[0m\u001b[1;33m(\u001b[0m\u001b[1;33m)\u001b[0m\u001b[1;33m:\u001b[0m\u001b[1;33m\u001b[0m\u001b[1;33m\u001b[0m\u001b[0m\n\u001b[0;32m    819\u001b[0m             \u001b[1;32mtry\u001b[0m\u001b[1;33m:\u001b[0m\u001b[1;33m\u001b[0m\u001b[1;33m\u001b[0m\u001b[0m\n\u001b[1;32m--> 820\u001b[1;33m                 predts = self.get_booster().inplace_predict(\n\u001b[0m\u001b[0;32m    821\u001b[0m                     \u001b[0mdata\u001b[0m\u001b[1;33m=\u001b[0m\u001b[0mX\u001b[0m\u001b[1;33m,\u001b[0m\u001b[1;33m\u001b[0m\u001b[1;33m\u001b[0m\u001b[0m\n\u001b[0;32m    822\u001b[0m                     \u001b[0miteration_range\u001b[0m\u001b[1;33m=\u001b[0m\u001b[0miteration_range\u001b[0m\u001b[1;33m,\u001b[0m\u001b[1;33m\u001b[0m\u001b[1;33m\u001b[0m\u001b[0m\n",
      "\u001b[1;32m~\\Anaconda3\\lib\\site-packages\\xgboost\\core.py\u001b[0m in \u001b[0;36minplace_predict\u001b[1;34m(self, data, iteration_range, predict_type, missing, validate_features, base_margin, strict_shape)\u001b[0m\n\u001b[0;32m   1839\u001b[0m         \u001b[1;32mif\u001b[0m \u001b[0mvalidate_features\u001b[0m\u001b[1;33m:\u001b[0m\u001b[1;33m\u001b[0m\u001b[1;33m\u001b[0m\u001b[0m\n\u001b[0;32m   1840\u001b[0m             \u001b[1;32mif\u001b[0m \u001b[0mlen\u001b[0m\u001b[1;33m(\u001b[0m\u001b[0mdata\u001b[0m\u001b[1;33m.\u001b[0m\u001b[0mshape\u001b[0m\u001b[1;33m)\u001b[0m \u001b[1;33m!=\u001b[0m \u001b[1;36m1\u001b[0m \u001b[1;32mand\u001b[0m \u001b[0mself\u001b[0m\u001b[1;33m.\u001b[0m\u001b[0mnum_features\u001b[0m\u001b[1;33m(\u001b[0m\u001b[1;33m)\u001b[0m \u001b[1;33m!=\u001b[0m \u001b[0mdata\u001b[0m\u001b[1;33m.\u001b[0m\u001b[0mshape\u001b[0m\u001b[1;33m[\u001b[0m\u001b[1;36m1\u001b[0m\u001b[1;33m]\u001b[0m\u001b[1;33m:\u001b[0m\u001b[1;33m\u001b[0m\u001b[1;33m\u001b[0m\u001b[0m\n\u001b[1;32m-> 1841\u001b[1;33m                 raise ValueError(\n\u001b[0m\u001b[0;32m   1842\u001b[0m                     \u001b[1;34mf\"Feature shape mismatch, expected: {self.num_features()}, \"\u001b[0m\u001b[1;33m\u001b[0m\u001b[1;33m\u001b[0m\u001b[0m\n\u001b[0;32m   1843\u001b[0m                     \u001b[1;34mf\"got {data.shape[0]}\"\u001b[0m\u001b[1;33m\u001b[0m\u001b[1;33m\u001b[0m\u001b[0m\n",
      "\u001b[1;31mValueError\u001b[0m: Feature shape mismatch, expected: 978, got 525158"
     ]
    }
   ],
   "source": [
    "val_pred = xgb3_model.predict(x_val)"
   ]
  },
  {
   "cell_type": "code",
   "execution_count": null,
   "metadata": {},
   "outputs": [],
   "source": []
  }
 ],
 "metadata": {
  "kernelspec": {
   "display_name": "Python 3",
   "language": "python",
   "name": "python3"
  },
  "language_info": {
   "codemirror_mode": {
    "name": "ipython",
    "version": 3
   },
   "file_extension": ".py",
   "mimetype": "text/x-python",
   "name": "python",
   "nbconvert_exporter": "python",
   "pygments_lexer": "ipython3",
   "version": "3.8.3"
  }
 },
 "nbformat": 4,
 "nbformat_minor": 4
}
