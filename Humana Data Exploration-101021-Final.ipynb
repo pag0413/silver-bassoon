{
 "cells": [
  {
   "cell_type": "code",
   "execution_count": 1,
   "metadata": {},
   "outputs": [],
   "source": [
    "import numpy as np\n",
    "import pandas as pd\n",
    "import matplotlib.pyplot as plt\n",
    "import random\n",
    "\n",
    "from sklearn.preprocessing import OneHotEncoder\n",
    "from sklearn.ensemble import RandomForestClassifier\n",
    "from sklearn.model_selection import train_test_split\n",
    "from sklearn.model_selection import cross_val_score\n",
    "from sklearn.model_selection import GridSearchCV\n",
    "from sklearn.metrics import roc_curve, plot_roc_curve, accuracy_score, roc_auc_score, confusion_matrix\n",
    "\n",
    "import xgboost as xgb\n",
    "from xgboost.sklearn import XGBClassifier"
   ]
  },
  {
   "cell_type": "code",
   "execution_count": 2,
   "metadata": {},
   "outputs": [
    {
     "name": "stderr",
     "output_type": "stream",
     "text": [
      "C:\\Users\\patri\\Anaconda3\\lib\\site-packages\\IPython\\core\\interactiveshell.py:3071: DtypeWarning: Columns (2,8,9,11,13,16,20,26,28,29,31,33,51,55,58,62,64,66,68,75,85,102,124,127,131,132,135,160,174,180,187,192,202,209,210,211,215,220,230,234,240,243,247,251,255,261,285,293,297,300,305,306,309,323,334,344,345,352,353,355,359) have mixed types.Specify dtype option on import or set low_memory=False.\n",
      "  has_raised = await self.run_ast_nodes(code_ast.body, cell_name,\n"
     ]
    },
    {
     "data": {
      "text/html": [
       "<div>\n",
       "<style scoped>\n",
       "    .dataframe tbody tr th:only-of-type {\n",
       "        vertical-align: middle;\n",
       "    }\n",
       "\n",
       "    .dataframe tbody tr th {\n",
       "        vertical-align: top;\n",
       "    }\n",
       "\n",
       "    .dataframe thead th {\n",
       "        text-align: right;\n",
       "    }\n",
       "</style>\n",
       "<table border=\"1\" class=\"dataframe\">\n",
       "  <thead>\n",
       "    <tr style=\"text-align: right;\">\n",
       "      <th></th>\n",
       "      <th>Unnamed: 0</th>\n",
       "      <th>auth_3mth_post_acute_dia</th>\n",
       "      <th>rx_gpi2_72_pmpm_cost_6to9m_b4</th>\n",
       "      <th>atlas_pct_laccess_child15</th>\n",
       "      <th>atlas_recfacpth14</th>\n",
       "      <th>atlas_pct_fmrkt_frveg16</th>\n",
       "      <th>atlas_pct_free_lunch14</th>\n",
       "      <th>bh_ip_snf_net_paid_pmpm_cost_9to12m_b4</th>\n",
       "      <th>auth_3mth_acute_ckd</th>\n",
       "      <th>bh_ncal_pmpm_ct</th>\n",
       "      <th>...</th>\n",
       "      <th>auth_3mth_post_acute_end</th>\n",
       "      <th>auth_3mth_acute_mus</th>\n",
       "      <th>atlas_perpov_1980_0711</th>\n",
       "      <th>atlas_pct_laccess_white15</th>\n",
       "      <th>auth_3mth_post_acute_mean_los</th>\n",
       "      <th>rx_gpi2_66_pmpm_ct</th>\n",
       "      <th>auth_3mth_acute_gus</th>\n",
       "      <th>rx_generic_dist_gpi6_pmpm_ct_t_9-6-3m_b4</th>\n",
       "      <th>atlas_low_education_2015_update</th>\n",
       "      <th>race_cd</th>\n",
       "    </tr>\n",
       "    <tr>\n",
       "      <th>ID</th>\n",
       "      <th></th>\n",
       "      <th></th>\n",
       "      <th></th>\n",
       "      <th></th>\n",
       "      <th></th>\n",
       "      <th></th>\n",
       "      <th></th>\n",
       "      <th></th>\n",
       "      <th></th>\n",
       "      <th></th>\n",
       "      <th></th>\n",
       "      <th></th>\n",
       "      <th></th>\n",
       "      <th></th>\n",
       "      <th></th>\n",
       "      <th></th>\n",
       "      <th></th>\n",
       "      <th></th>\n",
       "      <th></th>\n",
       "      <th></th>\n",
       "      <th></th>\n",
       "    </tr>\n",
       "  </thead>\n",
       "  <tbody>\n",
       "    <tr>\n",
       "      <th>1MObcfaSTac85Lca0Y8bbA6I</th>\n",
       "      <td>0</td>\n",
       "      <td>0</td>\n",
       "      <td>0.000000</td>\n",
       "      <td>7.910346</td>\n",
       "      <td>0.049413</td>\n",
       "      <td>0.000000</td>\n",
       "      <td>46.839102</td>\n",
       "      <td>0.0</td>\n",
       "      <td>0</td>\n",
       "      <td>0.0</td>\n",
       "      <td>...</td>\n",
       "      <td>0</td>\n",
       "      <td>0</td>\n",
       "      <td>0.0</td>\n",
       "      <td>26.842903</td>\n",
       "      <td>0.0</td>\n",
       "      <td>0.000000</td>\n",
       "      <td>0</td>\n",
       "      <td>Inc_1x-2x</td>\n",
       "      <td>0.0</td>\n",
       "      <td>1.0</td>\n",
       "    </tr>\n",
       "    <tr>\n",
       "      <th>5M89OSTL580dYeA849d3480I</th>\n",
       "      <td>1</td>\n",
       "      <td>0</td>\n",
       "      <td>0.000000</td>\n",
       "      <td>1.730272</td>\n",
       "      <td>0.095624</td>\n",
       "      <td>60.000000</td>\n",
       "      <td>36.721923</td>\n",
       "      <td>NaN</td>\n",
       "      <td>0</td>\n",
       "      <td>0.0</td>\n",
       "      <td>...</td>\n",
       "      <td>0</td>\n",
       "      <td>0</td>\n",
       "      <td>0.0</td>\n",
       "      <td>11.405128</td>\n",
       "      <td>0.0</td>\n",
       "      <td>0.000000</td>\n",
       "      <td>0</td>\n",
       "      <td>New</td>\n",
       "      <td>0.0</td>\n",
       "      <td>1.0</td>\n",
       "    </tr>\n",
       "    <tr>\n",
       "      <th>MdOS23TLe18Y60043Acfa2I9</th>\n",
       "      <td>2</td>\n",
       "      <td>0</td>\n",
       "      <td>0.000000</td>\n",
       "      <td>5.015501</td>\n",
       "      <td>0.022398</td>\n",
       "      <td>30.000000</td>\n",
       "      <td>39.605015</td>\n",
       "      <td>0.0</td>\n",
       "      <td>0</td>\n",
       "      <td>0.0</td>\n",
       "      <td>...</td>\n",
       "      <td>0</td>\n",
       "      <td>0</td>\n",
       "      <td>0.0</td>\n",
       "      <td>1.713138</td>\n",
       "      <td>0.0</td>\n",
       "      <td>0.083333</td>\n",
       "      <td>0</td>\n",
       "      <td>Inc_1x-2x</td>\n",
       "      <td>0.0</td>\n",
       "      <td>1.0</td>\n",
       "    </tr>\n",
       "    <tr>\n",
       "      <th>2ccMO510abSaT79cLfaYAIe4</th>\n",
       "      <td>3</td>\n",
       "      <td>0</td>\n",
       "      <td>2.266667</td>\n",
       "      <td>4.049586</td>\n",
       "      <td>0.070407</td>\n",
       "      <td>50.000000</td>\n",
       "      <td>93.694818</td>\n",
       "      <td>0.0</td>\n",
       "      <td>0</td>\n",
       "      <td>0.0</td>\n",
       "      <td>...</td>\n",
       "      <td>0</td>\n",
       "      <td>0</td>\n",
       "      <td>0.0</td>\n",
       "      <td>11.853595</td>\n",
       "      <td>0.0</td>\n",
       "      <td>0.000000</td>\n",
       "      <td>0</td>\n",
       "      <td>Dec_1x-2x</td>\n",
       "      <td>0.0</td>\n",
       "      <td>1.0</td>\n",
       "    </tr>\n",
       "    <tr>\n",
       "      <th>0M9811Ocb1ST94LY3f5A9I00</th>\n",
       "      <td>4</td>\n",
       "      <td>0</td>\n",
       "      <td>0.000000</td>\n",
       "      <td>0.618606</td>\n",
       "      <td>0.074862</td>\n",
       "      <td>88.272489</td>\n",
       "      <td>36.298252</td>\n",
       "      <td>0.0</td>\n",
       "      <td>0</td>\n",
       "      <td>0.0</td>\n",
       "      <td>...</td>\n",
       "      <td>0</td>\n",
       "      <td>0</td>\n",
       "      <td>0.0</td>\n",
       "      <td>33.795298</td>\n",
       "      <td>0.0</td>\n",
       "      <td>0.000000</td>\n",
       "      <td>0</td>\n",
       "      <td>Dec_1x-2x</td>\n",
       "      <td>0.0</td>\n",
       "      <td>1.0</td>\n",
       "    </tr>\n",
       "  </tbody>\n",
       "</table>\n",
       "<p>5 rows × 367 columns</p>\n",
       "</div>"
      ],
      "text/plain": [
       "                          Unnamed: 0 auth_3mth_post_acute_dia  \\\n",
       "ID                                                              \n",
       "1MObcfaSTac85Lca0Y8bbA6I           0                        0   \n",
       "5M89OSTL580dYeA849d3480I           1                        0   \n",
       "MdOS23TLe18Y60043Acfa2I9           2                        0   \n",
       "2ccMO510abSaT79cLfaYAIe4           3                        0   \n",
       "0M9811Ocb1ST94LY3f5A9I00           4                        0   \n",
       "\n",
       "                          rx_gpi2_72_pmpm_cost_6to9m_b4  \\\n",
       "ID                                                        \n",
       "1MObcfaSTac85Lca0Y8bbA6I                       0.000000   \n",
       "5M89OSTL580dYeA849d3480I                       0.000000   \n",
       "MdOS23TLe18Y60043Acfa2I9                       0.000000   \n",
       "2ccMO510abSaT79cLfaYAIe4                       2.266667   \n",
       "0M9811Ocb1ST94LY3f5A9I00                       0.000000   \n",
       "\n",
       "                          atlas_pct_laccess_child15  atlas_recfacpth14  \\\n",
       "ID                                                                       \n",
       "1MObcfaSTac85Lca0Y8bbA6I                   7.910346           0.049413   \n",
       "5M89OSTL580dYeA849d3480I                   1.730272           0.095624   \n",
       "MdOS23TLe18Y60043Acfa2I9                   5.015501           0.022398   \n",
       "2ccMO510abSaT79cLfaYAIe4                   4.049586           0.070407   \n",
       "0M9811Ocb1ST94LY3f5A9I00                   0.618606           0.074862   \n",
       "\n",
       "                          atlas_pct_fmrkt_frveg16  atlas_pct_free_lunch14  \\\n",
       "ID                                                                          \n",
       "1MObcfaSTac85Lca0Y8bbA6I                 0.000000               46.839102   \n",
       "5M89OSTL580dYeA849d3480I                60.000000               36.721923   \n",
       "MdOS23TLe18Y60043Acfa2I9                30.000000               39.605015   \n",
       "2ccMO510abSaT79cLfaYAIe4                50.000000               93.694818   \n",
       "0M9811Ocb1ST94LY3f5A9I00                88.272489               36.298252   \n",
       "\n",
       "                         bh_ip_snf_net_paid_pmpm_cost_9to12m_b4  \\\n",
       "ID                                                                \n",
       "1MObcfaSTac85Lca0Y8bbA6I                                    0.0   \n",
       "5M89OSTL580dYeA849d3480I                                    NaN   \n",
       "MdOS23TLe18Y60043Acfa2I9                                    0.0   \n",
       "2ccMO510abSaT79cLfaYAIe4                                    0.0   \n",
       "0M9811Ocb1ST94LY3f5A9I00                                    0.0   \n",
       "\n",
       "                         auth_3mth_acute_ckd  bh_ncal_pmpm_ct  ...  \\\n",
       "ID                                                             ...   \n",
       "1MObcfaSTac85Lca0Y8bbA6I                   0              0.0  ...   \n",
       "5M89OSTL580dYeA849d3480I                   0              0.0  ...   \n",
       "MdOS23TLe18Y60043Acfa2I9                   0              0.0  ...   \n",
       "2ccMO510abSaT79cLfaYAIe4                   0              0.0  ...   \n",
       "0M9811Ocb1ST94LY3f5A9I00                   0              0.0  ...   \n",
       "\n",
       "                         auth_3mth_post_acute_end auth_3mth_acute_mus  \\\n",
       "ID                                                                      \n",
       "1MObcfaSTac85Lca0Y8bbA6I                        0                   0   \n",
       "5M89OSTL580dYeA849d3480I                        0                   0   \n",
       "MdOS23TLe18Y60043Acfa2I9                        0                   0   \n",
       "2ccMO510abSaT79cLfaYAIe4                        0                   0   \n",
       "0M9811Ocb1ST94LY3f5A9I00                        0                   0   \n",
       "\n",
       "                         atlas_perpov_1980_0711  atlas_pct_laccess_white15  \\\n",
       "ID                                                                           \n",
       "1MObcfaSTac85Lca0Y8bbA6I                    0.0                  26.842903   \n",
       "5M89OSTL580dYeA849d3480I                    0.0                  11.405128   \n",
       "MdOS23TLe18Y60043Acfa2I9                    0.0                   1.713138   \n",
       "2ccMO510abSaT79cLfaYAIe4                    0.0                  11.853595   \n",
       "0M9811Ocb1ST94LY3f5A9I00                    0.0                  33.795298   \n",
       "\n",
       "                         auth_3mth_post_acute_mean_los rx_gpi2_66_pmpm_ct  \\\n",
       "ID                                                                          \n",
       "1MObcfaSTac85Lca0Y8bbA6I                           0.0           0.000000   \n",
       "5M89OSTL580dYeA849d3480I                           0.0           0.000000   \n",
       "MdOS23TLe18Y60043Acfa2I9                           0.0           0.083333   \n",
       "2ccMO510abSaT79cLfaYAIe4                           0.0           0.000000   \n",
       "0M9811Ocb1ST94LY3f5A9I00                           0.0           0.000000   \n",
       "\n",
       "                         auth_3mth_acute_gus  \\\n",
       "ID                                             \n",
       "1MObcfaSTac85Lca0Y8bbA6I                   0   \n",
       "5M89OSTL580dYeA849d3480I                   0   \n",
       "MdOS23TLe18Y60043Acfa2I9                   0   \n",
       "2ccMO510abSaT79cLfaYAIe4                   0   \n",
       "0M9811Ocb1ST94LY3f5A9I00                   0   \n",
       "\n",
       "                          rx_generic_dist_gpi6_pmpm_ct_t_9-6-3m_b4  \\\n",
       "ID                                                                   \n",
       "1MObcfaSTac85Lca0Y8bbA6I                                 Inc_1x-2x   \n",
       "5M89OSTL580dYeA849d3480I                                       New   \n",
       "MdOS23TLe18Y60043Acfa2I9                                 Inc_1x-2x   \n",
       "2ccMO510abSaT79cLfaYAIe4                                 Dec_1x-2x   \n",
       "0M9811Ocb1ST94LY3f5A9I00                                 Dec_1x-2x   \n",
       "\n",
       "                          atlas_low_education_2015_update race_cd  \n",
       "ID                                                                 \n",
       "1MObcfaSTac85Lca0Y8bbA6I                              0.0     1.0  \n",
       "5M89OSTL580dYeA849d3480I                              0.0     1.0  \n",
       "MdOS23TLe18Y60043Acfa2I9                              0.0     1.0  \n",
       "2ccMO510abSaT79cLfaYAIe4                              0.0     1.0  \n",
       "0M9811Ocb1ST94LY3f5A9I00                              0.0     1.0  \n",
       "\n",
       "[5 rows x 367 columns]"
      ]
     },
     "execution_count": 2,
     "metadata": {},
     "output_type": "execute_result"
    }
   ],
   "source": [
    "#loading full dataset\n",
    "df = pd.read_csv(\"2021_Competition_Training.csv\")\n",
    "df.set_index([\"ID\"], inplace = True)\n",
    "df.head()"
   ]
  },
  {
   "cell_type": "code",
   "execution_count": 3,
   "metadata": {},
   "outputs": [],
   "source": [
    "df = df.drop([\"rx_generic_dist_gpi6_pmpm_ct_t_9-6-3m_b4\", \"Unnamed: 0\",'lang_spoken_cd',\"mabh_seg\",\"cons_ltmedicr\",\"hedis_dia_hba1c_ge9\"], axis = 1)"
   ]
  },
  {
   "cell_type": "code",
   "execution_count": 4,
   "metadata": {},
   "outputs": [
    {
     "name": "stdout",
     "output_type": "stream",
     "text": [
      "['0', '0', '0', '0', '0']\n",
      "ID\n",
      "1MObcfaSTac85Lca0Y8bbA6I    no_vacc\n",
      "5M89OSTL580dYeA849d3480I    no_vacc\n",
      "MdOS23TLe18Y60043Acfa2I9    no_vacc\n",
      "2ccMO510abSaT79cLfaYAIe4    no_vacc\n",
      "0M9811Ocb1ST94LY3f5A9I00    no_vacc\n",
      "Name: covid_vaccination, dtype: object\n"
     ]
    }
   ],
   "source": [
    "#dividing into features and labels\n",
    "reduced = df.copy() \n",
    "x= reduced.loc[:, reduced.columns != 'covid_vaccination']\n",
    "y = reduced['covid_vaccination']\n",
    "y = [\"1\" if i == \"vacc\" else \"0\" for i in y]\n",
    "print(y[:5])\n",
    "print(reduced['covid_vaccination'][:5])"
   ]
  },
  {
   "cell_type": "code",
   "execution_count": 5,
   "metadata": {},
   "outputs": [
    {
     "data": {
      "text/plain": [
       "(974842, 1253)"
      ]
     },
     "execution_count": 5,
     "metadata": {},
     "output_type": "execute_result"
    }
   ],
   "source": [
    "\n",
    "x = pd.get_dummies(x)\n",
    "x.shape\n"
   ]
  },
  {
   "cell_type": "code",
   "execution_count": 6,
   "metadata": {},
   "outputs": [
    {
     "data": {
      "text/plain": [
       "(974842, 1043)"
      ]
     },
     "execution_count": 6,
     "metadata": {},
     "output_type": "execute_result"
    }
   ],
   "source": [
    "x_no_dup = x.copy()\n",
    "x_no_dup = x_no_dup.loc[:,~x_no_dup.columns.duplicated()]\n",
    "x_no_dup.shape\n"
   ]
  },
  {
   "cell_type": "code",
   "execution_count": 7,
   "metadata": {},
   "outputs": [
    {
     "name": "stdout",
     "output_type": "stream",
     "text": [
      "(779873, 1043) (194969, 1043)\n",
      "['0', '0', '0', '0', '0']\n"
     ]
    }
   ],
   "source": [
    "#split into train and test datasets\n",
    "\n",
    "x_train, x_test, y_train, y_test = train_test_split(x_no_dup,y,test_size = 0.2, random_state = 42)\n",
    "print(x_train.shape,x_test.shape)\n",
    "print(y_test[0:5])"
   ]
  },
  {
   "cell_type": "code",
   "execution_count": 8,
   "metadata": {},
   "outputs": [],
   "source": [
    "xgb3 = XGBClassifier(\n",
    " learning_rate =0.1,\n",
    " n_estimators=300,\n",
    " max_depth=3,\n",
    " min_child_weight=5,\n",
    " gamma=0,\n",
    " subsample=0.8,\n",
    " colsample_bytree=0.8,\n",
    " objective= 'binary:logistic',\n",
    " nthread=-1,\n",
    " scale_pos_weight=1,\n",
    " seed=27)\n",
    "\n"
   ]
  },
  {
   "cell_type": "raw",
   "metadata": {},
   "source": [
    "xgb3_model = xgb3.fit(x_train, y_train, eval_metric='auc')\n",
    "\n",
    "pred = xgb3_model.predict(x_test)\n",
    "predprob = xgb3_model.predict_proba(x_test)\n",
    "        \n",
    "\n",
    "print (\"\\nModel Report\")\n",
    "print (\"Accuracy : %.4g\" % accuracy_score(y_test, pred))\n",
    "plot_roc_curve(xgb3_model, x_test, y_test)\n",
    "plt.show()"
   ]
  },
  {
   "cell_type": "raw",
   "metadata": {},
   "source": [
    "import pickle\n",
    "filename = 'finalized_model.sav'\n",
    "pickle.dump(xgb3_model, open(filename, 'wb'))"
   ]
  },
  {
   "cell_type": "raw",
   "metadata": {},
   "source": [
    "imp_dict = {}\n",
    "for i in range(x_no_dup.shape[1]):\n",
    "    name = x_no_dup.columns[i]\n",
    "    imp = xgb3_model.feature_importances_[i]\n",
    "    imp_dict[i]=name,imp\n",
    "    \n",
    "imp_df = pd.DataFrame(imp_dict)\n",
    "imp_df = imp_df.T\n",
    "imp_df = imp_df.rename(columns = {0:\"Feature_name\", 1: \"Importance\"})\n",
    "imp_df.head()"
   ]
  },
  {
   "cell_type": "code",
   "execution_count": 9,
   "metadata": {},
   "outputs": [
    {
     "data": {
      "text/html": [
       "<div>\n",
       "<style scoped>\n",
       "    .dataframe tbody tr th:only-of-type {\n",
       "        vertical-align: middle;\n",
       "    }\n",
       "\n",
       "    .dataframe tbody tr th {\n",
       "        vertical-align: top;\n",
       "    }\n",
       "\n",
       "    .dataframe thead th {\n",
       "        text-align: right;\n",
       "    }\n",
       "</style>\n",
       "<table border=\"1\" class=\"dataframe\">\n",
       "  <thead>\n",
       "    <tr style=\"text-align: right;\">\n",
       "      <th></th>\n",
       "      <th>Feature_name</th>\n",
       "      <th>Importance</th>\n",
       "    </tr>\n",
       "  </thead>\n",
       "  <tbody>\n",
       "    <tr>\n",
       "      <th>0</th>\n",
       "      <td>rx_gpi2_72_pmpm_cost_6to9m_b4</td>\n",
       "      <td>0.000977</td>\n",
       "    </tr>\n",
       "    <tr>\n",
       "      <th>1</th>\n",
       "      <td>atlas_pct_laccess_child15</td>\n",
       "      <td>0.001134</td>\n",
       "    </tr>\n",
       "    <tr>\n",
       "      <th>2</th>\n",
       "      <td>atlas_recfacpth14</td>\n",
       "      <td>0.001014</td>\n",
       "    </tr>\n",
       "    <tr>\n",
       "      <th>3</th>\n",
       "      <td>atlas_pct_fmrkt_frveg16</td>\n",
       "      <td>0.001214</td>\n",
       "    </tr>\n",
       "    <tr>\n",
       "      <th>4</th>\n",
       "      <td>atlas_pct_free_lunch14</td>\n",
       "      <td>0.001085</td>\n",
       "    </tr>\n",
       "  </tbody>\n",
       "</table>\n",
       "</div>"
      ],
      "text/plain": [
       "                    Feature_name  Importance\n",
       "0  rx_gpi2_72_pmpm_cost_6to9m_b4    0.000977\n",
       "1      atlas_pct_laccess_child15    0.001134\n",
       "2              atlas_recfacpth14    0.001014\n",
       "3        atlas_pct_fmrkt_frveg16    0.001214\n",
       "4         atlas_pct_free_lunch14    0.001085"
      ]
     },
     "execution_count": 9,
     "metadata": {},
     "output_type": "execute_result"
    }
   ],
   "source": [
    "#imp_df.to_csv(\"Features_Importance_Final.csv\")\n",
    "imp_df=pd.read_csv(\"Features_Importance_Final.csv\", index_col = 0)\n",
    "imp_df.head()\n"
   ]
  },
  {
   "cell_type": "code",
   "execution_count": 10,
   "metadata": {},
   "outputs": [],
   "source": [
    "imp_df.sort_values(by = \"Importance\", ascending = False).head()\n",
    "len(imp_df[imp_df[\"Importance\"]==0])\n",
    "imp_feat = imp_df[imp_df[\"Importance\"]!=0]\n",
    "\n"
   ]
  },
  {
   "cell_type": "raw",
   "metadata": {},
   "source": [
    "imp_feat.shape"
   ]
  },
  {
   "cell_type": "code",
   "execution_count": 11,
   "metadata": {},
   "outputs": [
    {
     "data": {
      "text/plain": [
       "(974842, 278)"
      ]
     },
     "execution_count": 11,
     "metadata": {},
     "output_type": "execute_result"
    }
   ],
   "source": [
    "#rerun model with fewer features:\n",
    "x_red = x_no_dup.copy()\n",
    "x_red = x_red[imp_feat[\"Feature_name\"]]\n",
    "x_red.shape"
   ]
  },
  {
   "cell_type": "code",
   "execution_count": 12,
   "metadata": {},
   "outputs": [
    {
     "name": "stdout",
     "output_type": "stream",
     "text": [
      "(779873, 278) (194969, 278)\n",
      "['0', '0', '0', '0', '0']\n"
     ]
    }
   ],
   "source": [
    "#train_test_split with fewer features\n",
    "x_train, x_test, y_train, y_test = train_test_split(x_red,y,test_size = 0.2, random_state = 42)\n",
    "print(x_train.shape,x_test.shape)\n",
    "print(y_test[0:5])"
   ]
  },
  {
   "cell_type": "code",
   "execution_count": 16,
   "metadata": {},
   "outputs": [
    {
     "name": "stderr",
     "output_type": "stream",
     "text": [
      "C:\\Users\\patri\\Anaconda3\\lib\\site-packages\\xgboost\\sklearn.py:1146: UserWarning: The use of label encoder in XGBClassifier is deprecated and will be removed in a future release. To remove this warning, do the following: 1) Pass option use_label_encoder=False when constructing XGBClassifier object; and 2) Encode your labels (y) as integers starting with 0, i.e. 0, 1, 2, ..., [num_class - 1].\n",
      "  warnings.warn(label_encoder_deprecation_msg, UserWarning)\n"
     ]
    },
    {
     "name": "stdout",
     "output_type": "stream",
     "text": [
      "\n",
      "Model Report\n",
      "Accuracy : 0.8259\n"
     ]
    },
    {
     "name": "stderr",
     "output_type": "stream",
     "text": [
      "C:\\Users\\patri\\Anaconda3\\lib\\site-packages\\sklearn\\utils\\deprecation.py:87: FutureWarning: Function plot_roc_curve is deprecated; Function `plot_roc_curve` is deprecated in 1.0 and will be removed in 1.2. Use one of the class methods: RocCurveDisplay.from_predictions or RocCurveDisplay.from_estimator.\n",
      "  warnings.warn(msg, category=FutureWarning)\n"
     ]
    },
    {
     "data": {
      "image/png": "[encoded data removed]",
      "text/plain": [
       "<Figure size 432x288 with 1 Axes>"
      ]
     },
     "metadata": {
      "needs_background": "light"
     },
     "output_type": "display_data"
    }
   ],
   "source": [
    "xgb3_model2 = xgb3.fit(x_train, y_train, eval_metric='auc')\n",
    "\n",
    "pred = xgb3_model2.predict(x_test)\n",
    "predprob = xgb3_model2.predict_proba(x_test)\n",
    "        \n",
    "\n",
    "print (\"\\nModel Report\")\n",
    "print (\"Accuracy : %.4g\" % accuracy_score(y_test, pred))\n",
    "plot_roc_curve(xgb3_model2, x_test, y_test)\n",
    "plt.show()"
   ]
  },
  {
   "cell_type": "raw",
   "metadata": {},
   "source": [
    "from sklearn.feature_selection import SelectFromModel\n",
    "\n",
    "thresholds = xgb3_model2.feature_importances_\n",
    "for thresh in thresholds:\n",
    "    # select features using threshold\n",
    "    selection = SelectFromModel(xgb3_model2, threshold=thresh, prefit=True)\n",
    "    select_X_train = selection.transform(x_train)\n",
    "    # train model\n",
    "    selection_model = XGBClassifier()\n",
    "    selection_model.fit(select_X_train, y_train)\n",
    "    # eval model\n",
    "    select_X_test = selection.transform(x_test)\n",
    "    predictions = selection_model.predict(select_X_test)\n",
    "    accuracy = accuracy_score(y_test, predictions)\n",
    "    print(\"Thresh=%.3f, n=%d, Accuracy: %.2f%%\" % (thresh, select_X_train.shape[1], accuracy*100.0))"
   ]
  },
  {
   "cell_type": "code",
   "execution_count": null,
   "metadata": {},
   "outputs": [],
   "source": [
    "#filename = 'finalized_model2.sav'\n",
    "#pickle.dump(xgb3_model2, open(filename, 'wb'))"
   ]
  },
  {
   "cell_type": "code",
   "execution_count": null,
   "metadata": {},
   "outputs": [],
   "source": [
    "#Feature Importance of Model 2\n",
    "imp_dict = {}\n",
    "for i in range(x_red.shape[1]):\n",
    "    name = x_red.columns[i]\n",
    "    imp = xgb3_model2.feature_importances_[i]\n",
    "    imp_dict[i]=name,imp\n",
    "    \n",
    "imp_df = pd.DataFrame(imp_dict)\n",
    "imp_df = imp_df.T\n",
    "imp_df = imp_df.rename(columns = {0:\"Feature_name\", 1: \"Importance\"})\n",
    "imp_df.head()"
   ]
  },
  {
   "cell_type": "code",
   "execution_count": null,
   "metadata": {},
   "outputs": [],
   "source": [
    "imp_df.sort_values(by = \"Importance\", ascending = False).head()\n",
    "len(imp_df[imp_df[\"Importance\"]==0])\n",
    "imp_feat = imp_df[imp_df[\"Importance\"]!=0]"
   ]
  },
  {
   "cell_type": "code",
   "execution_count": null,
   "metadata": {},
   "outputs": [],
   "source": [
    "imp_df.to_csv(\"Features_Importance_Final2.csv\")"
   ]
  },
  {
   "cell_type": "code",
   "execution_count": null,
   "metadata": {},
   "outputs": [],
   "source": [
    "val_df = pd.read_csv(\"2021_Competition_Holdout.csv\")\n",
    "val_df.set_index([\"ID\"], inplace = True)\n",
    "\n",
    "val_df.head()"
   ]
  },
  {
   "cell_type": "code",
   "execution_count": null,
   "metadata": {},
   "outputs": [],
   "source": [
    "val_df = val_df.drop([\"rx_generic_dist_gpi6_pmpm_ct_t_9-6-3m_b4\", \"Unnamed: 0\",'lang_spoken_cd',\"mabh_seg\",\"cons_ltmedicr\",\"hedis_dia_hba1c_ge9\"], axis = 1)"
   ]
  },
  {
   "cell_type": "code",
   "execution_count": null,
   "metadata": {},
   "outputs": [],
   "source": [
    "x_val = val_df.copy()\n",
    "x_val = pd.get_dummies(x_val)\n",
    "x_val_no_dup = x_val.copy()\n",
    "x_val_no_dup = x_val_no_dup.loc[:,~x_val_no_dup.columns.duplicated()]\n",
    "x_val_no_dup = x_val_no_dup[imp_feat[\"Feature_name\"]]\n",
    "x_val_no_dup.shape\n"
   ]
  },
  {
   "cell_type": "code",
   "execution_count": null,
   "metadata": {},
   "outputs": [],
   "source": [
    "val_pred = xgb3_model2.predict(x_val_no_dup)"
   ]
  },
  {
   "cell_type": "code",
   "execution_count": null,
   "metadata": {},
   "outputs": [],
   "source": [
    "val_predprobs = xgb3_model2.predict_proba(x_val_no_dup)"
   ]
  },
  {
   "cell_type": "code",
   "execution_count": null,
   "metadata": {},
   "outputs": [],
   "source": [
    "val_predprobs[:3,:]\n",
    "#val_probs = pd.DataFrame(val_predprobs)\n",
    "#val_probs.head()"
   ]
  },
  {
   "cell_type": "code",
   "execution_count": null,
   "metadata": {},
   "outputs": [],
   "source": [
    "report = pd.DataFrame(index = x_val_no_dup.index, columns = [\"Score\", \"Ranking\"])\n",
    "report[\"Score\"] = val_predprobs[:,0]\n",
    "report[\"Ranking\"]= report[\"Score\"].rank(ascending = False)\n",
    "\n",
    "\n",
    "report.head()"
   ]
  },
  {
   "cell_type": "code",
   "execution_count": null,
   "metadata": {},
   "outputs": [],
   "source": [
    "report[report[\"Ranking\"]==report[\"Ranking\"].min()]"
   ]
  },
  {
   "cell_type": "code",
   "execution_count": null,
   "metadata": {},
   "outputs": [],
   "source": [
    "report.to_csv(\"CaseCompetition2021_Richard_Rodriguez_20211010.csv\")"
   ]
  },
  {
   "cell_type": "code",
   "execution_count": 15,
   "metadata": {},
   "outputs": [],
   "source": [
    "#Importance Graphs\n",
    "imp = pd.read_csv(\"Features_Importance_Final2.csv\", index_col = 0)\n",
    "most_imp = imp.sort_values(by = \"Importance\", ascending = False)"
   ]
  },
  {
   "cell_type": "code",
   "execution_count": null,
   "metadata": {},
   "outputs": [],
   "source": [
    "most_imp"
   ]
  }
 ],
 "metadata": {
  "kernelspec": {
   "display_name": "Python 3",
   "language": "python",
   "name": "python3"
  },
  "language_info": {
   "codemirror_mode": {
    "name": "ipython",
    "version": 3
   },
   "file_extension": ".py",
   "mimetype": "text/x-python",
   "name": "python",
   "nbconvert_exporter": "python",
   "pygments_lexer": "ipython3",
   "version": "3.8.3"
  }
 },
 "nbformat": 4,
 "nbformat_minor": 4
}
