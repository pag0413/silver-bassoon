{
 "cells": [
  {
   "cell_type": "code",
   "execution_count": 1,
   "metadata": {},
   "outputs": [],
   "source": [
    "import numpy as np\n",
    "import pandas as pd\n",
    "import matplotlib.pyplot as plt\n",
    "import random\n",
    "\n",
    "from sklearn.preprocessing import OneHotEncoder\n",
    "from sklearn.ensemble import RandomForestClassifier\n",
    "from sklearn.model_selection import train_test_split\n",
    "from sklearn.model_selection import cross_val_score\n",
    "from sklearn.model_selection import GridSearchCV\n",
    "from sklearn.metrics import roc_curve, plot_roc_curve, accuracy_score, roc_auc_score, confusion_matrix\n",
    "from sklearn.pipeline import make_pipeline\n",
    "from sklearn.preprocessing import StandardScaler\n",
    "from sklearn.svm import SVC"
   ]
  },
  {
   "cell_type": "code",
   "execution_count": 2,
   "metadata": {},
   "outputs": [],
   "source": [
    "# loading full dataset\n",
    "#df = pd.read_csv(\"2021_Competition_Training.csv\")"
   ]
  },
  {
   "cell_type": "code",
   "execution_count": 3,
   "metadata": {},
   "outputs": [],
   "source": [
    "#Creating the Humana_Small.csv dataset\n",
    "\n",
    "#filename = \"2021_Competition_Training.csv\" \n",
    "#n = sum(1 for line in open(filename))-1  # Calculate number of rows in file\n",
    "#s = n//10  # sample size of 10%\n",
    "#skip = sorted(random.sample(range(1, n+1), n-s))  # n+1 to compensate for header \n",
    "#df = pd.read_csv(filename, skiprows=skip)\n"
   ]
  },
  {
   "cell_type": "code",
   "execution_count": 4,
   "metadata": {},
   "outputs": [],
   "source": [
    "#df.to_csv(\"Humana_Training_small.csv\")"
   ]
  },
  {
   "cell_type": "code",
   "execution_count": 5,
   "metadata": {},
   "outputs": [
    {
     "name": "stderr",
     "output_type": "stream",
     "text": [
      "C:\\Users\\patri\\Anaconda3\\lib\\site-packages\\IPython\\core\\interactiveshell.py:3071: DtypeWarning: Columns (3,9,12,14,17,21,27,29,30,32,34,56,59,63,65,67,76,86,103,125,136,161,175,181,193,210,211,212,216,221,235,248,256,262,286,298,306,307,310,324,335,345,346,354,356) have mixed types.Specify dtype option on import or set low_memory=False.\n",
      "  has_raised = await self.run_ast_nodes(code_ast.body, cell_name,\n"
     ]
    },
    {
     "name": "stdout",
     "output_type": "stream",
     "text": [
      "<class 'pandas.core.frame.DataFrame'>\n",
      "RangeIndex: 97484 entries, 0 to 97483\n",
      "Data columns (total 369 columns):\n",
      " #    Column                                                 Non-Null Count  Dtype  \n",
      "---   ------                                                 --------------  -----  \n",
      " 0    Unnamed: 0                                             97484 non-null  int64  \n",
      " 1    Unnamed: 0.1                                           97484 non-null  int64  \n",
      " 2    ID                                                     97484 non-null  object \n",
      " 3    auth_3mth_post_acute_dia                               97484 non-null  object \n",
      " 4    rx_gpi2_72_pmpm_cost_6to9m_b4                          97484 non-null  float64\n",
      " 5    atlas_pct_laccess_child15                              96889 non-null  float64\n",
      " 6    atlas_recfacpth14                                      97023 non-null  float64\n",
      " 7    atlas_pct_fmrkt_frveg16                                88612 non-null  float64\n",
      " 8    atlas_pct_free_lunch14                                 91406 non-null  float64\n",
      " 9    bh_ip_snf_net_paid_pmpm_cost_9to12m_b4                 81707 non-null  object \n",
      " 10   auth_3mth_acute_ckd                                    97484 non-null  int64  \n",
      " 11   bh_ncal_pmpm_ct                                        97484 non-null  float64\n",
      " 12   src_div_id                                             97484 non-null  object \n",
      " 13   total_bh_copay_pmpm_cost_t_9-6-3m_b4                   97484 non-null  object \n",
      " 14   bh_ip_snf_net_paid_pmpm_cost_3to6m_b4                  93811 non-null  object \n",
      " 15   cons_chmi                                              77461 non-null  float64\n",
      " 16   mcc_ano_pmpm_ct_t_9-6-3m_b4                            97484 non-null  object \n",
      " 17   auth_3mth_post_acute_trm                               97484 non-null  object \n",
      " 18   rx_maint_pmpm_cost_t_12-9-6m_b4                        97484 non-null  object \n",
      " 19   auth_3mth_post_acute_rsk                               97484 non-null  int64  \n",
      " 20   cons_ltmedicr                                          66254 non-null  float64\n",
      " 21   rx_gpi4_6110_pmpm_ct                                   97484 non-null  object \n",
      " 22   atlas_pc_snapben15                                     96273 non-null  float64\n",
      " 23   credit_bal_nonmtgcredit_60dpd                          97042 non-null  float64\n",
      " 24   rx_bh_mbr_resp_pmpm_cost_9to12m_b4                     97484 non-null  float64\n",
      " 25   rx_nonbh_pmpm_cost_t_9-6-3m_b4                         97484 non-null  object \n",
      " 26   atlas_pct_laccess_nhna15                               96939 non-null  float64\n",
      " 27   auth_3mth_acute_vco                                    97484 non-null  object \n",
      " 28   credit_hh_nonmtgcredit_60dpd                           97042 non-null  float64\n",
      " 29   rx_bh_pmpm_ct_0to3m_b4                                 97484 non-null  object \n",
      " 30   auth_3mth_dc_ltac                                      97484 non-null  object \n",
      " 31   cons_lwcm10                                            77502 non-null  float64\n",
      " 32   auth_3mth_post_acute_inj                               97484 non-null  object \n",
      " 33   atlas_fsrpth14                                         97039 non-null  float64\n",
      " 34   auth_3mth_dc_home                                      97484 non-null  object \n",
      " 35   atlas_wicspth12                                        97039 non-null  float64\n",
      " 36   rx_gpi2_17_pmpm_cost_t_12-9-6m_b4                      97484 non-null  object \n",
      " 37   cons_hxmioc                                            77516 non-null  float64\n",
      " 38   rx_generic_pmpm_cost_t_6-3-0m_b4                       97484 non-null  object \n",
      " 39   cmsd2_sns_digest_abdomen_pmpm_ct                       97484 non-null  float64\n",
      " 40   atlas_ghveg_farms12                                    96388 non-null  float64\n",
      " 41   credit_hh_bankcardcredit_60dpd                         97042 non-null  float64\n",
      " 42   total_outpatient_allowed_pmpm_cost_6to9m_b4            91495 non-null  float64\n",
      " 43   cons_cwht                                              77507 non-null  float64\n",
      " 44   atlas_netmigrationrate1016                             97042 non-null  float64\n",
      " 45   atlas_pct_laccess_snap15                               96953 non-null  float64\n",
      " 46   bh_ncdm_ind                                            97484 non-null  int64  \n",
      " 47   rx_nonmaint_mbr_resp_pmpm_cost_9to12m_b4               97484 non-null  float64\n",
      " 48   atlas_retirement_destination_2015_upda                 97030 non-null  float64\n",
      " 49   rx_overall_mbr_resp_pmpm_cost_t_6-3-0m_b4              97484 non-null  object \n",
      " 50   atlas_naturalchangerate1016                            97042 non-null  float64\n",
      " 51   ccsp_236_pct                                           97484 non-null  float64\n",
      " 52   bh_ip_snf_mbr_resp_pmpm_cost_6to9m_b4                  91488 non-null  float64\n",
      " 53   rx_overall_dist_gpi6_pmpm_ct_t_6-3-0m_b4               97484 non-null  object \n",
      " 54   auth_3mth_post_acute_ben                               97484 non-null  int64  \n",
      " 55   atlas_pct_laccess_hisp15                               96951 non-null  float64\n",
      " 56   auth_3mth_dc_no_ref                                    97484 non-null  object \n",
      " 57   rx_overall_mbr_resp_pmpm_cost                          97484 non-null  float64\n",
      " 58   rx_overall_gpi_pmpm_ct_0to3m_b4                        97484 non-null  float64\n",
      " 59   auth_3mth_dc_snf                                       97484 non-null  object \n",
      " 60   rx_phar_cat_humana_pmpm_ct_t_9-6-3m_b4                 97484 non-null  object \n",
      " 61   atlas_pct_laccess_hhnv15                               97041 non-null  float64\n",
      " 62   auth_3mth_acute_ccs_048                                97484 non-null  int64  \n",
      " 63   bh_ip_snf_net_paid_pmpm_cost_0to3m_b4                  97484 non-null  object \n",
      " 64   auth_3mth_acute_end                                    97484 non-null  int64  \n",
      " 65   auth_3mth_psychic                                      97484 non-null  object \n",
      " 66   atlas_hiamenity                                        96938 non-null  float64\n",
      " 67   auth_3mth_bh_acute                                     97484 non-null  object \n",
      " 68   credit_bal_consumerfinance                             97042 non-null  float64\n",
      " 69   auth_3mth_acute_chf                                    97484 non-null  int64  \n",
      " 70   rx_overall_gpi_pmpm_ct_t_6-3-0m_b4                     97484 non-null  object \n",
      " 71   rwjf_uninsured_pct                                     97039 non-null  float64\n",
      " 72   mcc_chf_pmpm_ct_t_9-6-3m_b4                            97484 non-null  object \n",
      " 73   rx_mail_mbr_resp_pmpm_cost_0to3m_b4                    97484 non-null  float64\n",
      " 74   bh_urgent_care_copay_pmpm_cost_t_12-9-6m_b4            97484 non-null  object \n",
      " 75   auth_3mth_hospice                                      97484 non-null  int64  \n",
      " 76   auth_3mth_acute_bld                                    97484 non-null  object \n",
      " 77   atlas_pct_wic15                                        97042 non-null  float64\n",
      " 78   ccsp_193_pct                                           97484 non-null  float64\n",
      " 79   auth_3mth_dc_hospice                                   97484 non-null  int64  \n",
      " 80   auth_3mth_acute_ccs_030                                97484 non-null  int64  \n",
      " 81   atlas_pct_fmrkt_baked16                                88586 non-null  float64\n",
      " 82   rx_nonmaint_mbr_resp_pmpm_cost                         97484 non-null  float64\n",
      " 83   auth_3mth_acute_skn                                    97484 non-null  int64  \n",
      " 84   atlas_veg_farms12                                      96752 non-null  float64\n",
      " 85   atlas_vlfoodsec_13_15                                  97042 non-null  float64\n",
      " 86   rx_gpi2_34_dist_gpi6_pmpm_ct                           97484 non-null  object \n",
      " 87   bh_ip_snf_net_paid_pmpm_cost                           97484 non-null  float64\n",
      " 88   credit_hh_bankcard_severederog                         97042 non-null  float64\n",
      " 89   rx_hum_16_pmpm_ct                                      97484 non-null  float64\n",
      " 90   est_age                                                97484 non-null  int64  \n",
      " 91   rx_maint_pmpm_cost_t_6-3-0m_b4                         97484 non-null  object \n",
      " 92   cnt_cp_webstatement_pmpm_ct                            97484 non-null  float64\n",
      " 93   atlas_pct_laccess_seniors15                            96952 non-null  float64\n",
      " 94   phy_em_px_pct                                          97484 non-null  float64\n",
      " 95   atlas_percapitainc                                     97484 non-null  float64\n",
      " 96   rwjf_uninsured_adults_pct                              97041 non-null  float64\n",
      " 97   rx_generic_mbr_resp_pmpm_cost_0to3m_b4                 97484 non-null  float64\n",
      " 98   auth_3mth_acute_neo                                    97484 non-null  int64  \n",
      " 99   rwjf_air_pollute_density                               96938 non-null  float64\n",
      " 100  rx_gpi2_02_pmpm_cost                                   97484 non-null  float64\n",
      " 101  atlas_recfac14                                         97042 non-null  float64\n",
      " 102  cons_mobplus                                           77517 non-null  object \n",
      " 103  lab_albumin_loinc_pmpm_ct                              97484 non-null  object \n",
      " 104  atlas_pct_obese_adults13                               97042 non-null  float64\n",
      " 105  rx_maint_net_paid_pmpm_cost_t_12-9-6m_b4               97484 non-null  object \n",
      " 106  rev_pm_obsrm_pmpm_ct                                   97484 non-null  float64\n",
      " 107  atlas_pct_sfsp15                                       97041 non-null  float64\n",
      " 108  total_physician_office_net_paid_pmpm_cost_9to12m_b4    81679 non-null  float64\n",
      " 109  atlas_pc_dirsales12                                    96462 non-null  float64\n",
      " 110  med_ip_snf_admit_days_pmpm                             97484 non-null  float64\n",
      " 111  rej_med_outpatient_visit_ct_pmpm_t_6-3-0m_b4           97484 non-null  object \n",
      " 112  auth_3mth_post_acute_vco                               97484 non-null  int64  \n",
      " 113  cms_tot_partd_payment_amt                              93920 non-null  float64\n",
      " 114  rx_nonotc_dist_gpi6_pmpm_ct                            97484 non-null  float64\n",
      " 115  rx_nonmaint_pmpm_ct                                    97484 non-null  float64\n",
      " 116  rx_nonbh_mbr_resp_pmpm_cost_6to9m_b4                   97484 non-null  float64\n",
      " 117  cons_stlnindx                                          77510 non-null  float64\n",
      " 118  atlas_hipov_1115                                       97480 non-null  float64\n",
      " 119  auth_3mth_post_acute_dig                               97484 non-null  int64  \n",
      " 120  rx_nonbh_mbr_resp_pmpm_cost                            97484 non-null  float64\n",
      " 121  atlas_redemp_snaps16                                   96909 non-null  float64\n",
      " 122  atlas_berry_farms12                                    96736 non-null  float64\n",
      " 123  rej_med_ip_snf_coins_pmpm_cost_t_9-6-3m_b4             97484 non-null  object \n",
      " 124  rwjf_inactivity_pct                                    97042 non-null  float64\n",
      " 125  rx_gpi2_72_pmpm_ct_6to9m_b4                            97484 non-null  object \n",
      " 126  cons_n2pmr                                             77507 non-null  float64\n",
      " 127  med_physician_office_allowed_pmpm_cost_t_9-6-3m_b4     97484 non-null  object \n",
      " 128  auth_3mth_acute_res                                    97484 non-null  int64  \n",
      " 129  rev_cms_ct_pmpm_ct                                     97484 non-null  float64\n",
      " 130  atlas_foodhub16                                        97038 non-null  float64\n",
      " 131  total_physician_office_copay_pmpm_cost                 97484 non-null  float64\n",
      " 132  auth_3mth_acute_dig                                    97484 non-null  int64  \n",
      " 133  auth_3mth_dc_acute_rehab                               97484 non-null  int64  \n",
      " 134  atlas_pct_fmrkt_anmlprod16                             88592 non-null  float64\n",
      " 135  auth_3mth_post_acute_hdz                               97484 non-null  int64  \n",
      " 136  bh_ip_snf_mbr_resp_pmpm_cost_3to6m_b4                  93804 non-null  object \n",
      " 137  auth_3mth_acute_ccs_172                                97484 non-null  int64  \n",
      " 138  credit_num_agencyfirstmtg                              97042 non-null  float64\n",
      " 139  total_physician_office_net_paid_pmpm_cost_t_9-6-3m_b4  97484 non-null  object \n",
      " 140  auth_3mth_acute_ccs_154                                97484 non-null  int64  \n",
      " 141  atlas_type_2015_mining_no                              97042 non-null  float64\n",
      " 142  atlas_agritrsm_rct12                                   73290 non-null  float64\n",
      " 143  rx_days_since_last_script                              97484 non-null  int64  \n",
      " 144  atlas_pct_laccess_pop15                                96957 non-null  float64\n",
      " 145  auth_3mth_post_acute_res                               97484 non-null  int64  \n",
      " 146  auth_3mth_acute_inf                                    97484 non-null  int64  \n",
      " 147  rx_gpi2_01_pmpm_cost_0to3m_b4                          97484 non-null  float64\n",
      " 148  atlas_povertyallagespct                                97042 non-null  float64\n",
      " 149  covid_vaccination                                      97484 non-null  object \n",
      " 150  rwjf_uninsured_child_pct                               97042 non-null  float64\n",
      " 151  rx_branded_pmpm_ct_t_6-3-0m_b4                         97484 non-null  object \n",
      " 152  med_outpatient_deduct_pmpm_cost_t_9-6-3m_b4            97484 non-null  object \n",
      " 153  credit_bal_mtgcredit_new                               97042 non-null  float64\n",
      " 154  atlas_low_employment_2015_update                       97038 non-null  float64\n",
      " 155  atlas_pct_diabetes_adults13                            97042 non-null  float64\n",
      " 156  atlas_pct_laccess_nhasian15                            96956 non-null  float64\n",
      " 157  atlas_deep_pov_all                                     97484 non-null  float64\n",
      " 158  atlas_net_international_migration_rate                 97042 non-null  float64\n",
      " 159  atlas_deep_pov_children                                97484 non-null  float64\n",
      " 160  bh_ncdm_pct                                            97484 non-null  float64\n",
      " 161  auth_3mth_non_er                                       97484 non-null  object \n",
      " 162  atlas_foodinsec_child_03_11                            97041 non-null  float64\n",
      " 163  rx_branded_mbr_resp_pmpm_cost                          97484 non-null  float64\n",
      " 164  atlas_pc_wic_redemp12                                  85886 non-null  float64\n",
      " 165  rwjf_mv_deaths_rate                                    96405 non-null  float64\n",
      " 166  auth_3mth_acute_cad                                    97484 non-null  int64  \n",
      " 167  atlas_pct_reduced_lunch14                              91717 non-null  float64\n",
      " 168  cons_nwperadult                                        77512 non-null  float64\n",
      " 169  total_allowed_pmpm_cost_t_9-6-3m_b4                    97484 non-null  object \n",
      " 170  rx_hum_28_pmpm_cost                                    97484 non-null  float64\n",
      " 171  mabh_seg                                               34091 non-null  object \n",
      " 172  cms_orig_reas_entitle_cd                               93957 non-null  float64\n",
      " 173  atlas_totalocchu                                       97484 non-null  float64\n",
      " 174  med_physician_office_ds_clm_6to9m_b4                   97484 non-null  int64  \n",
      " 175  bh_ip_snf_mbr_resp_pmpm_cost_9to12m_b4                 81679 non-null  object \n",
      " 176  atlas_pct_loclfarm12                                   96767 non-null  float64\n",
      " 177  rx_generic_mbr_resp_pmpm_cost                          97484 non-null  float64\n",
      " 178  total_outpatient_mbr_resp_pmpm_cost_6to9m_b4           91487 non-null  float64\n",
      " 179  auth_3mth_post_acute_cir                               97484 non-null  int64  \n",
      " 180  rx_gpi4_3400_pmpm_ct                                   97484 non-null  float64\n",
      " 181  auth_3mth_post_acute_cer                               97484 non-null  object \n",
      " 182  lab_dist_loinc_pmpm_ct                                 97484 non-null  float64\n",
      " 183  atlas_pct_nslp15                                       97042 non-null  float64\n",
      " 184  rx_generic_pmpm_ct_0to3m_b4                            97484 non-null  float64\n",
      " 185  oontwk_mbr_resp_pmpm_cost_t_6-3-0m_b4                  97484 non-null  object \n",
      " 186  atlas_pct_laccess_lowi15                               96956 non-null  float64\n",
      " 187  bh_ncal_ind                                            97484 non-null  int64  \n",
      " 188  auth_3mth_post_acute_mus                               97484 non-null  int64  \n",
      " 189  atlas_pct_fmrkt_sfmnp16                                88595 non-null  float64\n",
      " 190  hum_region                                             97484 non-null  object \n",
      " 191  rx_nonmail_dist_gpi6_pmpm_ct_t_9-6-3m_b4               97484 non-null  object \n",
      " 192  atlas_pct_loclsale12                                   95965 non-null  float64\n",
      " 193  bh_ip_snf_net_paid_pmpm_cost_6to9m_b4                  91485 non-null  object \n",
      " 194  rej_med_er_net_paid_pmpm_cost_t_9-6-3m_b4              97484 non-null  object \n",
      " 195  credit_bal_autobank                                    97042 non-null  float64\n",
      " 196  med_outpatient_mbr_resp_pmpm_cost_t_9-6-3m_b4          97484 non-null  object \n",
      " 197  rx_overall_mbr_resp_pmpm_cost_0to3m_b4                 97484 non-null  float64\n",
      " 198  rx_tier_2_pmpm_ct_3to6m_b4                             97484 non-null  float64\n",
      " 199  rx_nonbh_net_paid_pmpm_cost                            97484 non-null  float64\n",
      " 200  rx_maint_pmpm_ct_9to12m_b4                             97484 non-null  float64\n",
      " 201  rx_nonbh_net_paid_pmpm_cost_t_6-3-0m_b4                97484 non-null  object \n",
      " 202  atlas_type_2015_recreation_no                          97042 non-null  float64\n",
      " 203  auth_3mth_post_acute_sns                               97484 non-null  int64  \n",
      " 204  rx_gpi2_39_pmpm_cost_t_6-3-0m_b4                       97484 non-null  object \n",
      " 205  atlas_type_2015_update                                 97041 non-null  float64\n",
      " 206  cms_risk_adjustment_factor_a_amt                       93955 non-null  float64\n",
      " 207  total_ip_maternity_net_paid_pmpm_cost_t_12-9-6m_b4     97484 non-null  object \n",
      " 208  rx_generic_pmpm_cost                                   97484 non-null  float64\n",
      " 209  cmsd2_eye_retina_pmpm_ct                               97484 non-null  float64\n",
      " 210  auth_3mth_acute_can                                    97484 non-null  object \n",
      " 211  auth_3mth_post_acute                                   97484 non-null  object \n",
      " 212  auth_3mth_facility                                     97484 non-null  object \n",
      " 213  rx_days_since_last_script_0to3m_b4                     97484 non-null  int64  \n",
      " 214  atlas_population_loss_2015_update                      97038 non-null  float64\n",
      " 215  rx_maint_pmpm_ct_t_6-3-0m_b4                           97484 non-null  object \n",
      " 216  auth_3mth_post_acute_men                               97484 non-null  object \n",
      " 217  auth_3mth_acute_mean_los                               97484 non-null  float64\n",
      " 218  credit_num_autofinance                                 97042 non-null  float64\n",
      " 219  cons_rxmaint                                           77515 non-null  float64\n",
      " 220  rx_mail_net_paid_pmpm_cost_t_6-3-0m_b4                 97484 non-null  object \n",
      " 221  auth_3mth_home                                         97484 non-null  object \n",
      " 222  rx_maint_mbr_resp_pmpm_cost_6to9m_b4                   97484 non-null  float64\n",
      " 223  cons_hxwearbl                                          77513 non-null  float64\n",
      " 224  total_physician_office_mbr_resp_pmpm_cost_t_9-6-3m_b4  97484 non-null  object \n",
      " 225  atlas_pct_laccess_black15                              96957 non-null  float64\n",
      " 226  atlas_hh65plusalonepct                                 97484 non-null  float64\n",
      " 227  atlas_farm_to_school13                                 95849 non-null  float64\n",
      " 228  auth_3mth_acute_inj                                    97484 non-null  int64  \n",
      " 229  auth_3mth_acute_ccs_153                                97484 non-null  int64  \n",
      " 230  rej_days_since_last_clm                                97484 non-null  int64  \n",
      " 231  auth_3mth_transplant                                   97484 non-null  int64  \n",
      " 232  bh_outpatient_net_paid_pmpm_cost                       97484 non-null  float64\n",
      " 233  atlas_dirsales_farms12                                 96745 non-null  float64\n",
      " 234  rx_generic_pmpm_cost_6to9m_b4                          97484 non-null  float64\n",
      " 235  rev_cms_ansth_pmpm_ct                                  97484 non-null  object \n",
      " 236  atlas_convspth14                                       97041 non-null  float64\n",
      " 237  total_med_allowed_pmpm_cost_9to12m_b4                  81671 non-null  float64\n",
      " 238  rx_mail_mbr_resp_pmpm_cost_t_9-6-3m_b4                 97484 non-null  object \n",
      " 239  med_outpatient_visit_ct_pmpm_t_12-9-6m_b4              97484 non-null  object \n",
      " 240  rx_nonbh_pmpm_ct_t_9-6-3m_b4                           97484 non-null  object \n",
      " 241  auth_3mth_acute                                        97484 non-null  int64  \n",
      " 242  rx_nonbh_pmpm_ct_0to3m_b4                              97484 non-null  float64\n",
      " 243  atlas_pc_ffrsales12                                    97042 non-null  float64\n",
      " 244  auth_3mth_dc_left_ama                                  97484 non-null  int64  \n",
      " 245  credit_bal_bankcard_severederog                        97042 non-null  float64\n",
      " 246  atlas_povertyunder18pct                                97042 non-null  float64\n",
      " 247  rx_tier_1_pmpm_ct_0to3m_b4                             97484 non-null  float64\n",
      " 248  auth_3mth_acute_ccs_227                                97484 non-null  object \n",
      " 249  cons_estinv30_rc                                       77510 non-null  float64\n",
      " 250  auth_3mth_bh_acute_men                                 97484 non-null  int64  \n",
      " 251  rx_gpi2_34_pmpm_ct                                     97484 non-null  float64\n",
      " 252  auth_3mth_dc_custodial                                 97484 non-null  int64  \n",
      " 253  atlas_veg_acrespth12                                   91678 non-null  float64\n",
      " 254  atlas_grocpth14                                        97042 non-null  float64\n",
      " 255  total_med_net_paid_pmpm_cost_t_6-3-0m_b4               97484 non-null  object \n",
      " 256  rx_gpi2_90_dist_gpi6_pmpm_ct_9to12m_b4                 97484 non-null  object \n",
      " 257  atlas_csa12                                            96719 non-null  float64\n",
      " 258  sex_cd                                                 97484 non-null  object \n",
      " 259  rx_gpi2_62_pmpm_cost_t_9-6-3m_b4                       97484 non-null  object \n",
      " 260  lang_spoken_cd                                         25110 non-null  object \n",
      " 261  rx_overall_gpi_pmpm_ct_t_12-9-6m_b4                    97484 non-null  object \n",
      " 262  auth_3mth_ltac                                         97484 non-null  object \n",
      " 263  cons_hhcomp                                            77517 non-null  object \n",
      " 264  auth_3mth_acute_hdz                                    97484 non-null  int64  \n",
      " 265  cons_rxadhs                                            77509 non-null  float64\n",
      " 266  auth_3mth_acute_men                                    97484 non-null  int64  \n",
      " 267  atlas_pct_fmrkt_snap16                                 88590 non-null  float64\n",
      " 268  met_obe_diag_pct                                       97484 non-null  float64\n",
      " 269  cms_partd_ra_factor_amt                                93952 non-null  float64\n",
      " 270  atlas_pct_sbp15                                        97042 non-null  float64\n",
      " 271  rwjf_resident_seg_black_inx                            89674 non-null  float64\n",
      " 272  atlas_pct_cacfp15                                      97041 non-null  float64\n",
      " 273  auth_3mth_rehab                                        97484 non-null  int64  \n",
      " 274  pdc_lip                                                97484 non-null  float64\n",
      " 275  atlas_ffrpth14                                         97041 non-null  float64\n",
      " 276  credit_num_autobank_new                                97042 non-null  float64\n",
      " 277  auth_3mth_acute_ccs_086                                97484 non-null  int64  \n",
      " 278  rx_tier_2_pmpm_ct                                      97484 non-null  float64\n",
      " 279  cons_n2pwh                                             77510 non-null  float64\n",
      " 280  rx_nonmaint_dist_gpi6_pmpm_ct_t_12-9-6m_b4             97484 non-null  object \n",
      " 281  atlas_berry_acrespth12                                 72111 non-null  float64\n",
      " 282  atlas_pct_fmrkt_credit16                               88599 non-null  float64\n",
      " 283  atlas_slhouse12                                        97040 non-null  float64\n",
      " 284  atlas_pc_fsrsales12                                    97042 non-null  float64\n",
      " 285  credit_hh_1stmtgcredit                                 97042 non-null  float64\n",
      " 286  auth_3mth_snf_post_hsp                                 97484 non-null  object \n",
      " 287  atlas_pct_fmrkt_wiccash16                              88591 non-null  float64\n",
      " 288  atlas_foodinsec_13_15                                  97042 non-null  float64\n",
      " 289  auth_3mth_acute_cer                                    97484 non-null  int64  \n",
      " 290  cons_rxadhm                                            77508 non-null  float64\n",
      " 291  atlas_fmrktpth16                                       97042 non-null  float64\n",
      " 292  rx_nonotc_pmpm_cost_t_6-3-0m_b4                        97484 non-null  object \n",
      " 293  cci_dia_m_pmpm_ct                                      97484 non-null  float64\n",
      " 294  auth_3mth_acute_trm                                    97484 non-null  int64  \n",
      " 295  cons_n2phi                                             77509 non-null  float64\n",
      " 296  bh_physician_office_copay_pmpm_cost_6to9m_b4           91485 non-null  float64\n",
      " 297  rwjf_income_inequ_ratio                                97042 non-null  float64\n",
      " 298  rej_total_physician_office_visit_ct_pmpm_0to3m_b4      97484 non-null  object \n",
      " 299  auth_3mth_acute_dia                                    97484 non-null  int64  \n",
      " 300  credit_num_nonmtgcredit_60dpd                          97042 non-null  float64\n",
      " 301  auth_3mth_snf_direct                                   97484 non-null  int64  \n",
      " 302  credit_bal_autofinance_new                             97042 non-null  float64\n",
      " 303  auth_3mth_acute_ccs_067                                97484 non-null  int64  \n",
      " 304  auth_3mth_acute_ccs_043                                97484 non-null  int64  \n",
      " 305  rwjf_men_hlth_prov_ratio                               96874 non-null  float64\n",
      " 306  auth_3mth_dc_home_health                               97484 non-null  object \n",
      " 307  rx_gpi2_56_dist_gpi6_pmpm_ct_3to6m_b4                  97484 non-null  object \n",
      " 308  cmsd2_sns_genitourinary_pmpm_ct                        97484 non-null  float64\n",
      " 309  auth_3mth_acute_cir                                    97484 non-null  int64  \n",
      " 310  auth_3mth_acute_ner                                    97484 non-null  object \n",
      " 311  auth_3mth_acute_ccs_094                                97484 non-null  int64  \n",
      " 312  med_ambulance_coins_pmpm_cost_t_9-6-3m_b4              97484 non-null  object \n",
      " 313  hedis_dia_hba1c_ge9                                    66121 non-null  object \n",
      " 314  bh_ncal_pct                                            97484 non-null  float64\n",
      " 315  atlas_pct_snap16                                       97042 non-null  float64\n",
      " 316  ccsp_227_pct                                           97484 non-null  float64\n",
      " 317  atlas_ghveg_sqftpth12                                  71514 non-null  float64\n",
      " 318  rx_days_since_last_script_6to9m_b4                     97484 non-null  int64  \n",
      " 319  atlas_orchard_acrespth12                               90570 non-null  float64\n",
      " 320  atlas_persistentchildpoverty_1980_2011                 97037 non-null  float64\n",
      " 321  auth_3mth_post_acute_cad                               97484 non-null  int64  \n",
      " 322  atlas_pct_laccess_multir15                             96960 non-null  float64\n",
      " 323  cons_cgqs                                              77510 non-null  float64\n",
      " 324  ccsp_065_pmpm_ct                                       97484 non-null  object \n",
      " 325  auth_3mth_acute_ccs_044                                97484 non-null  int64  \n",
      " 326  atlas_medhhinc                                         97042 non-null  float64\n",
      " 327  rx_maint_net_paid_pmpm_cost_t_9-6-3m_b4                97484 non-null  object \n",
      " 328  rwjf_mental_distress_pct                               97042 non-null  float64\n",
      " 329  bh_ip_snf_admit_days_pmpm_t_9-6-3m_b4                  97484 non-null  object \n",
      " 330  rx_phar_cat_cvs_pmpm_ct_t_9-6-3m_b4                    97484 non-null  object \n",
      " 331  zip_cd                                                 97484 non-null  int64  \n",
      " 332  auth_3mth_post_acute_ckd                               97484 non-null  int64  \n",
      " 333  atlas_pct_laccess_nhpi15                               96955 non-null  float64\n",
      " 334  auth_3mth_post_acute_ner                               97484 non-null  int64  \n",
      " 335  auth_3mth_post_er                                      97484 non-null  object \n",
      " 336  credit_num_consumerfinance_new                         97042 non-null  float64\n",
      " 337  rx_gpi2_49_pmpm_cost_0to3m_b4                          97484 non-null  float64\n",
      " 338  cons_chva                                              77511 non-null  float64\n",
      " 339  atlas_avghhsize                                        97484 non-null  float64\n",
      " 340  rx_overall_net_paid_pmpm_cost_6to9m_b4                 97484 non-null  float64\n",
      " 341  atlas_ownhomepct                                       97484 non-null  float64\n",
      " 342  atlas_orchard_farms12                                  96770 non-null  float64\n",
      " 343  total_physician_office_visit_ct_pmpm_t_6-3-0m_b4       97484 non-null  object \n",
      " 344  atlas_pct_fmrkt_wic16                                  88594 non-null  float64\n",
      " 345  rx_gpi2_33_pmpm_ct_0to3m_b4                            97484 non-null  object \n",
      " 346  auth_3mth_post_acute_chf                               97484 non-null  object \n",
      " 347  rwjf_social_associate_rate                             97042 non-null  float64\n",
      " 348  atlas_freshveg_farms12                                 96780 non-null  float64\n",
      " 349  auth_3mth_acute_ccs_042                                97484 non-null  int64  \n",
      " 350  auth_3mth_post_acute_inf                               97484 non-null  int64  \n",
      " 351  auth_3mth_acute_sns                                    97484 non-null  int64  \n",
      " 352  days_since_last_clm_0to3m_b4                           97484 non-null  int64  \n",
      " 353  auth_3mth_dc_other                                     97484 non-null  int64  \n",
      " 354  auth_3mth_bh_acute_mean_los                            97484 non-null  object \n",
      " 355  mcc_end_pct                                            97484 non-null  float64\n",
      " 356  auth_3mth_post_acute_gus                               97484 non-null  object \n",
      " 357  cons_lwcm07                                            77512 non-null  float64\n",
      " 358  atlas_pct_fmrkt_otherfood16                            88594 non-null  float64\n",
      " 359  auth_3mth_post_acute_end                               97484 non-null  int64  \n",
      " 360  auth_3mth_acute_mus                                    97484 non-null  int64  \n",
      " 361  atlas_perpov_1980_0711                                 97042 non-null  float64\n",
      " 362  atlas_pct_laccess_white15                              96965 non-null  float64\n",
      " 363  auth_3mth_post_acute_mean_los                          97484 non-null  float64\n",
      " 364  rx_gpi2_66_pmpm_ct                                     97484 non-null  float64\n",
      " 365  auth_3mth_acute_gus                                    97484 non-null  int64  \n",
      " 366  rx_generic_dist_gpi6_pmpm_ct_t_9-6-3m_b4               97484 non-null  object \n",
      " 367  atlas_low_education_2015_update                        97031 non-null  float64\n",
      " 368  race_cd                                                95963 non-null  float64\n",
      "dtypes: float64(203), int64(67), object(99)\n",
      "memory usage: 274.4+ MB\n"
     ]
    }
   ],
   "source": [
    "df = pd.read_csv(\"Humana_Training_small.csv\")\n",
    "info = df.info(verbose = True, show_counts = True)"
   ]
  },
  {
   "cell_type": "code",
   "execution_count": 6,
   "metadata": {},
   "outputs": [],
   "source": [
    "# summarize the number of rows with missing values for each column\n",
    "missing ={}\n",
    "for i in range(df.shape[1]):\n",
    "    # count number of rows with missing values\n",
    "    n_miss = df.iloc[:,i].isnull().sum()\n",
    "    perc = n_miss / df.shape[0] * 100\n",
    "    perc = round(perc,2)\n",
    "    \n",
    "    dtype = df.iloc[:,i].dtype\n",
    "    \n",
    "    missing[i] = [df.columns[i], dtype, n_miss, perc]\n",
    "    \n",
    "\n"
   ]
  },
  {
   "cell_type": "code",
   "execution_count": 7,
   "metadata": {},
   "outputs": [],
   "source": [
    "missing_val = pd.DataFrame(missing)\n",
    "missing_values =missing_val.T\n",
    "missing_values = missing_values.rename(columns = {0: \"Column Name\", 1:\"dtype\", 2: \"Number of Missing Values\", 3: \"Percent Missing Values\"})"
   ]
  },
  {
   "cell_type": "code",
   "execution_count": 8,
   "metadata": {
    "scrolled": true
   },
   "outputs": [
    {
     "data": {
      "text/html": [
       "<div>\n",
       "<style scoped>\n",
       "    .dataframe tbody tr th:only-of-type {\n",
       "        vertical-align: middle;\n",
       "    }\n",
       "\n",
       "    .dataframe tbody tr th {\n",
       "        vertical-align: top;\n",
       "    }\n",
       "\n",
       "    .dataframe thead th {\n",
       "        text-align: right;\n",
       "    }\n",
       "</style>\n",
       "<table border=\"1\" class=\"dataframe\">\n",
       "  <thead>\n",
       "    <tr style=\"text-align: right;\">\n",
       "      <th></th>\n",
       "      <th>Column Name</th>\n",
       "      <th>dtype</th>\n",
       "      <th>Number of Missing Values</th>\n",
       "      <th>Percent Missing Values</th>\n",
       "    </tr>\n",
       "  </thead>\n",
       "  <tbody>\n",
       "    <tr>\n",
       "      <th>260</th>\n",
       "      <td>lang_spoken_cd</td>\n",
       "      <td>object</td>\n",
       "      <td>72374</td>\n",
       "      <td>74.24</td>\n",
       "    </tr>\n",
       "    <tr>\n",
       "      <th>171</th>\n",
       "      <td>mabh_seg</td>\n",
       "      <td>object</td>\n",
       "      <td>63393</td>\n",
       "      <td>65.03</td>\n",
       "    </tr>\n",
       "    <tr>\n",
       "      <th>313</th>\n",
       "      <td>hedis_dia_hba1c_ge9</td>\n",
       "      <td>object</td>\n",
       "      <td>31363</td>\n",
       "      <td>32.17</td>\n",
       "    </tr>\n",
       "    <tr>\n",
       "      <th>20</th>\n",
       "      <td>cons_ltmedicr</td>\n",
       "      <td>float64</td>\n",
       "      <td>31230</td>\n",
       "      <td>32.04</td>\n",
       "    </tr>\n",
       "    <tr>\n",
       "      <th>317</th>\n",
       "      <td>atlas_ghveg_sqftpth12</td>\n",
       "      <td>float64</td>\n",
       "      <td>25970</td>\n",
       "      <td>26.64</td>\n",
       "    </tr>\n",
       "    <tr>\n",
       "      <th>281</th>\n",
       "      <td>atlas_berry_acrespth12</td>\n",
       "      <td>float64</td>\n",
       "      <td>25373</td>\n",
       "      <td>26.03</td>\n",
       "    </tr>\n",
       "    <tr>\n",
       "      <th>142</th>\n",
       "      <td>atlas_agritrsm_rct12</td>\n",
       "      <td>float64</td>\n",
       "      <td>24194</td>\n",
       "      <td>24.82</td>\n",
       "    </tr>\n",
       "    <tr>\n",
       "      <th>15</th>\n",
       "      <td>cons_chmi</td>\n",
       "      <td>float64</td>\n",
       "      <td>20023</td>\n",
       "      <td>20.54</td>\n",
       "    </tr>\n",
       "    <tr>\n",
       "      <th>31</th>\n",
       "      <td>cons_lwcm10</td>\n",
       "      <td>float64</td>\n",
       "      <td>19982</td>\n",
       "      <td>20.5</td>\n",
       "    </tr>\n",
       "    <tr>\n",
       "      <th>126</th>\n",
       "      <td>cons_n2pmr</td>\n",
       "      <td>float64</td>\n",
       "      <td>19977</td>\n",
       "      <td>20.49</td>\n",
       "    </tr>\n",
       "    <tr>\n",
       "      <th>249</th>\n",
       "      <td>cons_estinv30_rc</td>\n",
       "      <td>float64</td>\n",
       "      <td>19974</td>\n",
       "      <td>20.49</td>\n",
       "    </tr>\n",
       "    <tr>\n",
       "      <th>338</th>\n",
       "      <td>cons_chva</td>\n",
       "      <td>float64</td>\n",
       "      <td>19973</td>\n",
       "      <td>20.49</td>\n",
       "    </tr>\n",
       "    <tr>\n",
       "      <th>265</th>\n",
       "      <td>cons_rxadhs</td>\n",
       "      <td>float64</td>\n",
       "      <td>19975</td>\n",
       "      <td>20.49</td>\n",
       "    </tr>\n",
       "    <tr>\n",
       "      <th>168</th>\n",
       "      <td>cons_nwperadult</td>\n",
       "      <td>float64</td>\n",
       "      <td>19972</td>\n",
       "      <td>20.49</td>\n",
       "    </tr>\n",
       "    <tr>\n",
       "      <th>323</th>\n",
       "      <td>cons_cgqs</td>\n",
       "      <td>float64</td>\n",
       "      <td>19974</td>\n",
       "      <td>20.49</td>\n",
       "    </tr>\n",
       "    <tr>\n",
       "      <th>357</th>\n",
       "      <td>cons_lwcm07</td>\n",
       "      <td>float64</td>\n",
       "      <td>19972</td>\n",
       "      <td>20.49</td>\n",
       "    </tr>\n",
       "    <tr>\n",
       "      <th>43</th>\n",
       "      <td>cons_cwht</td>\n",
       "      <td>float64</td>\n",
       "      <td>19977</td>\n",
       "      <td>20.49</td>\n",
       "    </tr>\n",
       "    <tr>\n",
       "      <th>279</th>\n",
       "      <td>cons_n2pwh</td>\n",
       "      <td>float64</td>\n",
       "      <td>19974</td>\n",
       "      <td>20.49</td>\n",
       "    </tr>\n",
       "    <tr>\n",
       "      <th>223</th>\n",
       "      <td>cons_hxwearbl</td>\n",
       "      <td>float64</td>\n",
       "      <td>19971</td>\n",
       "      <td>20.49</td>\n",
       "    </tr>\n",
       "    <tr>\n",
       "      <th>295</th>\n",
       "      <td>cons_n2phi</td>\n",
       "      <td>float64</td>\n",
       "      <td>19975</td>\n",
       "      <td>20.49</td>\n",
       "    </tr>\n",
       "    <tr>\n",
       "      <th>117</th>\n",
       "      <td>cons_stlnindx</td>\n",
       "      <td>float64</td>\n",
       "      <td>19974</td>\n",
       "      <td>20.49</td>\n",
       "    </tr>\n",
       "    <tr>\n",
       "      <th>290</th>\n",
       "      <td>cons_rxadhm</td>\n",
       "      <td>float64</td>\n",
       "      <td>19976</td>\n",
       "      <td>20.49</td>\n",
       "    </tr>\n",
       "    <tr>\n",
       "      <th>263</th>\n",
       "      <td>cons_hhcomp</td>\n",
       "      <td>object</td>\n",
       "      <td>19967</td>\n",
       "      <td>20.48</td>\n",
       "    </tr>\n",
       "    <tr>\n",
       "      <th>219</th>\n",
       "      <td>cons_rxmaint</td>\n",
       "      <td>float64</td>\n",
       "      <td>19969</td>\n",
       "      <td>20.48</td>\n",
       "    </tr>\n",
       "    <tr>\n",
       "      <th>102</th>\n",
       "      <td>cons_mobplus</td>\n",
       "      <td>object</td>\n",
       "      <td>19967</td>\n",
       "      <td>20.48</td>\n",
       "    </tr>\n",
       "    <tr>\n",
       "      <th>37</th>\n",
       "      <td>cons_hxmioc</td>\n",
       "      <td>float64</td>\n",
       "      <td>19968</td>\n",
       "      <td>20.48</td>\n",
       "    </tr>\n",
       "    <tr>\n",
       "      <th>237</th>\n",
       "      <td>total_med_allowed_pmpm_cost_9to12m_b4</td>\n",
       "      <td>float64</td>\n",
       "      <td>15813</td>\n",
       "      <td>16.22</td>\n",
       "    </tr>\n",
       "    <tr>\n",
       "      <th>175</th>\n",
       "      <td>bh_ip_snf_mbr_resp_pmpm_cost_9to12m_b4</td>\n",
       "      <td>object</td>\n",
       "      <td>15805</td>\n",
       "      <td>16.21</td>\n",
       "    </tr>\n",
       "    <tr>\n",
       "      <th>108</th>\n",
       "      <td>total_physician_office_net_paid_pmpm_cost_9to1...</td>\n",
       "      <td>float64</td>\n",
       "      <td>15805</td>\n",
       "      <td>16.21</td>\n",
       "    </tr>\n",
       "    <tr>\n",
       "      <th>9</th>\n",
       "      <td>bh_ip_snf_net_paid_pmpm_cost_9to12m_b4</td>\n",
       "      <td>object</td>\n",
       "      <td>15777</td>\n",
       "      <td>16.18</td>\n",
       "    </tr>\n",
       "    <tr>\n",
       "      <th>164</th>\n",
       "      <td>atlas_pc_wic_redemp12</td>\n",
       "      <td>float64</td>\n",
       "      <td>11598</td>\n",
       "      <td>11.9</td>\n",
       "    </tr>\n",
       "    <tr>\n",
       "      <th>81</th>\n",
       "      <td>atlas_pct_fmrkt_baked16</td>\n",
       "      <td>float64</td>\n",
       "      <td>8898</td>\n",
       "      <td>9.13</td>\n",
       "    </tr>\n",
       "    <tr>\n",
       "      <th>287</th>\n",
       "      <td>atlas_pct_fmrkt_wiccash16</td>\n",
       "      <td>float64</td>\n",
       "      <td>8893</td>\n",
       "      <td>9.12</td>\n",
       "    </tr>\n",
       "    <tr>\n",
       "      <th>134</th>\n",
       "      <td>atlas_pct_fmrkt_anmlprod16</td>\n",
       "      <td>float64</td>\n",
       "      <td>8892</td>\n",
       "      <td>9.12</td>\n",
       "    </tr>\n",
       "    <tr>\n",
       "      <th>344</th>\n",
       "      <td>atlas_pct_fmrkt_wic16</td>\n",
       "      <td>float64</td>\n",
       "      <td>8890</td>\n",
       "      <td>9.12</td>\n",
       "    </tr>\n",
       "  </tbody>\n",
       "</table>\n",
       "</div>"
      ],
      "text/plain": [
       "                                           Column Name    dtype  \\\n",
       "260                                     lang_spoken_cd   object   \n",
       "171                                           mabh_seg   object   \n",
       "313                                hedis_dia_hba1c_ge9   object   \n",
       "20                                       cons_ltmedicr  float64   \n",
       "317                              atlas_ghveg_sqftpth12  float64   \n",
       "281                             atlas_berry_acrespth12  float64   \n",
       "142                               atlas_agritrsm_rct12  float64   \n",
       "15                                           cons_chmi  float64   \n",
       "31                                         cons_lwcm10  float64   \n",
       "126                                         cons_n2pmr  float64   \n",
       "249                                   cons_estinv30_rc  float64   \n",
       "338                                          cons_chva  float64   \n",
       "265                                        cons_rxadhs  float64   \n",
       "168                                    cons_nwperadult  float64   \n",
       "323                                          cons_cgqs  float64   \n",
       "357                                        cons_lwcm07  float64   \n",
       "43                                           cons_cwht  float64   \n",
       "279                                         cons_n2pwh  float64   \n",
       "223                                      cons_hxwearbl  float64   \n",
       "295                                         cons_n2phi  float64   \n",
       "117                                      cons_stlnindx  float64   \n",
       "290                                        cons_rxadhm  float64   \n",
       "263                                        cons_hhcomp   object   \n",
       "219                                       cons_rxmaint  float64   \n",
       "102                                       cons_mobplus   object   \n",
       "37                                         cons_hxmioc  float64   \n",
       "237              total_med_allowed_pmpm_cost_9to12m_b4  float64   \n",
       "175             bh_ip_snf_mbr_resp_pmpm_cost_9to12m_b4   object   \n",
       "108  total_physician_office_net_paid_pmpm_cost_9to1...  float64   \n",
       "9               bh_ip_snf_net_paid_pmpm_cost_9to12m_b4   object   \n",
       "164                              atlas_pc_wic_redemp12  float64   \n",
       "81                             atlas_pct_fmrkt_baked16  float64   \n",
       "287                          atlas_pct_fmrkt_wiccash16  float64   \n",
       "134                         atlas_pct_fmrkt_anmlprod16  float64   \n",
       "344                              atlas_pct_fmrkt_wic16  float64   \n",
       "\n",
       "    Number of Missing Values Percent Missing Values  \n",
       "260                    72374                  74.24  \n",
       "171                    63393                  65.03  \n",
       "313                    31363                  32.17  \n",
       "20                     31230                  32.04  \n",
       "317                    25970                  26.64  \n",
       "281                    25373                  26.03  \n",
       "142                    24194                  24.82  \n",
       "15                     20023                  20.54  \n",
       "31                     19982                   20.5  \n",
       "126                    19977                  20.49  \n",
       "249                    19974                  20.49  \n",
       "338                    19973                  20.49  \n",
       "265                    19975                  20.49  \n",
       "168                    19972                  20.49  \n",
       "323                    19974                  20.49  \n",
       "357                    19972                  20.49  \n",
       "43                     19977                  20.49  \n",
       "279                    19974                  20.49  \n",
       "223                    19971                  20.49  \n",
       "295                    19975                  20.49  \n",
       "117                    19974                  20.49  \n",
       "290                    19976                  20.49  \n",
       "263                    19967                  20.48  \n",
       "219                    19969                  20.48  \n",
       "102                    19967                  20.48  \n",
       "37                     19968                  20.48  \n",
       "237                    15813                  16.22  \n",
       "175                    15805                  16.21  \n",
       "108                    15805                  16.21  \n",
       "9                      15777                  16.18  \n",
       "164                    11598                   11.9  \n",
       "81                      8898                   9.13  \n",
       "287                     8893                   9.12  \n",
       "134                     8892                   9.12  \n",
       "344                     8890                   9.12  "
      ]
     },
     "execution_count": 8,
     "metadata": {},
     "output_type": "execute_result"
    }
   ],
   "source": [
    "missing_values.sort_values(by = 'Percent Missing Values', ascending = False).head(35)\n"
   ]
  },
  {
   "cell_type": "code",
   "execution_count": 9,
   "metadata": {},
   "outputs": [],
   "source": [
    "#missing_values.to_csv(\"Humana_training_missing_values.csv\")"
   ]
  },
  {
   "cell_type": "code",
   "execution_count": 10,
   "metadata": {},
   "outputs": [],
   "source": [
    "#df = df.set_index('ID')\n"
   ]
  },
  {
   "cell_type": "code",
   "execution_count": 11,
   "metadata": {},
   "outputs": [
    {
     "data": {
      "image/png": "[encoded data removed]",
      "text/plain": [
       "<Figure size 432x288 with 1 Axes>"
      ]
     },
     "metadata": {
      "needs_background": "light"
     },
     "output_type": "display_data"
    }
   ],
   "source": [
    "df[\"lang_spoken_cd\"].value_counts().plot();"
   ]
  },
  {
   "cell_type": "code",
   "execution_count": 12,
   "metadata": {},
   "outputs": [],
   "source": [
    "df.head()\n",
    "df.drop(columns = ['Unnamed: 0'],axis = 1,inplace = True )"
   ]
  },
  {
   "cell_type": "code",
   "execution_count": 13,
   "metadata": {},
   "outputs": [
    {
     "data": {
      "text/plain": [
       "ENG    23218\n",
       "SPA     1677\n",
       "OTH       94\n",
       "CHI       34\n",
       "*         30\n",
       "KOR       25\n",
       "VIE       20\n",
       "CRE       12\n",
       "Name: lang_spoken_cd, dtype: int64"
      ]
     },
     "execution_count": 13,
     "metadata": {},
     "output_type": "execute_result"
    }
   ],
   "source": [
    "df[\"lang_spoken_cd\"].value_counts()"
   ]
  },
  {
   "cell_type": "code",
   "execution_count": 14,
   "metadata": {},
   "outputs": [
    {
     "data": {
      "image/png": "[encoded data removed]",
      "text/plain": [
       "<Figure size 432x288 with 1 Axes>"
      ]
     },
     "metadata": {
      "needs_background": "light"
     },
     "output_type": "display_data"
    }
   ],
   "source": [
    "df[\"mabh_seg\"].value_counts().plot();"
   ]
  },
  {
   "cell_type": "code",
   "execution_count": 15,
   "metadata": {},
   "outputs": [
    {
     "data": {
      "text/plain": [
       "<matplotlib.axes._subplots.AxesSubplot at 0x1ee36c697c0>"
      ]
     },
     "execution_count": 15,
     "metadata": {},
     "output_type": "execute_result"
    },
    {
     "data": {
      "image/png": "[encoded data removed]",
      "text/plain": [
       "<Figure size 432x288 with 1 Axes>"
      ]
     },
     "metadata": {
      "needs_background": "light"
     },
     "output_type": "display_data"
    }
   ],
   "source": [
    "\n",
    "df_value = pd.DataFrame(df[\"cons_ltmedicr\"].dropna().astype(str).value_counts())\n",
    "df_value.plot()\n",
    "\n",
    "#pl.bar(df[\"cons_ltmedicr\"],df[\"cons_ltmedicr\"].value_counts());\n",
    "#df[\"cons_ltmedicr\"].dropna().astype(int).value_counts().sort_values()\n",
    "\n"
   ]
  },
  {
   "cell_type": "code",
   "execution_count": 16,
   "metadata": {},
   "outputs": [
    {
     "data": {
      "text/plain": [
       "(97484, 368)"
      ]
     },
     "execution_count": 16,
     "metadata": {},
     "output_type": "execute_result"
    }
   ],
   "source": [
    "df_reduced = df.copy()\n",
    "df_reduced.shape\n",
    "\n",
    "#df_reduced = pd.get_dummies(df_reduced)"
   ]
  },
  {
   "cell_type": "code",
   "execution_count": 17,
   "metadata": {},
   "outputs": [],
   "source": [
    "percent = {}\n",
    "for col in df_reduced:\n",
    "    # count number of rows with missing values\n",
    "    n_miss = df_reduced[col].isnull().sum()\n",
    "    perc = n_miss / df_reduced.shape[0] * 100\n",
    "    perc = round(perc,2)\n",
    "    percent[i] = perc\n",
    "    \n",
    "    if percent[i] > 20.00:\n",
    "        df_reduced.drop(col, axis =1, inplace = True)\n",
    "        \n",
    "df_reduced.drop(\"Unnamed: 0.1\", axis = 1, inplace = True)\n",
    "\n"
   ]
  },
  {
   "cell_type": "code",
   "execution_count": 18,
   "metadata": {},
   "outputs": [
    {
     "data": {
      "text/plain": [
       "(97484, 341)"
      ]
     },
     "execution_count": 18,
     "metadata": {},
     "output_type": "execute_result"
    }
   ],
   "source": [
    "df_reduced.shape"
   ]
  },
  {
   "cell_type": "code",
   "execution_count": 70,
   "metadata": {},
   "outputs": [],
   "source": [
    "df_reduced.to_csv(\"df_reduced.csv\")"
   ]
  },
  {
   "cell_type": "code",
   "execution_count": 19,
   "metadata": {},
   "outputs": [],
   "source": [
    "#Number of Rows with over 30% missing Values\n",
    "missing_rows = {}\n",
    "for row in range(df_reduced.shape[0]):\n",
    "    miss_row = df_reduced.iloc[row,:].isnull().sum()\n",
    "    perc_row = miss_row / df_reduced.shape[1] * 100\n",
    "    perc_row = round(perc_row,2)\n",
    "\n",
    "    if perc_row > 30:\n",
    "        missing_rows[row] = [miss_row, perc_row]\n",
    "    else:\n",
    "        pass\n",
    "    \n",
    "\n"
   ]
  },
  {
   "cell_type": "code",
   "execution_count": 20,
   "metadata": {},
   "outputs": [
    {
     "data": {
      "text/plain": [
       "436"
      ]
     },
     "execution_count": 20,
     "metadata": {},
     "output_type": "execute_result"
    }
   ],
   "source": [
    "len(missing_rows)"
   ]
  },
  {
   "cell_type": "code",
   "execution_count": 21,
   "metadata": {},
   "outputs": [
    {
     "data": {
      "text/plain": [
       "0.004472528825243117"
      ]
     },
     "execution_count": 21,
     "metadata": {},
     "output_type": "execute_result"
    }
   ],
   "source": [
    "len(missing_rows)/df_reduced.shape[0]"
   ]
  },
  {
   "cell_type": "code",
   "execution_count": 22,
   "metadata": {},
   "outputs": [
    {
     "data": {
      "text/plain": [
       "(56068, 341)"
      ]
     },
     "execution_count": 22,
     "metadata": {},
     "output_type": "execute_result"
    }
   ],
   "source": [
    "#Removing all rows with missing values\n",
    "df_reducedrows = df_reduced.copy()\n",
    "df_reducedrows = df_reducedrows.dropna()\n",
    "\n",
    "    \n",
    "df_reducedrows.shape"
   ]
  },
  {
   "cell_type": "code",
   "execution_count": 23,
   "metadata": {},
   "outputs": [
    {
     "data": {
      "text/html": [
       "<div>\n",
       "<style scoped>\n",
       "    .dataframe tbody tr th:only-of-type {\n",
       "        vertical-align: middle;\n",
       "    }\n",
       "\n",
       "    .dataframe tbody tr th {\n",
       "        vertical-align: top;\n",
       "    }\n",
       "\n",
       "    .dataframe thead th {\n",
       "        text-align: right;\n",
       "    }\n",
       "</style>\n",
       "<table border=\"1\" class=\"dataframe\">\n",
       "  <thead>\n",
       "    <tr style=\"text-align: right;\">\n",
       "      <th></th>\n",
       "      <th>auth_3mth_post_acute_dia</th>\n",
       "      <th>rx_gpi2_72_pmpm_cost_6to9m_b4</th>\n",
       "      <th>atlas_pct_laccess_child15</th>\n",
       "      <th>atlas_recfacpth14</th>\n",
       "      <th>atlas_pct_fmrkt_frveg16</th>\n",
       "      <th>atlas_pct_free_lunch14</th>\n",
       "      <th>bh_ip_snf_net_paid_pmpm_cost_9to12m_b4</th>\n",
       "      <th>auth_3mth_acute_ckd</th>\n",
       "      <th>bh_ncal_pmpm_ct</th>\n",
       "      <th>src_div_id</th>\n",
       "      <th>...</th>\n",
       "      <th>auth_3mth_post_acute_end</th>\n",
       "      <th>auth_3mth_acute_mus</th>\n",
       "      <th>atlas_perpov_1980_0711</th>\n",
       "      <th>atlas_pct_laccess_white15</th>\n",
       "      <th>auth_3mth_post_acute_mean_los</th>\n",
       "      <th>rx_gpi2_66_pmpm_ct</th>\n",
       "      <th>auth_3mth_acute_gus</th>\n",
       "      <th>rx_generic_dist_gpi6_pmpm_ct_t_9-6-3m_b4</th>\n",
       "      <th>atlas_low_education_2015_update</th>\n",
       "      <th>race_cd</th>\n",
       "    </tr>\n",
       "    <tr>\n",
       "      <th>ID</th>\n",
       "      <th></th>\n",
       "      <th></th>\n",
       "      <th></th>\n",
       "      <th></th>\n",
       "      <th></th>\n",
       "      <th></th>\n",
       "      <th></th>\n",
       "      <th></th>\n",
       "      <th></th>\n",
       "      <th></th>\n",
       "      <th></th>\n",
       "      <th></th>\n",
       "      <th></th>\n",
       "      <th></th>\n",
       "      <th></th>\n",
       "      <th></th>\n",
       "      <th></th>\n",
       "      <th></th>\n",
       "      <th></th>\n",
       "      <th></th>\n",
       "      <th></th>\n",
       "    </tr>\n",
       "  </thead>\n",
       "  <tbody>\n",
       "    <tr>\n",
       "      <th>0M9811Ocb1ST94LY3f5A9I00</th>\n",
       "      <td>0</td>\n",
       "      <td>0.0</td>\n",
       "      <td>0.618606</td>\n",
       "      <td>0.074862</td>\n",
       "      <td>88.272489</td>\n",
       "      <td>36.298252</td>\n",
       "      <td>0.0</td>\n",
       "      <td>0</td>\n",
       "      <td>0.0</td>\n",
       "      <td>000</td>\n",
       "      <td>...</td>\n",
       "      <td>0</td>\n",
       "      <td>0</td>\n",
       "      <td>0.0</td>\n",
       "      <td>33.795298</td>\n",
       "      <td>0.0</td>\n",
       "      <td>0.0</td>\n",
       "      <td>0</td>\n",
       "      <td>Dec_1x-2x</td>\n",
       "      <td>0.0</td>\n",
       "      <td>1.0</td>\n",
       "    </tr>\n",
       "    <tr>\n",
       "      <th>aMO5Sfba593T616LYf382AI1</th>\n",
       "      <td>0</td>\n",
       "      <td>0.0</td>\n",
       "      <td>4.016513</td>\n",
       "      <td>0.096272</td>\n",
       "      <td>0.000000</td>\n",
       "      <td>26.716726</td>\n",
       "      <td>0.0</td>\n",
       "      <td>0</td>\n",
       "      <td>0.0</td>\n",
       "      <td>000</td>\n",
       "      <td>...</td>\n",
       "      <td>0</td>\n",
       "      <td>0</td>\n",
       "      <td>0.0</td>\n",
       "      <td>22.941176</td>\n",
       "      <td>0.0</td>\n",
       "      <td>0.0</td>\n",
       "      <td>0</td>\n",
       "      <td>Dec_1x-2x</td>\n",
       "      <td>0.0</td>\n",
       "      <td>1.0</td>\n",
       "    </tr>\n",
       "    <tr>\n",
       "      <th>18cM8e1OS1T97LeY85dAaefI</th>\n",
       "      <td>0</td>\n",
       "      <td>0.0</td>\n",
       "      <td>4.621964</td>\n",
       "      <td>0.071283</td>\n",
       "      <td>0.000000</td>\n",
       "      <td>37.255197</td>\n",
       "      <td>0.0</td>\n",
       "      <td>0</td>\n",
       "      <td>0.0</td>\n",
       "      <td>000</td>\n",
       "      <td>...</td>\n",
       "      <td>0</td>\n",
       "      <td>0</td>\n",
       "      <td>0.0</td>\n",
       "      <td>0.844987</td>\n",
       "      <td>0.0</td>\n",
       "      <td>0.0</td>\n",
       "      <td>0</td>\n",
       "      <td>Dec_1x-2x</td>\n",
       "      <td>0.0</td>\n",
       "      <td>1.0</td>\n",
       "    </tr>\n",
       "    <tr>\n",
       "      <th>M1O5bd8d7Sa2c1T8LdY9A7I0</th>\n",
       "      <td>0</td>\n",
       "      <td>0.0</td>\n",
       "      <td>5.356763</td>\n",
       "      <td>0.043448</td>\n",
       "      <td>100.000000</td>\n",
       "      <td>76.328619</td>\n",
       "      <td>0.0</td>\n",
       "      <td>0</td>\n",
       "      <td>0.0</td>\n",
       "      <td>000</td>\n",
       "      <td>...</td>\n",
       "      <td>0</td>\n",
       "      <td>0</td>\n",
       "      <td>0.0</td>\n",
       "      <td>15.943290</td>\n",
       "      <td>0.0</td>\n",
       "      <td>0.0</td>\n",
       "      <td>0</td>\n",
       "      <td>Inc_1x-2x</td>\n",
       "      <td>0.0</td>\n",
       "      <td>1.0</td>\n",
       "    </tr>\n",
       "    <tr>\n",
       "      <th>a5M05268OSTLdcYc2A1fI9f0</th>\n",
       "      <td>0</td>\n",
       "      <td>0.0</td>\n",
       "      <td>4.168624</td>\n",
       "      <td>0.053011</td>\n",
       "      <td>50.000000</td>\n",
       "      <td>46.617154</td>\n",
       "      <td>0.0</td>\n",
       "      <td>0</td>\n",
       "      <td>0.0</td>\n",
       "      <td>000</td>\n",
       "      <td>...</td>\n",
       "      <td>0</td>\n",
       "      <td>0</td>\n",
       "      <td>0.0</td>\n",
       "      <td>25.783233</td>\n",
       "      <td>0.0</td>\n",
       "      <td>0.0</td>\n",
       "      <td>0</td>\n",
       "      <td>Inc_4x-8x</td>\n",
       "      <td>0.0</td>\n",
       "      <td>1.0</td>\n",
       "    </tr>\n",
       "  </tbody>\n",
       "</table>\n",
       "<p>5 rows × 340 columns</p>\n",
       "</div>"
      ],
      "text/plain": [
       "                         auth_3mth_post_acute_dia  \\\n",
       "ID                                                  \n",
       "0M9811Ocb1ST94LY3f5A9I00                        0   \n",
       "aMO5Sfba593T616LYf382AI1                        0   \n",
       "18cM8e1OS1T97LeY85dAaefI                        0   \n",
       "M1O5bd8d7Sa2c1T8LdY9A7I0                        0   \n",
       "a5M05268OSTLdcYc2A1fI9f0                        0   \n",
       "\n",
       "                          rx_gpi2_72_pmpm_cost_6to9m_b4  \\\n",
       "ID                                                        \n",
       "0M9811Ocb1ST94LY3f5A9I00                            0.0   \n",
       "aMO5Sfba593T616LYf382AI1                            0.0   \n",
       "18cM8e1OS1T97LeY85dAaefI                            0.0   \n",
       "M1O5bd8d7Sa2c1T8LdY9A7I0                            0.0   \n",
       "a5M05268OSTLdcYc2A1fI9f0                            0.0   \n",
       "\n",
       "                          atlas_pct_laccess_child15  atlas_recfacpth14  \\\n",
       "ID                                                                       \n",
       "0M9811Ocb1ST94LY3f5A9I00                   0.618606           0.074862   \n",
       "aMO5Sfba593T616LYf382AI1                   4.016513           0.096272   \n",
       "18cM8e1OS1T97LeY85dAaefI                   4.621964           0.071283   \n",
       "M1O5bd8d7Sa2c1T8LdY9A7I0                   5.356763           0.043448   \n",
       "a5M05268OSTLdcYc2A1fI9f0                   4.168624           0.053011   \n",
       "\n",
       "                          atlas_pct_fmrkt_frveg16  atlas_pct_free_lunch14  \\\n",
       "ID                                                                          \n",
       "0M9811Ocb1ST94LY3f5A9I00                88.272489               36.298252   \n",
       "aMO5Sfba593T616LYf382AI1                 0.000000               26.716726   \n",
       "18cM8e1OS1T97LeY85dAaefI                 0.000000               37.255197   \n",
       "M1O5bd8d7Sa2c1T8LdY9A7I0               100.000000               76.328619   \n",
       "a5M05268OSTLdcYc2A1fI9f0                50.000000               46.617154   \n",
       "\n",
       "                         bh_ip_snf_net_paid_pmpm_cost_9to12m_b4  \\\n",
       "ID                                                                \n",
       "0M9811Ocb1ST94LY3f5A9I00                                    0.0   \n",
       "aMO5Sfba593T616LYf382AI1                                    0.0   \n",
       "18cM8e1OS1T97LeY85dAaefI                                    0.0   \n",
       "M1O5bd8d7Sa2c1T8LdY9A7I0                                    0.0   \n",
       "a5M05268OSTLdcYc2A1fI9f0                                    0.0   \n",
       "\n",
       "                          auth_3mth_acute_ckd  bh_ncal_pmpm_ct src_div_id  \\\n",
       "ID                                                                          \n",
       "0M9811Ocb1ST94LY3f5A9I00                    0              0.0        000   \n",
       "aMO5Sfba593T616LYf382AI1                    0              0.0        000   \n",
       "18cM8e1OS1T97LeY85dAaefI                    0              0.0        000   \n",
       "M1O5bd8d7Sa2c1T8LdY9A7I0                    0              0.0        000   \n",
       "a5M05268OSTLdcYc2A1fI9f0                    0              0.0        000   \n",
       "\n",
       "                          ... auth_3mth_post_acute_end auth_3mth_acute_mus  \\\n",
       "ID                        ...                                                \n",
       "0M9811Ocb1ST94LY3f5A9I00  ...                        0                   0   \n",
       "aMO5Sfba593T616LYf382AI1  ...                        0                   0   \n",
       "18cM8e1OS1T97LeY85dAaefI  ...                        0                   0   \n",
       "M1O5bd8d7Sa2c1T8LdY9A7I0  ...                        0                   0   \n",
       "a5M05268OSTLdcYc2A1fI9f0  ...                        0                   0   \n",
       "\n",
       "                         atlas_perpov_1980_0711 atlas_pct_laccess_white15  \\\n",
       "ID                                                                          \n",
       "0M9811Ocb1ST94LY3f5A9I00                    0.0                 33.795298   \n",
       "aMO5Sfba593T616LYf382AI1                    0.0                 22.941176   \n",
       "18cM8e1OS1T97LeY85dAaefI                    0.0                  0.844987   \n",
       "M1O5bd8d7Sa2c1T8LdY9A7I0                    0.0                 15.943290   \n",
       "a5M05268OSTLdcYc2A1fI9f0                    0.0                 25.783233   \n",
       "\n",
       "                         auth_3mth_post_acute_mean_los  rx_gpi2_66_pmpm_ct  \\\n",
       "ID                                                                           \n",
       "0M9811Ocb1ST94LY3f5A9I00                           0.0                 0.0   \n",
       "aMO5Sfba593T616LYf382AI1                           0.0                 0.0   \n",
       "18cM8e1OS1T97LeY85dAaefI                           0.0                 0.0   \n",
       "M1O5bd8d7Sa2c1T8LdY9A7I0                           0.0                 0.0   \n",
       "a5M05268OSTLdcYc2A1fI9f0                           0.0                 0.0   \n",
       "\n",
       "                         auth_3mth_acute_gus  \\\n",
       "ID                                             \n",
       "0M9811Ocb1ST94LY3f5A9I00                   0   \n",
       "aMO5Sfba593T616LYf382AI1                   0   \n",
       "18cM8e1OS1T97LeY85dAaefI                   0   \n",
       "M1O5bd8d7Sa2c1T8LdY9A7I0                   0   \n",
       "a5M05268OSTLdcYc2A1fI9f0                   0   \n",
       "\n",
       "                          rx_generic_dist_gpi6_pmpm_ct_t_9-6-3m_b4  \\\n",
       "ID                                                                   \n",
       "0M9811Ocb1ST94LY3f5A9I00                                 Dec_1x-2x   \n",
       "aMO5Sfba593T616LYf382AI1                                 Dec_1x-2x   \n",
       "18cM8e1OS1T97LeY85dAaefI                                 Dec_1x-2x   \n",
       "M1O5bd8d7Sa2c1T8LdY9A7I0                                 Inc_1x-2x   \n",
       "a5M05268OSTLdcYc2A1fI9f0                                 Inc_4x-8x   \n",
       "\n",
       "                          atlas_low_education_2015_update  race_cd  \n",
       "ID                                                                  \n",
       "0M9811Ocb1ST94LY3f5A9I00                              0.0      1.0  \n",
       "aMO5Sfba593T616LYf382AI1                              0.0      1.0  \n",
       "18cM8e1OS1T97LeY85dAaefI                              0.0      1.0  \n",
       "M1O5bd8d7Sa2c1T8LdY9A7I0                              0.0      1.0  \n",
       "a5M05268OSTLdcYc2A1fI9f0                              0.0      1.0  \n",
       "\n",
       "[5 rows x 340 columns]"
      ]
     },
     "execution_count": 23,
     "metadata": {},
     "output_type": "execute_result"
    }
   ],
   "source": [
    "df_reducedrows.set_index([\"ID\"], inplace = True)\n",
    "df_reducedrows.head()"
   ]
  },
  {
   "cell_type": "code",
   "execution_count": 24,
   "metadata": {},
   "outputs": [],
   "source": [
    "df_reducedrows = df_reducedrows.drop(\"rx_generic_dist_gpi6_pmpm_ct_t_9-6-3m_b4\", axis = 1)"
   ]
  },
  {
   "cell_type": "code",
   "execution_count": 25,
   "metadata": {},
   "outputs": [],
   "source": [
    "missing_red ={}\n",
    "for i in range(df_reducedrows.shape[1]):\n",
    "    # count number of rows with missing values\n",
    "    n_miss = df_reducedrows.iloc[:,i].isnull().sum()\n",
    "    perc = n_miss / df_reducedrows.shape[0] * 100\n",
    "    perc = round(perc,2)\n",
    "    \n",
    "    dtype = df_reducedrows.iloc[:,i].dtype\n",
    "    \n",
    "    missing_red[i] = [df_reducedrows.columns[i], dtype, n_miss, perc]\n"
   ]
  },
  {
   "cell_type": "code",
   "execution_count": 26,
   "metadata": {},
   "outputs": [],
   "source": [
    "missing_val_rev = pd.DataFrame(missing_red)\n",
    "missing_values_rev =missing_val_rev.T\n",
    "missing_values_rev = missing_values_rev.rename(columns = {0: \"Column Name\", 1:\"dtype\", 2: \"Number of Missing Values\", 3: \"Percent Missing Values\"})"
   ]
  },
  {
   "cell_type": "code",
   "execution_count": 27,
   "metadata": {},
   "outputs": [
    {
     "data": {
      "text/html": [
       "<div>\n",
       "<style scoped>\n",
       "    .dataframe tbody tr th:only-of-type {\n",
       "        vertical-align: middle;\n",
       "    }\n",
       "\n",
       "    .dataframe tbody tr th {\n",
       "        vertical-align: top;\n",
       "    }\n",
       "\n",
       "    .dataframe thead th {\n",
       "        text-align: right;\n",
       "    }\n",
       "</style>\n",
       "<table border=\"1\" class=\"dataframe\">\n",
       "  <thead>\n",
       "    <tr style=\"text-align: right;\">\n",
       "      <th></th>\n",
       "      <th>Column Name</th>\n",
       "      <th>dtype</th>\n",
       "      <th>Number of Missing Values</th>\n",
       "      <th>Percent Missing Values</th>\n",
       "    </tr>\n",
       "  </thead>\n",
       "  <tbody>\n",
       "    <tr>\n",
       "      <th>0</th>\n",
       "      <td>auth_3mth_post_acute_dia</td>\n",
       "      <td>object</td>\n",
       "      <td>0</td>\n",
       "      <td>0.0</td>\n",
       "    </tr>\n",
       "    <tr>\n",
       "      <th>223</th>\n",
       "      <td>med_outpatient_visit_ct_pmpm_t_12-9-6m_b4</td>\n",
       "      <td>object</td>\n",
       "      <td>0</td>\n",
       "      <td>0.0</td>\n",
       "    </tr>\n",
       "    <tr>\n",
       "      <th>231</th>\n",
       "      <td>rx_tier_1_pmpm_ct_0to3m_b4</td>\n",
       "      <td>float64</td>\n",
       "      <td>0</td>\n",
       "      <td>0.0</td>\n",
       "    </tr>\n",
       "    <tr>\n",
       "      <th>230</th>\n",
       "      <td>atlas_povertyunder18pct</td>\n",
       "      <td>float64</td>\n",
       "      <td>0</td>\n",
       "      <td>0.0</td>\n",
       "    </tr>\n",
       "    <tr>\n",
       "      <th>229</th>\n",
       "      <td>credit_bal_bankcard_severederog</td>\n",
       "      <td>float64</td>\n",
       "      <td>0</td>\n",
       "      <td>0.0</td>\n",
       "    </tr>\n",
       "    <tr>\n",
       "      <th>228</th>\n",
       "      <td>auth_3mth_dc_left_ama</td>\n",
       "      <td>int64</td>\n",
       "      <td>0</td>\n",
       "      <td>0.0</td>\n",
       "    </tr>\n",
       "    <tr>\n",
       "      <th>227</th>\n",
       "      <td>atlas_pc_ffrsales12</td>\n",
       "      <td>float64</td>\n",
       "      <td>0</td>\n",
       "      <td>0.0</td>\n",
       "    </tr>\n",
       "    <tr>\n",
       "      <th>226</th>\n",
       "      <td>rx_nonbh_pmpm_ct_0to3m_b4</td>\n",
       "      <td>float64</td>\n",
       "      <td>0</td>\n",
       "      <td>0.0</td>\n",
       "    </tr>\n",
       "    <tr>\n",
       "      <th>225</th>\n",
       "      <td>auth_3mth_acute</td>\n",
       "      <td>int64</td>\n",
       "      <td>0</td>\n",
       "      <td>0.0</td>\n",
       "    </tr>\n",
       "    <tr>\n",
       "      <th>224</th>\n",
       "      <td>rx_nonbh_pmpm_ct_t_9-6-3m_b4</td>\n",
       "      <td>object</td>\n",
       "      <td>0</td>\n",
       "      <td>0.0</td>\n",
       "    </tr>\n",
       "    <tr>\n",
       "      <th>222</th>\n",
       "      <td>rx_mail_mbr_resp_pmpm_cost_t_9-6-3m_b4</td>\n",
       "      <td>object</td>\n",
       "      <td>0</td>\n",
       "      <td>0.0</td>\n",
       "    </tr>\n",
       "    <tr>\n",
       "      <th>254</th>\n",
       "      <td>pdc_lip</td>\n",
       "      <td>float64</td>\n",
       "      <td>0</td>\n",
       "      <td>0.0</td>\n",
       "    </tr>\n",
       "    <tr>\n",
       "      <th>221</th>\n",
       "      <td>total_med_allowed_pmpm_cost_9to12m_b4</td>\n",
       "      <td>float64</td>\n",
       "      <td>0</td>\n",
       "      <td>0.0</td>\n",
       "    </tr>\n",
       "    <tr>\n",
       "      <th>220</th>\n",
       "      <td>atlas_convspth14</td>\n",
       "      <td>float64</td>\n",
       "      <td>0</td>\n",
       "      <td>0.0</td>\n",
       "    </tr>\n",
       "    <tr>\n",
       "      <th>219</th>\n",
       "      <td>rev_cms_ansth_pmpm_ct</td>\n",
       "      <td>object</td>\n",
       "      <td>0</td>\n",
       "      <td>0.0</td>\n",
       "    </tr>\n",
       "    <tr>\n",
       "      <th>218</th>\n",
       "      <td>rx_generic_pmpm_cost_6to9m_b4</td>\n",
       "      <td>float64</td>\n",
       "      <td>0</td>\n",
       "      <td>0.0</td>\n",
       "    </tr>\n",
       "    <tr>\n",
       "      <th>217</th>\n",
       "      <td>atlas_dirsales_farms12</td>\n",
       "      <td>float64</td>\n",
       "      <td>0</td>\n",
       "      <td>0.0</td>\n",
       "    </tr>\n",
       "    <tr>\n",
       "      <th>216</th>\n",
       "      <td>bh_outpatient_net_paid_pmpm_cost</td>\n",
       "      <td>float64</td>\n",
       "      <td>0</td>\n",
       "      <td>0.0</td>\n",
       "    </tr>\n",
       "    <tr>\n",
       "      <th>215</th>\n",
       "      <td>auth_3mth_transplant</td>\n",
       "      <td>int64</td>\n",
       "      <td>0</td>\n",
       "      <td>0.0</td>\n",
       "    </tr>\n",
       "    <tr>\n",
       "      <th>214</th>\n",
       "      <td>rej_days_since_last_clm</td>\n",
       "      <td>int64</td>\n",
       "      <td>0</td>\n",
       "      <td>0.0</td>\n",
       "    </tr>\n",
       "    <tr>\n",
       "      <th>232</th>\n",
       "      <td>auth_3mth_acute_ccs_227</td>\n",
       "      <td>object</td>\n",
       "      <td>0</td>\n",
       "      <td>0.0</td>\n",
       "    </tr>\n",
       "    <tr>\n",
       "      <th>233</th>\n",
       "      <td>auth_3mth_bh_acute_men</td>\n",
       "      <td>int64</td>\n",
       "      <td>0</td>\n",
       "      <td>0.0</td>\n",
       "    </tr>\n",
       "    <tr>\n",
       "      <th>234</th>\n",
       "      <td>rx_gpi2_34_pmpm_ct</td>\n",
       "      <td>float64</td>\n",
       "      <td>0</td>\n",
       "      <td>0.0</td>\n",
       "    </tr>\n",
       "    <tr>\n",
       "      <th>235</th>\n",
       "      <td>auth_3mth_dc_custodial</td>\n",
       "      <td>int64</td>\n",
       "      <td>0</td>\n",
       "      <td>0.0</td>\n",
       "    </tr>\n",
       "    <tr>\n",
       "      <th>252</th>\n",
       "      <td>atlas_pct_cacfp15</td>\n",
       "      <td>float64</td>\n",
       "      <td>0</td>\n",
       "      <td>0.0</td>\n",
       "    </tr>\n",
       "    <tr>\n",
       "      <th>251</th>\n",
       "      <td>rwjf_resident_seg_black_inx</td>\n",
       "      <td>float64</td>\n",
       "      <td>0</td>\n",
       "      <td>0.0</td>\n",
       "    </tr>\n",
       "    <tr>\n",
       "      <th>250</th>\n",
       "      <td>atlas_pct_sbp15</td>\n",
       "      <td>float64</td>\n",
       "      <td>0</td>\n",
       "      <td>0.0</td>\n",
       "    </tr>\n",
       "    <tr>\n",
       "      <th>249</th>\n",
       "      <td>cms_partd_ra_factor_amt</td>\n",
       "      <td>float64</td>\n",
       "      <td>0</td>\n",
       "      <td>0.0</td>\n",
       "    </tr>\n",
       "    <tr>\n",
       "      <th>248</th>\n",
       "      <td>met_obe_diag_pct</td>\n",
       "      <td>float64</td>\n",
       "      <td>0</td>\n",
       "      <td>0.0</td>\n",
       "    </tr>\n",
       "    <tr>\n",
       "      <th>247</th>\n",
       "      <td>atlas_pct_fmrkt_snap16</td>\n",
       "      <td>float64</td>\n",
       "      <td>0</td>\n",
       "      <td>0.0</td>\n",
       "    </tr>\n",
       "    <tr>\n",
       "      <th>246</th>\n",
       "      <td>auth_3mth_acute_men</td>\n",
       "      <td>int64</td>\n",
       "      <td>0</td>\n",
       "      <td>0.0</td>\n",
       "    </tr>\n",
       "    <tr>\n",
       "      <th>245</th>\n",
       "      <td>auth_3mth_acute_hdz</td>\n",
       "      <td>int64</td>\n",
       "      <td>0</td>\n",
       "      <td>0.0</td>\n",
       "    </tr>\n",
       "    <tr>\n",
       "      <th>244</th>\n",
       "      <td>auth_3mth_ltac</td>\n",
       "      <td>object</td>\n",
       "      <td>0</td>\n",
       "      <td>0.0</td>\n",
       "    </tr>\n",
       "    <tr>\n",
       "      <th>243</th>\n",
       "      <td>rx_overall_gpi_pmpm_ct_t_12-9-6m_b4</td>\n",
       "      <td>object</td>\n",
       "      <td>0</td>\n",
       "      <td>0.0</td>\n",
       "    </tr>\n",
       "    <tr>\n",
       "      <th>242</th>\n",
       "      <td>rx_gpi2_62_pmpm_cost_t_9-6-3m_b4</td>\n",
       "      <td>object</td>\n",
       "      <td>0</td>\n",
       "      <td>0.0</td>\n",
       "    </tr>\n",
       "  </tbody>\n",
       "</table>\n",
       "</div>"
      ],
      "text/plain": [
       "                                   Column Name    dtype  \\\n",
       "0                     auth_3mth_post_acute_dia   object   \n",
       "223  med_outpatient_visit_ct_pmpm_t_12-9-6m_b4   object   \n",
       "231                 rx_tier_1_pmpm_ct_0to3m_b4  float64   \n",
       "230                    atlas_povertyunder18pct  float64   \n",
       "229            credit_bal_bankcard_severederog  float64   \n",
       "228                      auth_3mth_dc_left_ama    int64   \n",
       "227                        atlas_pc_ffrsales12  float64   \n",
       "226                  rx_nonbh_pmpm_ct_0to3m_b4  float64   \n",
       "225                            auth_3mth_acute    int64   \n",
       "224               rx_nonbh_pmpm_ct_t_9-6-3m_b4   object   \n",
       "222     rx_mail_mbr_resp_pmpm_cost_t_9-6-3m_b4   object   \n",
       "254                                    pdc_lip  float64   \n",
       "221      total_med_allowed_pmpm_cost_9to12m_b4  float64   \n",
       "220                           atlas_convspth14  float64   \n",
       "219                      rev_cms_ansth_pmpm_ct   object   \n",
       "218              rx_generic_pmpm_cost_6to9m_b4  float64   \n",
       "217                     atlas_dirsales_farms12  float64   \n",
       "216           bh_outpatient_net_paid_pmpm_cost  float64   \n",
       "215                       auth_3mth_transplant    int64   \n",
       "214                    rej_days_since_last_clm    int64   \n",
       "232                    auth_3mth_acute_ccs_227   object   \n",
       "233                     auth_3mth_bh_acute_men    int64   \n",
       "234                         rx_gpi2_34_pmpm_ct  float64   \n",
       "235                     auth_3mth_dc_custodial    int64   \n",
       "252                          atlas_pct_cacfp15  float64   \n",
       "251                rwjf_resident_seg_black_inx  float64   \n",
       "250                            atlas_pct_sbp15  float64   \n",
       "249                    cms_partd_ra_factor_amt  float64   \n",
       "248                           met_obe_diag_pct  float64   \n",
       "247                     atlas_pct_fmrkt_snap16  float64   \n",
       "246                        auth_3mth_acute_men    int64   \n",
       "245                        auth_3mth_acute_hdz    int64   \n",
       "244                             auth_3mth_ltac   object   \n",
       "243        rx_overall_gpi_pmpm_ct_t_12-9-6m_b4   object   \n",
       "242           rx_gpi2_62_pmpm_cost_t_9-6-3m_b4   object   \n",
       "\n",
       "    Number of Missing Values Percent Missing Values  \n",
       "0                          0                    0.0  \n",
       "223                        0                    0.0  \n",
       "231                        0                    0.0  \n",
       "230                        0                    0.0  \n",
       "229                        0                    0.0  \n",
       "228                        0                    0.0  \n",
       "227                        0                    0.0  \n",
       "226                        0                    0.0  \n",
       "225                        0                    0.0  \n",
       "224                        0                    0.0  \n",
       "222                        0                    0.0  \n",
       "254                        0                    0.0  \n",
       "221                        0                    0.0  \n",
       "220                        0                    0.0  \n",
       "219                        0                    0.0  \n",
       "218                        0                    0.0  \n",
       "217                        0                    0.0  \n",
       "216                        0                    0.0  \n",
       "215                        0                    0.0  \n",
       "214                        0                    0.0  \n",
       "232                        0                    0.0  \n",
       "233                        0                    0.0  \n",
       "234                        0                    0.0  \n",
       "235                        0                    0.0  \n",
       "252                        0                    0.0  \n",
       "251                        0                    0.0  \n",
       "250                        0                    0.0  \n",
       "249                        0                    0.0  \n",
       "248                        0                    0.0  \n",
       "247                        0                    0.0  \n",
       "246                        0                    0.0  \n",
       "245                        0                    0.0  \n",
       "244                        0                    0.0  \n",
       "243                        0                    0.0  \n",
       "242                        0                    0.0  "
      ]
     },
     "execution_count": 27,
     "metadata": {},
     "output_type": "execute_result"
    }
   ],
   "source": [
    "missing_values_rev.sort_values(by = 'Percent Missing Values', ascending = False).head(35)\n"
   ]
  },
  {
   "cell_type": "code",
   "execution_count": 28,
   "metadata": {},
   "outputs": [],
   "source": [
    "df_reducedrows = df_reducedrows.replace(\"*\",0)"
   ]
  },
  {
   "cell_type": "code",
   "execution_count": 29,
   "metadata": {},
   "outputs": [
    {
     "data": {
      "text/plain": [
       "['1', '0', '0', '0']"
      ]
     },
     "execution_count": 29,
     "metadata": {},
     "output_type": "execute_result"
    }
   ],
   "source": [
    "#dividing into features and labels\n",
    "reducedrows = df_reducedrows.copy() \n",
    "x_reducedrows= reducedrows.loc[:, reducedrows.columns != 'covid_vaccination']\n",
    "y_reducedrows = reducedrows['covid_vaccination']\n",
    "y_reducedrows = [\"1\" if i == \"vacc\" else \"0\" for i in y_reducedrows]\n",
    "y_reducedrows[1:5]"
   ]
  },
  {
   "cell_type": "code",
   "execution_count": 30,
   "metadata": {},
   "outputs": [],
   "source": [
    "y = y_reducedrows.copy()\n"
   ]
  },
  {
   "cell_type": "code",
   "execution_count": 31,
   "metadata": {},
   "outputs": [
    {
     "data": {
      "text/plain": [
       "(56068, 1065)"
      ]
     },
     "execution_count": 31,
     "metadata": {},
     "output_type": "execute_result"
    }
   ],
   "source": [
    "x = x_reducedrows.copy()\n",
    "x = pd.get_dummies(x)\n",
    "x.shape"
   ]
  },
  {
   "cell_type": "code",
   "execution_count": 32,
   "metadata": {},
   "outputs": [
    {
     "name": "stdout",
     "output_type": "stream",
     "text": [
      "(44854, 1065) (11214, 1065)\n"
     ]
    }
   ],
   "source": [
    "#split into train and test datasets\n",
    "\n",
    "x_train, x_test, y_train, y_test = train_test_split(x,y,test_size = 0.2, random_state = 42)\n",
    "print(x_train.shape,x_test.shape)"
   ]
  },
  {
   "cell_type": "raw",
   "metadata": {},
   "source": [
    "parameters = {\"n_estimators\":(100,300,500,800,1000)}\n",
    "rf1 = RandomForestClassifier()\n",
    "clf = GridSearchCV(rf1,parameters, cv=5,n_jobs = -1)\n",
    "best_rf = clf.fit(x_train,y_train)\n",
    "print(best_rf.best_params_)"
   ]
  },
  {
   "cell_type": "raw",
   "metadata": {},
   "source": [
    "best_rf.cv_results_"
   ]
  },
  {
   "cell_type": "code",
   "execution_count": 33,
   "metadata": {},
   "outputs": [
    {
     "data": {
      "text/plain": [
       "0.8168360977349741"
      ]
     },
     "execution_count": 33,
     "metadata": {},
     "output_type": "execute_result"
    }
   ],
   "source": [
    "rf1 = RandomForestClassifier(300)\n",
    "rf1.fit(x_train,y_train)\n",
    "y_pred = rf1.predict(x_test)\n",
    "accuracy_score(y_test, y_pred)"
   ]
  },
  {
   "cell_type": "code",
   "execution_count": 34,
   "metadata": {},
   "outputs": [
    {
     "name": "stderr",
     "output_type": "stream",
     "text": [
      "C:\\Users\\patri\\Anaconda3\\lib\\site-packages\\sklearn\\utils\\deprecation.py:87: FutureWarning: Function plot_roc_curve is deprecated; Function `plot_roc_curve` is deprecated in 1.0 and will be removed in 1.2. Use one of the class methods: RocCurveDisplay.from_predictions or RocCurveDisplay.from_estimator.\n",
      "  warnings.warn(msg, category=FutureWarning)\n"
     ]
    },
    {
     "data": {
      "image/png": "[encoded data removed]",
      "text/plain": [
       "<Figure size 432x288 with 1 Axes>"
      ]
     },
     "metadata": {
      "needs_background": "light"
     },
     "output_type": "display_data"
    }
   ],
   "source": [
    "plot_roc_curve(rf1, x_test, y_test) \n",
    "plt.show()"
   ]
  },
  {
   "cell_type": "raw",
   "metadata": {},
   "source": [
    "feature_names = []\n",
    "for col in x.columns:\n",
    "    feature_names.append(col)\n",
    "\n",
    "forest_importances = pd.Series(rf1.feature_importances_, index=feature_names)\n",
    "rf1_importances = forest_importances.sort_values(ascending = False)\n",
    "fig, ax = plt.subplots()\n",
    "rf1_importances[:50].plot.bar(ax=ax,figsize = (18,12))\n",
    "ax.set_title(\"Feature importances using MDI\")\n",
    "ax.set_ylabel(\"Mean decrease in impurity\")\n",
    "fig.tight_layout()\n"
   ]
  },
  {
   "cell_type": "raw",
   "metadata": {},
   "source": [
    "\n",
    "fig, ax = plt.subplots()\n",
    "rf1_importances[50:100].plot.bar(ax=ax,figsize = (18,12))\n",
    "ax.set_title(\"Feature importances using MDI\")\n",
    "ax.set_ylabel(\"Mean decrease in impurity\")\n",
    "fig.tight_layout()"
   ]
  },
  {
   "cell_type": "raw",
   "metadata": {},
   "source": [
    "fig, ax = plt.subplots()\n",
    "rf1_importances[100:150].plot.bar(ax=ax,figsize = (18,12))\n",
    "ax.set_title(\"Feature importances using MDI\")\n",
    "ax.set_ylabel(\"Mean decrease in impurity\")\n",
    "fig.tight_layout()"
   ]
  },
  {
   "cell_type": "code",
   "execution_count": 35,
   "metadata": {},
   "outputs": [],
   "source": [
    "imp_dict = {}\n",
    "for i in range(x.shape[1]):\n",
    "    name = x.columns[i]\n",
    "    imp = rf1.feature_importances_[i]\n",
    "    imp_dict[i]=name,imp"
   ]
  },
  {
   "cell_type": "code",
   "execution_count": 36,
   "metadata": {},
   "outputs": [
    {
     "data": {
      "text/html": [
       "<div>\n",
       "<style scoped>\n",
       "    .dataframe tbody tr th:only-of-type {\n",
       "        vertical-align: middle;\n",
       "    }\n",
       "\n",
       "    .dataframe tbody tr th {\n",
       "        vertical-align: top;\n",
       "    }\n",
       "\n",
       "    .dataframe thead th {\n",
       "        text-align: right;\n",
       "    }\n",
       "</style>\n",
       "<table border=\"1\" class=\"dataframe\">\n",
       "  <thead>\n",
       "    <tr style=\"text-align: right;\">\n",
       "      <th></th>\n",
       "      <th>Feature_name</th>\n",
       "      <th>Importance</th>\n",
       "    </tr>\n",
       "  </thead>\n",
       "  <tbody>\n",
       "    <tr>\n",
       "      <th>0</th>\n",
       "      <td>rx_gpi2_72_pmpm_cost_6to9m_b4</td>\n",
       "      <td>0.001828</td>\n",
       "    </tr>\n",
       "    <tr>\n",
       "      <th>1</th>\n",
       "      <td>atlas_pct_laccess_child15</td>\n",
       "      <td>0.006423</td>\n",
       "    </tr>\n",
       "    <tr>\n",
       "      <th>2</th>\n",
       "      <td>atlas_recfacpth14</td>\n",
       "      <td>0.006303</td>\n",
       "    </tr>\n",
       "    <tr>\n",
       "      <th>3</th>\n",
       "      <td>atlas_pct_fmrkt_frveg16</td>\n",
       "      <td>0.004023</td>\n",
       "    </tr>\n",
       "    <tr>\n",
       "      <th>4</th>\n",
       "      <td>atlas_pct_free_lunch14</td>\n",
       "      <td>0.006321</td>\n",
       "    </tr>\n",
       "  </tbody>\n",
       "</table>\n",
       "</div>"
      ],
      "text/plain": [
       "                    Feature_name Importance\n",
       "0  rx_gpi2_72_pmpm_cost_6to9m_b4   0.001828\n",
       "1      atlas_pct_laccess_child15   0.006423\n",
       "2              atlas_recfacpth14   0.006303\n",
       "3        atlas_pct_fmrkt_frveg16   0.004023\n",
       "4         atlas_pct_free_lunch14   0.006321"
      ]
     },
     "execution_count": 36,
     "metadata": {},
     "output_type": "execute_result"
    }
   ],
   "source": [
    "imp_df = pd.DataFrame(imp_dict)\n",
    "imp_df = imp_df.T\n",
    "imp_df = imp_df.rename(columns = {0:\"Feature_name\", 1: \"Importance\"})\n",
    "imp_df.head()"
   ]
  },
  {
   "cell_type": "code",
   "execution_count": 37,
   "metadata": {},
   "outputs": [
    {
     "data": {
      "text/html": [
       "<div>\n",
       "<style scoped>\n",
       "    .dataframe tbody tr th:only-of-type {\n",
       "        vertical-align: middle;\n",
       "    }\n",
       "\n",
       "    .dataframe tbody tr th {\n",
       "        vertical-align: top;\n",
       "    }\n",
       "\n",
       "    .dataframe thead th {\n",
       "        text-align: right;\n",
       "    }\n",
       "</style>\n",
       "<table border=\"1\" class=\"dataframe\">\n",
       "  <thead>\n",
       "    <tr style=\"text-align: right;\">\n",
       "      <th></th>\n",
       "      <th>Feature_name</th>\n",
       "      <th>Importance</th>\n",
       "    </tr>\n",
       "  </thead>\n",
       "  <tbody>\n",
       "    <tr>\n",
       "      <th>52</th>\n",
       "      <td>est_age</td>\n",
       "      <td>0.008889</td>\n",
       "    </tr>\n",
       "    <tr>\n",
       "      <th>70</th>\n",
       "      <td>cms_tot_partd_payment_amt</td>\n",
       "      <td>0.007734</td>\n",
       "    </tr>\n",
       "    <tr>\n",
       "      <th>12</th>\n",
       "      <td>credit_hh_nonmtgcredit_60dpd</td>\n",
       "      <td>0.007592</td>\n",
       "    </tr>\n",
       "    <tr>\n",
       "      <th>50</th>\n",
       "      <td>credit_hh_bankcard_severederog</td>\n",
       "      <td>0.007491</td>\n",
       "    </tr>\n",
       "    <tr>\n",
       "      <th>17</th>\n",
       "      <td>credit_hh_bankcardcredit_60dpd</td>\n",
       "      <td>0.007335</td>\n",
       "    </tr>\n",
       "    <tr>\n",
       "      <th>...</th>\n",
       "      <td>...</td>\n",
       "      <td>...</td>\n",
       "    </tr>\n",
       "    <tr>\n",
       "      <th>307</th>\n",
       "      <td>rx_gpi4_6110_pmpm_ct_0.33333334</td>\n",
       "      <td>0.0</td>\n",
       "    </tr>\n",
       "    <tr>\n",
       "      <th>306</th>\n",
       "      <td>rx_gpi4_6110_pmpm_ct_0.25</td>\n",
       "      <td>0.0</td>\n",
       "    </tr>\n",
       "    <tr>\n",
       "      <th>898</th>\n",
       "      <td>rx_gpi2_90_dist_gpi6_pmpm_ct_9to12m_b4_1.3333334</td>\n",
       "      <td>0.0</td>\n",
       "    </tr>\n",
       "    <tr>\n",
       "      <th>7</th>\n",
       "      <td>auth_3mth_post_acute_rsk</td>\n",
       "      <td>0.0</td>\n",
       "    </tr>\n",
       "    <tr>\n",
       "      <th>172</th>\n",
       "      <td>auth_3mth_acute_men</td>\n",
       "      <td>0.0</td>\n",
       "    </tr>\n",
       "  </tbody>\n",
       "</table>\n",
       "<p>1065 rows × 2 columns</p>\n",
       "</div>"
      ],
      "text/plain": [
       "                                         Feature_name Importance\n",
       "52                                            est_age   0.008889\n",
       "70                          cms_tot_partd_payment_amt   0.007734\n",
       "12                       credit_hh_nonmtgcredit_60dpd   0.007592\n",
       "50                     credit_hh_bankcard_severederog   0.007491\n",
       "17                     credit_hh_bankcardcredit_60dpd   0.007335\n",
       "..                                                ...        ...\n",
       "307                   rx_gpi4_6110_pmpm_ct_0.33333334        0.0\n",
       "306                         rx_gpi4_6110_pmpm_ct_0.25        0.0\n",
       "898  rx_gpi2_90_dist_gpi6_pmpm_ct_9to12m_b4_1.3333334        0.0\n",
       "7                            auth_3mth_post_acute_rsk        0.0\n",
       "172                               auth_3mth_acute_men        0.0\n",
       "\n",
       "[1065 rows x 2 columns]"
      ]
     },
     "execution_count": 37,
     "metadata": {},
     "output_type": "execute_result"
    }
   ],
   "source": [
    "imp_df.sort_values(by = [\"Importance\"], ascending = False)"
   ]
  },
  {
   "cell_type": "code",
   "execution_count": 38,
   "metadata": {},
   "outputs": [
    {
     "data": {
      "text/plain": [
       "0       0.001828\n",
       "1       0.006423\n",
       "2       0.006303\n",
       "3       0.004023\n",
       "4       0.006321\n",
       "          ...   \n",
       "1060    0.000000\n",
       "1061    0.000833\n",
       "1062    0.000000\n",
       "1063    0.000320\n",
       "1064    0.000345\n",
       "Name: Importance, Length: 1065, dtype: float64"
      ]
     },
     "execution_count": 38,
     "metadata": {},
     "output_type": "execute_result"
    }
   ],
   "source": [
    "imp_df[\"Importance\"].astype(float)"
   ]
  },
  {
   "cell_type": "code",
   "execution_count": 39,
   "metadata": {},
   "outputs": [],
   "source": [
    "max_imp = imp_df.copy()\n",
    "max_imp = max_imp[max_imp[\"Importance\"]> 0.002]\n"
   ]
  },
  {
   "cell_type": "code",
   "execution_count": 40,
   "metadata": {},
   "outputs": [
    {
     "data": {
      "text/plain": [
       "(149, 2)"
      ]
     },
     "execution_count": 40,
     "metadata": {},
     "output_type": "execute_result"
    }
   ],
   "source": [
    "max_imp.shape"
   ]
  },
  {
   "cell_type": "code",
   "execution_count": 41,
   "metadata": {},
   "outputs": [],
   "source": [
    "imp_feat = max_imp[\"Feature_name\"]"
   ]
  },
  {
   "cell_type": "code",
   "execution_count": 51,
   "metadata": {},
   "outputs": [
    {
     "name": "stdout",
     "output_type": "stream",
     "text": [
      "(56068,)\n",
      "(56068, 149)\n"
     ]
    }
   ],
   "source": [
    "reduced_df = df_reducedrows.copy()\n",
    "x_reduced_df= reduced_df.loc[:, reduced_df.columns != 'covid_vaccination']\n",
    "y_reduced_df = reduced_df['covid_vaccination']\n",
    "y_reduced_df = [\"1\" if i == \"vacc\" else \"0\" for i in y_reduced_df]\n",
    "y_reduced_df = pd.Series(y_reduced_df)\n",
    "x_reduced_df = pd.get_dummies(x_reduced_df)\n",
    "x_reduced_df = x_reduced_df[imp_feat]\n",
    "print(y_reduced_df.shape)\n",
    "print(x_reduced_df.shape)\n",
    "\n"
   ]
  },
  {
   "cell_type": "code",
   "execution_count": 52,
   "metadata": {},
   "outputs": [
    {
     "name": "stdout",
     "output_type": "stream",
     "text": [
      "(44854, 149) (44854,) (11214, 149) (11214,)\n"
     ]
    }
   ],
   "source": [
    "x_rtrain,x_rtest,y_rtrain,y_rtest = train_test_split(x_reduced_df, y_reduced_df, test_size = 0.2, random_state = 42)\n",
    "print(x_rtrain.shape, y_rtrain.shape,x_rtest.shape,y_rtest.shape )\n"
   ]
  },
  {
   "cell_type": "code",
   "execution_count": 45,
   "metadata": {},
   "outputs": [
    {
     "data": {
      "text/plain": [
       "0.8167469234884965"
      ]
     },
     "execution_count": 45,
     "metadata": {},
     "output_type": "execute_result"
    }
   ],
   "source": [
    "rf1 = RandomForestClassifier(300)\n",
    "rf1.fit(x_rtrain,y_rtrain)\n",
    "y_rpred = rf1.predict(x_rtest)\n",
    "accuracy_score(y_rtest, y_rpred)"
   ]
  },
  {
   "cell_type": "code",
   "execution_count": 46,
   "metadata": {},
   "outputs": [
    {
     "name": "stderr",
     "output_type": "stream",
     "text": [
      "C:\\Users\\patri\\Anaconda3\\lib\\site-packages\\sklearn\\utils\\deprecation.py:87: FutureWarning: Function plot_roc_curve is deprecated; Function `plot_roc_curve` is deprecated in 1.0 and will be removed in 1.2. Use one of the class methods: RocCurveDisplay.from_predictions or RocCurveDisplay.from_estimator.\n",
      "  warnings.warn(msg, category=FutureWarning)\n"
     ]
    },
    {
     "data": {
      "image/png": "[encoded data removed]",
      "text/plain": [
       "<Figure size 432x288 with 1 Axes>"
      ]
     },
     "metadata": {
      "needs_background": "light"
     },
     "output_type": "display_data"
    }
   ],
   "source": [
    "plot_roc_curve(rf1, x_rtest, y_rtest) \n",
    "plt.show()"
   ]
  },
  {
   "cell_type": "raw",
   "metadata": {},
   "source": [
    "svm = make_pipeline(StandardScaler(), SVC())\n",
    "svm.fit(x_rtrain,y_rtrain)\n",
    "y_rpred = svm.predict(x_rtest)\n",
    "accuracy_score(y_rtest, y_rpred)"
   ]
  },
  {
   "cell_type": "raw",
   "metadata": {},
   "source": [
    "plot_roc_curve(svm, x_rtest, y_rtest) \n",
    "plt.show()"
   ]
  },
  {
   "cell_type": "code",
   "execution_count": 61,
   "metadata": {},
   "outputs": [],
   "source": [
    "import xgboost as xgb\n",
    "from xgboost.sklearn import XGBClassifier"
   ]
  },
  {
   "cell_type": "code",
   "execution_count": 63,
   "metadata": {},
   "outputs": [
    {
     "name": "stderr",
     "output_type": "stream",
     "text": [
      "C:\\Users\\patri\\Anaconda3\\lib\\site-packages\\xgboost\\sklearn.py:1146: UserWarning: The use of label encoder in XGBClassifier is deprecated and will be removed in a future release. To remove this warning, do the following: 1) Pass option use_label_encoder=False when constructing XGBClassifier object; and 2) Encode your labels (y) as integers starting with 0, i.e. 0, 1, 2, ..., [num_class - 1].\n",
      "  warnings.warn(label_encoder_deprecation_msg, UserWarning)\n"
     ]
    },
    {
     "name": "stdout",
     "output_type": "stream",
     "text": [
      "[10:12:54] WARNING: C:/Users/Administrator/workspace/xgboost-win64_release_1.4.0/src/learner.cc:1095: Starting in XGBoost 1.3.0, the default evaluation metric used with the objective 'binary:logistic' was changed from 'error' to 'logloss'. Explicitly set eval_metric if you'd like to restore the old behavior.\n"
     ]
    },
    {
     "name": "stderr",
     "output_type": "stream",
     "text": [
      "C:\\Users\\patri\\Anaconda3\\lib\\site-packages\\xgboost\\sklearn.py:1146: UserWarning: The use of label encoder in XGBClassifier is deprecated and will be removed in a future release. To remove this warning, do the following: 1) Pass option use_label_encoder=False when constructing XGBClassifier object; and 2) Encode your labels (y) as integers starting with 0, i.e. 0, 1, 2, ..., [num_class - 1].\n",
      "  warnings.warn(label_encoder_deprecation_msg, UserWarning)\n"
     ]
    },
    {
     "name": "stdout",
     "output_type": "stream",
     "text": [
      "[10:13:20] WARNING: C:/Users/Administrator/workspace/xgboost-win64_release_1.4.0/src/learner.cc:1095: Starting in XGBoost 1.3.0, the default evaluation metric used with the objective 'binary:logistic' was changed from 'error' to 'logloss'. Explicitly set eval_metric if you'd like to restore the old behavior.\n"
     ]
    },
    {
     "name": "stderr",
     "output_type": "stream",
     "text": [
      "C:\\Users\\patri\\Anaconda3\\lib\\site-packages\\xgboost\\sklearn.py:1146: UserWarning: The use of label encoder in XGBClassifier is deprecated and will be removed in a future release. To remove this warning, do the following: 1) Pass option use_label_encoder=False when constructing XGBClassifier object; and 2) Encode your labels (y) as integers starting with 0, i.e. 0, 1, 2, ..., [num_class - 1].\n",
      "  warnings.warn(label_encoder_deprecation_msg, UserWarning)\n"
     ]
    },
    {
     "name": "stdout",
     "output_type": "stream",
     "text": [
      "[10:13:47] WARNING: C:/Users/Administrator/workspace/xgboost-win64_release_1.4.0/src/learner.cc:1095: Starting in XGBoost 1.3.0, the default evaluation metric used with the objective 'binary:logistic' was changed from 'error' to 'logloss'. Explicitly set eval_metric if you'd like to restore the old behavior.\n"
     ]
    },
    {
     "name": "stderr",
     "output_type": "stream",
     "text": [
      "C:\\Users\\patri\\Anaconda3\\lib\\site-packages\\xgboost\\sklearn.py:1146: UserWarning: The use of label encoder in XGBClassifier is deprecated and will be removed in a future release. To remove this warning, do the following: 1) Pass option use_label_encoder=False when constructing XGBClassifier object; and 2) Encode your labels (y) as integers starting with 0, i.e. 0, 1, 2, ..., [num_class - 1].\n",
      "  warnings.warn(label_encoder_deprecation_msg, UserWarning)\n"
     ]
    },
    {
     "name": "stdout",
     "output_type": "stream",
     "text": [
      "[10:14:15] WARNING: C:/Users/Administrator/workspace/xgboost-win64_release_1.4.0/src/learner.cc:1095: Starting in XGBoost 1.3.0, the default evaluation metric used with the objective 'binary:logistic' was changed from 'error' to 'logloss'. Explicitly set eval_metric if you'd like to restore the old behavior.\n"
     ]
    },
    {
     "name": "stderr",
     "output_type": "stream",
     "text": [
      "C:\\Users\\patri\\Anaconda3\\lib\\site-packages\\xgboost\\sklearn.py:1146: UserWarning: The use of label encoder in XGBClassifier is deprecated and will be removed in a future release. To remove this warning, do the following: 1) Pass option use_label_encoder=False when constructing XGBClassifier object; and 2) Encode your labels (y) as integers starting with 0, i.e. 0, 1, 2, ..., [num_class - 1].\n",
      "  warnings.warn(label_encoder_deprecation_msg, UserWarning)\n"
     ]
    },
    {
     "name": "stdout",
     "output_type": "stream",
     "text": [
      "[10:14:42] WARNING: C:/Users/Administrator/workspace/xgboost-win64_release_1.4.0/src/learner.cc:1095: Starting in XGBoost 1.3.0, the default evaluation metric used with the objective 'binary:logistic' was changed from 'error' to 'logloss'. Explicitly set eval_metric if you'd like to restore the old behavior.\n"
     ]
    }
   ],
   "source": [
    "xgbC = XGBClassifier()\n",
    "scores = cross_val_score(xgbC,x_rtrain, y_rtrain)\n"
   ]
  },
  {
   "cell_type": "code",
   "execution_count": 64,
   "metadata": {},
   "outputs": [
    {
     "name": "stdout",
     "output_type": "stream",
     "text": [
      "[0.79857318 0.80158288 0.80080259 0.79991082 0.7960981 ]\n"
     ]
    }
   ],
   "source": [
    "print(scores)"
   ]
  },
  {
   "cell_type": "code",
   "execution_count": 68,
   "metadata": {},
   "outputs": [
    {
     "name": "stdout",
     "output_type": "stream",
     "text": [
      "[10:21:30] WARNING: C:/Users/Administrator/workspace/xgboost-win64_release_1.4.0/src/learner.cc:1095: Starting in XGBoost 1.3.0, the default evaluation metric used with the objective 'binary:logistic' was changed from 'error' to 'logloss'. Explicitly set eval_metric if you'd like to restore the old behavior.\n"
     ]
    }
   ],
   "source": [
    "xbC=xgbC.fit(x_rtrain, y_rtrain) \n"
   ]
  },
  {
   "cell_type": "code",
   "execution_count": 69,
   "metadata": {},
   "outputs": [
    {
     "data": {
      "image/png": "[encoded data removed]",
      "text/plain": [
       "<Figure size 432x288 with 1 Axes>"
      ]
     },
     "metadata": {
      "needs_background": "light"
     },
     "output_type": "display_data"
    }
   ],
   "source": [
    "plot_roc_curve(xbC, x_rtest, y_rtest) \n",
    "plt.show()"
   ]
  },
  {
   "cell_type": "code",
   "execution_count": null,
   "metadata": {},
   "outputs": [],
   "source": []
  },
  {
   "cell_type": "code",
   "execution_count": null,
   "metadata": {},
   "outputs": [],
   "source": []
  }
 ],
 "metadata": {
  "kernelspec": {
   "display_name": "Python 3",
   "language": "python",
   "name": "python3"
  },
  "language_info": {
   "codemirror_mode": {
    "name": "ipython",
    "version": 3
   },
   "file_extension": ".py",
   "mimetype": "text/x-python",
   "name": "python",
   "nbconvert_exporter": "python",
   "pygments_lexer": "ipython3",
   "version": "3.8.3"
  }
 },
 "nbformat": 4,
 "nbformat_minor": 4
}
